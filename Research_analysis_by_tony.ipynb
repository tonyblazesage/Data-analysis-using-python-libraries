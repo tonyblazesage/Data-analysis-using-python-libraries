{
  "cells": [
    {
      "cell_type": "code",
      "execution_count": 1,
      "metadata": {
        "id": "lPlLk0yf7AVf"
      },
      "outputs": [],
      "source": [
        "import pandas as pd\n",
        "import numpy as np\n",
        "import seaborn as sns\n",
        "import matplotlib.pyplot as plt\n",
        "import numpy as np\n"
      ]
    },
    {
      "cell_type": "markdown",
      "metadata": {
        "id": "_4VrdMowv7NS"
      },
      "source": [
        "# Question 5        \n",
        "\n",
        "\n",
        "With focus on the structural types identified from the question above, what floor types best suited the structural type?"
      ]
    },
    {
      "cell_type": "markdown",
      "metadata": {
        "id": "62v_ZX1d-BQ-"
      },
      "source": [
        "#5.1 READ DATA SET"
      ]
    },
    {
      "cell_type": "code",
      "execution_count": null,
      "metadata": {
        "colab": {
          "base_uri": "https://localhost:8080/"
        },
        "id": "Ae7PH8fnwL45",
        "outputId": "fc506666-d7f1-44c7-cb74-b596a29718af"
      },
      "outputs": [
        {
          "output_type": "execute_result",
          "data": {
            "text/html": [
              "<div>\n",
              "<style scoped>\n",
              "    .dataframe tbody tr th:only-of-type {\n",
              "        vertical-align: middle;\n",
              "    }\n",
              "\n",
              "    .dataframe tbody tr th {\n",
              "        vertical-align: top;\n",
              "    }\n",
              "\n",
              "    .dataframe thead th {\n",
              "        text-align: right;\n",
              "    }\n",
              "</style>\n",
              "<table border=\"1\" class=\"dataframe\">\n",
              "  <thead>\n",
              "    <tr style=\"text-align: right;\">\n",
              "      <th></th>\n",
              "      <th>building_id</th>\n",
              "      <th>geo_level_1_id</th>\n",
              "      <th>geo_level_2_id</th>\n",
              "      <th>geo_level_3_id</th>\n",
              "      <th>count_floors_pre_eq</th>\n",
              "      <th>age</th>\n",
              "      <th>area_percentage</th>\n",
              "      <th>height_percentage</th>\n",
              "      <th>land_surface_condition</th>\n",
              "      <th>foundation_type</th>\n",
              "      <th>roof_type</th>\n",
              "      <th>ground_floor_type</th>\n",
              "      <th>other_floor_type</th>\n",
              "      <th>position</th>\n",
              "      <th>plan_configuration</th>\n",
              "      <th>has_superstructure_adobe_mud</th>\n",
              "      <th>has_superstructure_mud_mortar_stone</th>\n",
              "      <th>has_superstructure_stone_flag</th>\n",
              "      <th>has_superstructure_cement_mortar_stone</th>\n",
              "      <th>has_superstructure_mud_mortar_brick</th>\n",
              "      <th>has_superstructure_cement_mortar_brick</th>\n",
              "      <th>has_superstructure_timber</th>\n",
              "      <th>has_superstructure_bamboo</th>\n",
              "      <th>has_superstructure_rc_non_engineered</th>\n",
              "      <th>has_superstructure_rc_engineered</th>\n",
              "      <th>has_superstructure_other</th>\n",
              "      <th>legal_ownership_status</th>\n",
              "      <th>count_families</th>\n",
              "      <th>has_secondary_use</th>\n",
              "      <th>has_secondary_use_agriculture</th>\n",
              "      <th>has_secondary_use_hotel</th>\n",
              "      <th>has_secondary_use_rental</th>\n",
              "      <th>has_secondary_use_institution</th>\n",
              "      <th>has_secondary_use_school</th>\n",
              "      <th>has_secondary_use_industry</th>\n",
              "      <th>has_secondary_use_health_post</th>\n",
              "      <th>has_secondary_use_gov_office</th>\n",
              "      <th>has_secondary_use_use_police</th>\n",
              "      <th>has_secondary_use_other</th>\n",
              "    </tr>\n",
              "  </thead>\n",
              "  <tbody>\n",
              "    <tr>\n",
              "      <th>0</th>\n",
              "      <td>802906</td>\n",
              "      <td>6</td>\n",
              "      <td>487</td>\n",
              "      <td>12198</td>\n",
              "      <td>2</td>\n",
              "      <td>30</td>\n",
              "      <td>6</td>\n",
              "      <td>5</td>\n",
              "      <td>t</td>\n",
              "      <td>r</td>\n",
              "      <td>n</td>\n",
              "      <td>f</td>\n",
              "      <td>q</td>\n",
              "      <td>t</td>\n",
              "      <td>d</td>\n",
              "      <td>1</td>\n",
              "      <td>1</td>\n",
              "      <td>0</td>\n",
              "      <td>0</td>\n",
              "      <td>0</td>\n",
              "      <td>0</td>\n",
              "      <td>0</td>\n",
              "      <td>0</td>\n",
              "      <td>0</td>\n",
              "      <td>0</td>\n",
              "      <td>0</td>\n",
              "      <td>v</td>\n",
              "      <td>1</td>\n",
              "      <td>0</td>\n",
              "      <td>0</td>\n",
              "      <td>0</td>\n",
              "      <td>0</td>\n",
              "      <td>0</td>\n",
              "      <td>0</td>\n",
              "      <td>0</td>\n",
              "      <td>0</td>\n",
              "      <td>0</td>\n",
              "      <td>0</td>\n",
              "      <td>0</td>\n",
              "    </tr>\n",
              "    <tr>\n",
              "      <th>1</th>\n",
              "      <td>28830</td>\n",
              "      <td>8</td>\n",
              "      <td>900</td>\n",
              "      <td>2812</td>\n",
              "      <td>2</td>\n",
              "      <td>10</td>\n",
              "      <td>8</td>\n",
              "      <td>7</td>\n",
              "      <td>o</td>\n",
              "      <td>r</td>\n",
              "      <td>n</td>\n",
              "      <td>x</td>\n",
              "      <td>q</td>\n",
              "      <td>s</td>\n",
              "      <td>d</td>\n",
              "      <td>0</td>\n",
              "      <td>1</td>\n",
              "      <td>0</td>\n",
              "      <td>0</td>\n",
              "      <td>0</td>\n",
              "      <td>0</td>\n",
              "      <td>0</td>\n",
              "      <td>0</td>\n",
              "      <td>0</td>\n",
              "      <td>0</td>\n",
              "      <td>0</td>\n",
              "      <td>v</td>\n",
              "      <td>1</td>\n",
              "      <td>0</td>\n",
              "      <td>0</td>\n",
              "      <td>0</td>\n",
              "      <td>0</td>\n",
              "      <td>0</td>\n",
              "      <td>0</td>\n",
              "      <td>0</td>\n",
              "      <td>0</td>\n",
              "      <td>0</td>\n",
              "      <td>0</td>\n",
              "      <td>0</td>\n",
              "    </tr>\n",
              "    <tr>\n",
              "      <th>2</th>\n",
              "      <td>94947</td>\n",
              "      <td>21</td>\n",
              "      <td>363</td>\n",
              "      <td>8973</td>\n",
              "      <td>2</td>\n",
              "      <td>10</td>\n",
              "      <td>5</td>\n",
              "      <td>5</td>\n",
              "      <td>t</td>\n",
              "      <td>r</td>\n",
              "      <td>n</td>\n",
              "      <td>f</td>\n",
              "      <td>x</td>\n",
              "      <td>t</td>\n",
              "      <td>d</td>\n",
              "      <td>0</td>\n",
              "      <td>1</td>\n",
              "      <td>0</td>\n",
              "      <td>0</td>\n",
              "      <td>0</td>\n",
              "      <td>0</td>\n",
              "      <td>0</td>\n",
              "      <td>0</td>\n",
              "      <td>0</td>\n",
              "      <td>0</td>\n",
              "      <td>0</td>\n",
              "      <td>v</td>\n",
              "      <td>1</td>\n",
              "      <td>0</td>\n",
              "      <td>0</td>\n",
              "      <td>0</td>\n",
              "      <td>0</td>\n",
              "      <td>0</td>\n",
              "      <td>0</td>\n",
              "      <td>0</td>\n",
              "      <td>0</td>\n",
              "      <td>0</td>\n",
              "      <td>0</td>\n",
              "      <td>0</td>\n",
              "    </tr>\n",
              "    <tr>\n",
              "      <th>3</th>\n",
              "      <td>590882</td>\n",
              "      <td>22</td>\n",
              "      <td>418</td>\n",
              "      <td>10694</td>\n",
              "      <td>2</td>\n",
              "      <td>10</td>\n",
              "      <td>6</td>\n",
              "      <td>5</td>\n",
              "      <td>t</td>\n",
              "      <td>r</td>\n",
              "      <td>n</td>\n",
              "      <td>f</td>\n",
              "      <td>x</td>\n",
              "      <td>s</td>\n",
              "      <td>d</td>\n",
              "      <td>0</td>\n",
              "      <td>1</td>\n",
              "      <td>0</td>\n",
              "      <td>0</td>\n",
              "      <td>0</td>\n",
              "      <td>0</td>\n",
              "      <td>1</td>\n",
              "      <td>1</td>\n",
              "      <td>0</td>\n",
              "      <td>0</td>\n",
              "      <td>0</td>\n",
              "      <td>v</td>\n",
              "      <td>1</td>\n",
              "      <td>0</td>\n",
              "      <td>0</td>\n",
              "      <td>0</td>\n",
              "      <td>0</td>\n",
              "      <td>0</td>\n",
              "      <td>0</td>\n",
              "      <td>0</td>\n",
              "      <td>0</td>\n",
              "      <td>0</td>\n",
              "      <td>0</td>\n",
              "      <td>0</td>\n",
              "    </tr>\n",
              "    <tr>\n",
              "      <th>4</th>\n",
              "      <td>201944</td>\n",
              "      <td>11</td>\n",
              "      <td>131</td>\n",
              "      <td>1488</td>\n",
              "      <td>3</td>\n",
              "      <td>30</td>\n",
              "      <td>8</td>\n",
              "      <td>9</td>\n",
              "      <td>t</td>\n",
              "      <td>r</td>\n",
              "      <td>n</td>\n",
              "      <td>f</td>\n",
              "      <td>x</td>\n",
              "      <td>s</td>\n",
              "      <td>d</td>\n",
              "      <td>1</td>\n",
              "      <td>0</td>\n",
              "      <td>0</td>\n",
              "      <td>0</td>\n",
              "      <td>0</td>\n",
              "      <td>0</td>\n",
              "      <td>0</td>\n",
              "      <td>0</td>\n",
              "      <td>0</td>\n",
              "      <td>0</td>\n",
              "      <td>0</td>\n",
              "      <td>v</td>\n",
              "      <td>1</td>\n",
              "      <td>0</td>\n",
              "      <td>0</td>\n",
              "      <td>0</td>\n",
              "      <td>0</td>\n",
              "      <td>0</td>\n",
              "      <td>0</td>\n",
              "      <td>0</td>\n",
              "      <td>0</td>\n",
              "      <td>0</td>\n",
              "      <td>0</td>\n",
              "      <td>0</td>\n",
              "    </tr>\n",
              "    <tr>\n",
              "      <th>...</th>\n",
              "      <td>...</td>\n",
              "      <td>...</td>\n",
              "      <td>...</td>\n",
              "      <td>...</td>\n",
              "      <td>...</td>\n",
              "      <td>...</td>\n",
              "      <td>...</td>\n",
              "      <td>...</td>\n",
              "      <td>...</td>\n",
              "      <td>...</td>\n",
              "      <td>...</td>\n",
              "      <td>...</td>\n",
              "      <td>...</td>\n",
              "      <td>...</td>\n",
              "      <td>...</td>\n",
              "      <td>...</td>\n",
              "      <td>...</td>\n",
              "      <td>...</td>\n",
              "      <td>...</td>\n",
              "      <td>...</td>\n",
              "      <td>...</td>\n",
              "      <td>...</td>\n",
              "      <td>...</td>\n",
              "      <td>...</td>\n",
              "      <td>...</td>\n",
              "      <td>...</td>\n",
              "      <td>...</td>\n",
              "      <td>...</td>\n",
              "      <td>...</td>\n",
              "      <td>...</td>\n",
              "      <td>...</td>\n",
              "      <td>...</td>\n",
              "      <td>...</td>\n",
              "      <td>...</td>\n",
              "      <td>...</td>\n",
              "      <td>...</td>\n",
              "      <td>...</td>\n",
              "      <td>...</td>\n",
              "      <td>...</td>\n",
              "    </tr>\n",
              "    <tr>\n",
              "      <th>260596</th>\n",
              "      <td>688636</td>\n",
              "      <td>25</td>\n",
              "      <td>1335</td>\n",
              "      <td>1621</td>\n",
              "      <td>1</td>\n",
              "      <td>55</td>\n",
              "      <td>6</td>\n",
              "      <td>3</td>\n",
              "      <td>n</td>\n",
              "      <td>r</td>\n",
              "      <td>n</td>\n",
              "      <td>f</td>\n",
              "      <td>j</td>\n",
              "      <td>s</td>\n",
              "      <td>q</td>\n",
              "      <td>0</td>\n",
              "      <td>1</td>\n",
              "      <td>0</td>\n",
              "      <td>0</td>\n",
              "      <td>0</td>\n",
              "      <td>0</td>\n",
              "      <td>0</td>\n",
              "      <td>0</td>\n",
              "      <td>0</td>\n",
              "      <td>0</td>\n",
              "      <td>0</td>\n",
              "      <td>v</td>\n",
              "      <td>1</td>\n",
              "      <td>0</td>\n",
              "      <td>0</td>\n",
              "      <td>0</td>\n",
              "      <td>0</td>\n",
              "      <td>0</td>\n",
              "      <td>0</td>\n",
              "      <td>0</td>\n",
              "      <td>0</td>\n",
              "      <td>0</td>\n",
              "      <td>0</td>\n",
              "      <td>0</td>\n",
              "    </tr>\n",
              "    <tr>\n",
              "      <th>260597</th>\n",
              "      <td>669485</td>\n",
              "      <td>17</td>\n",
              "      <td>715</td>\n",
              "      <td>2060</td>\n",
              "      <td>2</td>\n",
              "      <td>0</td>\n",
              "      <td>6</td>\n",
              "      <td>5</td>\n",
              "      <td>t</td>\n",
              "      <td>r</td>\n",
              "      <td>n</td>\n",
              "      <td>f</td>\n",
              "      <td>q</td>\n",
              "      <td>s</td>\n",
              "      <td>d</td>\n",
              "      <td>0</td>\n",
              "      <td>1</td>\n",
              "      <td>0</td>\n",
              "      <td>0</td>\n",
              "      <td>0</td>\n",
              "      <td>0</td>\n",
              "      <td>0</td>\n",
              "      <td>0</td>\n",
              "      <td>0</td>\n",
              "      <td>0</td>\n",
              "      <td>0</td>\n",
              "      <td>v</td>\n",
              "      <td>1</td>\n",
              "      <td>0</td>\n",
              "      <td>0</td>\n",
              "      <td>0</td>\n",
              "      <td>0</td>\n",
              "      <td>0</td>\n",
              "      <td>0</td>\n",
              "      <td>0</td>\n",
              "      <td>0</td>\n",
              "      <td>0</td>\n",
              "      <td>0</td>\n",
              "      <td>0</td>\n",
              "    </tr>\n",
              "    <tr>\n",
              "      <th>260598</th>\n",
              "      <td>602512</td>\n",
              "      <td>17</td>\n",
              "      <td>51</td>\n",
              "      <td>8163</td>\n",
              "      <td>3</td>\n",
              "      <td>55</td>\n",
              "      <td>6</td>\n",
              "      <td>7</td>\n",
              "      <td>t</td>\n",
              "      <td>r</td>\n",
              "      <td>q</td>\n",
              "      <td>f</td>\n",
              "      <td>q</td>\n",
              "      <td>s</td>\n",
              "      <td>d</td>\n",
              "      <td>0</td>\n",
              "      <td>1</td>\n",
              "      <td>0</td>\n",
              "      <td>0</td>\n",
              "      <td>0</td>\n",
              "      <td>0</td>\n",
              "      <td>0</td>\n",
              "      <td>0</td>\n",
              "      <td>0</td>\n",
              "      <td>0</td>\n",
              "      <td>0</td>\n",
              "      <td>v</td>\n",
              "      <td>1</td>\n",
              "      <td>0</td>\n",
              "      <td>0</td>\n",
              "      <td>0</td>\n",
              "      <td>0</td>\n",
              "      <td>0</td>\n",
              "      <td>0</td>\n",
              "      <td>0</td>\n",
              "      <td>0</td>\n",
              "      <td>0</td>\n",
              "      <td>0</td>\n",
              "      <td>0</td>\n",
              "    </tr>\n",
              "    <tr>\n",
              "      <th>260599</th>\n",
              "      <td>151409</td>\n",
              "      <td>26</td>\n",
              "      <td>39</td>\n",
              "      <td>1851</td>\n",
              "      <td>2</td>\n",
              "      <td>10</td>\n",
              "      <td>14</td>\n",
              "      <td>6</td>\n",
              "      <td>t</td>\n",
              "      <td>r</td>\n",
              "      <td>x</td>\n",
              "      <td>v</td>\n",
              "      <td>s</td>\n",
              "      <td>j</td>\n",
              "      <td>d</td>\n",
              "      <td>0</td>\n",
              "      <td>0</td>\n",
              "      <td>0</td>\n",
              "      <td>0</td>\n",
              "      <td>0</td>\n",
              "      <td>1</td>\n",
              "      <td>0</td>\n",
              "      <td>0</td>\n",
              "      <td>0</td>\n",
              "      <td>0</td>\n",
              "      <td>0</td>\n",
              "      <td>v</td>\n",
              "      <td>1</td>\n",
              "      <td>0</td>\n",
              "      <td>0</td>\n",
              "      <td>0</td>\n",
              "      <td>0</td>\n",
              "      <td>0</td>\n",
              "      <td>0</td>\n",
              "      <td>0</td>\n",
              "      <td>0</td>\n",
              "      <td>0</td>\n",
              "      <td>0</td>\n",
              "      <td>0</td>\n",
              "    </tr>\n",
              "    <tr>\n",
              "      <th>260600</th>\n",
              "      <td>747594</td>\n",
              "      <td>21</td>\n",
              "      <td>9</td>\n",
              "      <td>9101</td>\n",
              "      <td>3</td>\n",
              "      <td>10</td>\n",
              "      <td>7</td>\n",
              "      <td>6</td>\n",
              "      <td>n</td>\n",
              "      <td>r</td>\n",
              "      <td>n</td>\n",
              "      <td>f</td>\n",
              "      <td>q</td>\n",
              "      <td>j</td>\n",
              "      <td>d</td>\n",
              "      <td>0</td>\n",
              "      <td>1</td>\n",
              "      <td>0</td>\n",
              "      <td>0</td>\n",
              "      <td>0</td>\n",
              "      <td>0</td>\n",
              "      <td>0</td>\n",
              "      <td>0</td>\n",
              "      <td>0</td>\n",
              "      <td>0</td>\n",
              "      <td>0</td>\n",
              "      <td>v</td>\n",
              "      <td>3</td>\n",
              "      <td>0</td>\n",
              "      <td>0</td>\n",
              "      <td>0</td>\n",
              "      <td>0</td>\n",
              "      <td>0</td>\n",
              "      <td>0</td>\n",
              "      <td>0</td>\n",
              "      <td>0</td>\n",
              "      <td>0</td>\n",
              "      <td>0</td>\n",
              "      <td>0</td>\n",
              "    </tr>\n",
              "  </tbody>\n",
              "</table>\n",
              "<p>260601 rows × 39 columns</p>\n",
              "</div>"
            ],
            "text/plain": [
              "        building_id  ...  has_secondary_use_other\n",
              "0            802906  ...                        0\n",
              "1             28830  ...                        0\n",
              "2             94947  ...                        0\n",
              "3            590882  ...                        0\n",
              "4            201944  ...                        0\n",
              "...             ...  ...                      ...\n",
              "260596       688636  ...                        0\n",
              "260597       669485  ...                        0\n",
              "260598       602512  ...                        0\n",
              "260599       151409  ...                        0\n",
              "260600       747594  ...                        0\n",
              "\n",
              "[260601 rows x 39 columns]"
            ]
          },
          "metadata": {},
          "execution_count": 2
        }
      ],
      "source": [
        "#read the data set given\n",
        "#Input_data =pd.read_csv('input_features.csv')\n",
        "import requests\n",
        "from io import StringIO\n",
        "orig_url='https://drive.google.com/file/d/1diIY4R71InLOZXj60SRsONE_LLmufhJ7/view?usp=sharing' #link to input_features\n",
        "file_id = orig_url.split('/')[-2]\n",
        "dwn_url='https://drive.google.com/uc?export=download&id=' + file_id\n",
        "url2 = requests.get(dwn_url).text\n",
        "csv_raw = StringIO(url2)\n",
        "Input_data = pd.read_csv(csv_raw) #stored in dataframe Input_data\n",
        "\n",
        "\n",
        "Input_data\n"
      ]
    },
    {
      "cell_type": "code",
      "execution_count": null,
      "metadata": {
        "colab": {
          "base_uri": "https://localhost:8080/"
        },
        "id": "-Hts0dM8wqEW",
        "outputId": "1c2347e0-c8e5-412d-f2bd-2e49eb8a8823"
      },
      "outputs": [
        {
          "output_type": "execute_result",
          "data": {
            "text/html": [
              "<div>\n",
              "<style scoped>\n",
              "    .dataframe tbody tr th:only-of-type {\n",
              "        vertical-align: middle;\n",
              "    }\n",
              "\n",
              "    .dataframe tbody tr th {\n",
              "        vertical-align: top;\n",
              "    }\n",
              "\n",
              "    .dataframe thead th {\n",
              "        text-align: right;\n",
              "    }\n",
              "</style>\n",
              "<table border=\"1\" class=\"dataframe\">\n",
              "  <thead>\n",
              "    <tr style=\"text-align: right;\">\n",
              "      <th></th>\n",
              "      <th>building_id</th>\n",
              "      <th>damage_grade</th>\n",
              "    </tr>\n",
              "  </thead>\n",
              "  <tbody>\n",
              "    <tr>\n",
              "      <th>0</th>\n",
              "      <td>802906</td>\n",
              "      <td>3</td>\n",
              "    </tr>\n",
              "    <tr>\n",
              "      <th>1</th>\n",
              "      <td>28830</td>\n",
              "      <td>2</td>\n",
              "    </tr>\n",
              "    <tr>\n",
              "      <th>2</th>\n",
              "      <td>94947</td>\n",
              "      <td>3</td>\n",
              "    </tr>\n",
              "    <tr>\n",
              "      <th>3</th>\n",
              "      <td>590882</td>\n",
              "      <td>2</td>\n",
              "    </tr>\n",
              "    <tr>\n",
              "      <th>4</th>\n",
              "      <td>201944</td>\n",
              "      <td>3</td>\n",
              "    </tr>\n",
              "    <tr>\n",
              "      <th>...</th>\n",
              "      <td>...</td>\n",
              "      <td>...</td>\n",
              "    </tr>\n",
              "    <tr>\n",
              "      <th>260596</th>\n",
              "      <td>688636</td>\n",
              "      <td>2</td>\n",
              "    </tr>\n",
              "    <tr>\n",
              "      <th>260597</th>\n",
              "      <td>669485</td>\n",
              "      <td>3</td>\n",
              "    </tr>\n",
              "    <tr>\n",
              "      <th>260598</th>\n",
              "      <td>602512</td>\n",
              "      <td>3</td>\n",
              "    </tr>\n",
              "    <tr>\n",
              "      <th>260599</th>\n",
              "      <td>151409</td>\n",
              "      <td>2</td>\n",
              "    </tr>\n",
              "    <tr>\n",
              "      <th>260600</th>\n",
              "      <td>747594</td>\n",
              "      <td>3</td>\n",
              "    </tr>\n",
              "  </tbody>\n",
              "</table>\n",
              "<p>260601 rows × 2 columns</p>\n",
              "</div>"
            ],
            "text/plain": [
              "        building_id  damage_grade\n",
              "0            802906             3\n",
              "1             28830             2\n",
              "2             94947             3\n",
              "3            590882             2\n",
              "4            201944             3\n",
              "...             ...           ...\n",
              "260596       688636             2\n",
              "260597       669485             3\n",
              "260598       602512             3\n",
              "260599       151409             2\n",
              "260600       747594             3\n",
              "\n",
              "[260601 rows x 2 columns]"
            ]
          },
          "metadata": {},
          "execution_count": 3
        }
      ],
      "source": [
        "#read the target data set which contains damage grade for each building\n",
        "#Damage_gradedata =pd.read_csv('target_values.csv')\n",
        "orig_url='https://drive.google.com/file/d/1Wkl4AePRfPMQ4hkcfeYPLHCYaducZy6D/view?usp=sharing' #link to target_values\n",
        "file_id = orig_url.split('/')[-2]\n",
        "dwn_url='https://drive.google.com/uc?export=download&id=' + file_id\n",
        "url2 = requests.get(dwn_url).text\n",
        "csv_raw = StringIO(url2)\n",
        "Damage_gradedata = pd.read_csv(csv_raw) #stored in Dataframe damaged_gradedata\n",
        "Damage_gradedata\n"
      ]
    },
    {
      "cell_type": "markdown",
      "metadata": {
        "id": "C2C36iL2-OQc"
      },
      "source": [
        "#5.2. MERGE THE TWO FILES AFTER LOADING"
      ]
    },
    {
      "cell_type": "code",
      "execution_count": null,
      "metadata": {
        "colab": {
          "base_uri": "https://localhost:8080/"
        },
        "id": "87G1SmS9xVO-",
        "outputId": "8511f0bf-286c-47ff-c198-64214128c78f"
      },
      "outputs": [
        {
          "output_type": "execute_result",
          "data": {
            "text/html": [
              "<div>\n",
              "<style scoped>\n",
              "    .dataframe tbody tr th:only-of-type {\n",
              "        vertical-align: middle;\n",
              "    }\n",
              "\n",
              "    .dataframe tbody tr th {\n",
              "        vertical-align: top;\n",
              "    }\n",
              "\n",
              "    .dataframe thead th {\n",
              "        text-align: right;\n",
              "    }\n",
              "</style>\n",
              "<table border=\"1\" class=\"dataframe\">\n",
              "  <thead>\n",
              "    <tr style=\"text-align: right;\">\n",
              "      <th></th>\n",
              "      <th>building_id</th>\n",
              "      <th>geo_level_1_id</th>\n",
              "      <th>geo_level_2_id</th>\n",
              "      <th>geo_level_3_id</th>\n",
              "      <th>count_floors_pre_eq</th>\n",
              "      <th>age</th>\n",
              "      <th>area_percentage</th>\n",
              "      <th>height_percentage</th>\n",
              "      <th>land_surface_condition</th>\n",
              "      <th>foundation_type</th>\n",
              "      <th>roof_type</th>\n",
              "      <th>ground_floor_type</th>\n",
              "      <th>other_floor_type</th>\n",
              "      <th>position</th>\n",
              "      <th>plan_configuration</th>\n",
              "      <th>has_superstructure_adobe_mud</th>\n",
              "      <th>has_superstructure_mud_mortar_stone</th>\n",
              "      <th>has_superstructure_stone_flag</th>\n",
              "      <th>has_superstructure_cement_mortar_stone</th>\n",
              "      <th>has_superstructure_mud_mortar_brick</th>\n",
              "      <th>has_superstructure_cement_mortar_brick</th>\n",
              "      <th>has_superstructure_timber</th>\n",
              "      <th>has_superstructure_bamboo</th>\n",
              "      <th>has_superstructure_rc_non_engineered</th>\n",
              "      <th>has_superstructure_rc_engineered</th>\n",
              "      <th>has_superstructure_other</th>\n",
              "      <th>legal_ownership_status</th>\n",
              "      <th>count_families</th>\n",
              "      <th>has_secondary_use</th>\n",
              "      <th>has_secondary_use_agriculture</th>\n",
              "      <th>has_secondary_use_hotel</th>\n",
              "      <th>has_secondary_use_rental</th>\n",
              "      <th>has_secondary_use_institution</th>\n",
              "      <th>has_secondary_use_school</th>\n",
              "      <th>has_secondary_use_industry</th>\n",
              "      <th>has_secondary_use_health_post</th>\n",
              "      <th>has_secondary_use_gov_office</th>\n",
              "      <th>has_secondary_use_use_police</th>\n",
              "      <th>has_secondary_use_other</th>\n",
              "      <th>damage_grade</th>\n",
              "    </tr>\n",
              "  </thead>\n",
              "  <tbody>\n",
              "    <tr>\n",
              "      <th>0</th>\n",
              "      <td>802906</td>\n",
              "      <td>6</td>\n",
              "      <td>487</td>\n",
              "      <td>12198</td>\n",
              "      <td>2</td>\n",
              "      <td>30</td>\n",
              "      <td>6</td>\n",
              "      <td>5</td>\n",
              "      <td>t</td>\n",
              "      <td>r</td>\n",
              "      <td>n</td>\n",
              "      <td>f</td>\n",
              "      <td>q</td>\n",
              "      <td>t</td>\n",
              "      <td>d</td>\n",
              "      <td>1</td>\n",
              "      <td>1</td>\n",
              "      <td>0</td>\n",
              "      <td>0</td>\n",
              "      <td>0</td>\n",
              "      <td>0</td>\n",
              "      <td>0</td>\n",
              "      <td>0</td>\n",
              "      <td>0</td>\n",
              "      <td>0</td>\n",
              "      <td>0</td>\n",
              "      <td>v</td>\n",
              "      <td>1</td>\n",
              "      <td>0</td>\n",
              "      <td>0</td>\n",
              "      <td>0</td>\n",
              "      <td>0</td>\n",
              "      <td>0</td>\n",
              "      <td>0</td>\n",
              "      <td>0</td>\n",
              "      <td>0</td>\n",
              "      <td>0</td>\n",
              "      <td>0</td>\n",
              "      <td>0</td>\n",
              "      <td>3</td>\n",
              "    </tr>\n",
              "    <tr>\n",
              "      <th>1</th>\n",
              "      <td>28830</td>\n",
              "      <td>8</td>\n",
              "      <td>900</td>\n",
              "      <td>2812</td>\n",
              "      <td>2</td>\n",
              "      <td>10</td>\n",
              "      <td>8</td>\n",
              "      <td>7</td>\n",
              "      <td>o</td>\n",
              "      <td>r</td>\n",
              "      <td>n</td>\n",
              "      <td>x</td>\n",
              "      <td>q</td>\n",
              "      <td>s</td>\n",
              "      <td>d</td>\n",
              "      <td>0</td>\n",
              "      <td>1</td>\n",
              "      <td>0</td>\n",
              "      <td>0</td>\n",
              "      <td>0</td>\n",
              "      <td>0</td>\n",
              "      <td>0</td>\n",
              "      <td>0</td>\n",
              "      <td>0</td>\n",
              "      <td>0</td>\n",
              "      <td>0</td>\n",
              "      <td>v</td>\n",
              "      <td>1</td>\n",
              "      <td>0</td>\n",
              "      <td>0</td>\n",
              "      <td>0</td>\n",
              "      <td>0</td>\n",
              "      <td>0</td>\n",
              "      <td>0</td>\n",
              "      <td>0</td>\n",
              "      <td>0</td>\n",
              "      <td>0</td>\n",
              "      <td>0</td>\n",
              "      <td>0</td>\n",
              "      <td>2</td>\n",
              "    </tr>\n",
              "    <tr>\n",
              "      <th>2</th>\n",
              "      <td>94947</td>\n",
              "      <td>21</td>\n",
              "      <td>363</td>\n",
              "      <td>8973</td>\n",
              "      <td>2</td>\n",
              "      <td>10</td>\n",
              "      <td>5</td>\n",
              "      <td>5</td>\n",
              "      <td>t</td>\n",
              "      <td>r</td>\n",
              "      <td>n</td>\n",
              "      <td>f</td>\n",
              "      <td>x</td>\n",
              "      <td>t</td>\n",
              "      <td>d</td>\n",
              "      <td>0</td>\n",
              "      <td>1</td>\n",
              "      <td>0</td>\n",
              "      <td>0</td>\n",
              "      <td>0</td>\n",
              "      <td>0</td>\n",
              "      <td>0</td>\n",
              "      <td>0</td>\n",
              "      <td>0</td>\n",
              "      <td>0</td>\n",
              "      <td>0</td>\n",
              "      <td>v</td>\n",
              "      <td>1</td>\n",
              "      <td>0</td>\n",
              "      <td>0</td>\n",
              "      <td>0</td>\n",
              "      <td>0</td>\n",
              "      <td>0</td>\n",
              "      <td>0</td>\n",
              "      <td>0</td>\n",
              "      <td>0</td>\n",
              "      <td>0</td>\n",
              "      <td>0</td>\n",
              "      <td>0</td>\n",
              "      <td>3</td>\n",
              "    </tr>\n",
              "    <tr>\n",
              "      <th>3</th>\n",
              "      <td>590882</td>\n",
              "      <td>22</td>\n",
              "      <td>418</td>\n",
              "      <td>10694</td>\n",
              "      <td>2</td>\n",
              "      <td>10</td>\n",
              "      <td>6</td>\n",
              "      <td>5</td>\n",
              "      <td>t</td>\n",
              "      <td>r</td>\n",
              "      <td>n</td>\n",
              "      <td>f</td>\n",
              "      <td>x</td>\n",
              "      <td>s</td>\n",
              "      <td>d</td>\n",
              "      <td>0</td>\n",
              "      <td>1</td>\n",
              "      <td>0</td>\n",
              "      <td>0</td>\n",
              "      <td>0</td>\n",
              "      <td>0</td>\n",
              "      <td>1</td>\n",
              "      <td>1</td>\n",
              "      <td>0</td>\n",
              "      <td>0</td>\n",
              "      <td>0</td>\n",
              "      <td>v</td>\n",
              "      <td>1</td>\n",
              "      <td>0</td>\n",
              "      <td>0</td>\n",
              "      <td>0</td>\n",
              "      <td>0</td>\n",
              "      <td>0</td>\n",
              "      <td>0</td>\n",
              "      <td>0</td>\n",
              "      <td>0</td>\n",
              "      <td>0</td>\n",
              "      <td>0</td>\n",
              "      <td>0</td>\n",
              "      <td>2</td>\n",
              "    </tr>\n",
              "    <tr>\n",
              "      <th>4</th>\n",
              "      <td>201944</td>\n",
              "      <td>11</td>\n",
              "      <td>131</td>\n",
              "      <td>1488</td>\n",
              "      <td>3</td>\n",
              "      <td>30</td>\n",
              "      <td>8</td>\n",
              "      <td>9</td>\n",
              "      <td>t</td>\n",
              "      <td>r</td>\n",
              "      <td>n</td>\n",
              "      <td>f</td>\n",
              "      <td>x</td>\n",
              "      <td>s</td>\n",
              "      <td>d</td>\n",
              "      <td>1</td>\n",
              "      <td>0</td>\n",
              "      <td>0</td>\n",
              "      <td>0</td>\n",
              "      <td>0</td>\n",
              "      <td>0</td>\n",
              "      <td>0</td>\n",
              "      <td>0</td>\n",
              "      <td>0</td>\n",
              "      <td>0</td>\n",
              "      <td>0</td>\n",
              "      <td>v</td>\n",
              "      <td>1</td>\n",
              "      <td>0</td>\n",
              "      <td>0</td>\n",
              "      <td>0</td>\n",
              "      <td>0</td>\n",
              "      <td>0</td>\n",
              "      <td>0</td>\n",
              "      <td>0</td>\n",
              "      <td>0</td>\n",
              "      <td>0</td>\n",
              "      <td>0</td>\n",
              "      <td>0</td>\n",
              "      <td>3</td>\n",
              "    </tr>\n",
              "    <tr>\n",
              "      <th>...</th>\n",
              "      <td>...</td>\n",
              "      <td>...</td>\n",
              "      <td>...</td>\n",
              "      <td>...</td>\n",
              "      <td>...</td>\n",
              "      <td>...</td>\n",
              "      <td>...</td>\n",
              "      <td>...</td>\n",
              "      <td>...</td>\n",
              "      <td>...</td>\n",
              "      <td>...</td>\n",
              "      <td>...</td>\n",
              "      <td>...</td>\n",
              "      <td>...</td>\n",
              "      <td>...</td>\n",
              "      <td>...</td>\n",
              "      <td>...</td>\n",
              "      <td>...</td>\n",
              "      <td>...</td>\n",
              "      <td>...</td>\n",
              "      <td>...</td>\n",
              "      <td>...</td>\n",
              "      <td>...</td>\n",
              "      <td>...</td>\n",
              "      <td>...</td>\n",
              "      <td>...</td>\n",
              "      <td>...</td>\n",
              "      <td>...</td>\n",
              "      <td>...</td>\n",
              "      <td>...</td>\n",
              "      <td>...</td>\n",
              "      <td>...</td>\n",
              "      <td>...</td>\n",
              "      <td>...</td>\n",
              "      <td>...</td>\n",
              "      <td>...</td>\n",
              "      <td>...</td>\n",
              "      <td>...</td>\n",
              "      <td>...</td>\n",
              "      <td>...</td>\n",
              "    </tr>\n",
              "    <tr>\n",
              "      <th>260596</th>\n",
              "      <td>688636</td>\n",
              "      <td>25</td>\n",
              "      <td>1335</td>\n",
              "      <td>1621</td>\n",
              "      <td>1</td>\n",
              "      <td>55</td>\n",
              "      <td>6</td>\n",
              "      <td>3</td>\n",
              "      <td>n</td>\n",
              "      <td>r</td>\n",
              "      <td>n</td>\n",
              "      <td>f</td>\n",
              "      <td>j</td>\n",
              "      <td>s</td>\n",
              "      <td>q</td>\n",
              "      <td>0</td>\n",
              "      <td>1</td>\n",
              "      <td>0</td>\n",
              "      <td>0</td>\n",
              "      <td>0</td>\n",
              "      <td>0</td>\n",
              "      <td>0</td>\n",
              "      <td>0</td>\n",
              "      <td>0</td>\n",
              "      <td>0</td>\n",
              "      <td>0</td>\n",
              "      <td>v</td>\n",
              "      <td>1</td>\n",
              "      <td>0</td>\n",
              "      <td>0</td>\n",
              "      <td>0</td>\n",
              "      <td>0</td>\n",
              "      <td>0</td>\n",
              "      <td>0</td>\n",
              "      <td>0</td>\n",
              "      <td>0</td>\n",
              "      <td>0</td>\n",
              "      <td>0</td>\n",
              "      <td>0</td>\n",
              "      <td>2</td>\n",
              "    </tr>\n",
              "    <tr>\n",
              "      <th>260597</th>\n",
              "      <td>669485</td>\n",
              "      <td>17</td>\n",
              "      <td>715</td>\n",
              "      <td>2060</td>\n",
              "      <td>2</td>\n",
              "      <td>0</td>\n",
              "      <td>6</td>\n",
              "      <td>5</td>\n",
              "      <td>t</td>\n",
              "      <td>r</td>\n",
              "      <td>n</td>\n",
              "      <td>f</td>\n",
              "      <td>q</td>\n",
              "      <td>s</td>\n",
              "      <td>d</td>\n",
              "      <td>0</td>\n",
              "      <td>1</td>\n",
              "      <td>0</td>\n",
              "      <td>0</td>\n",
              "      <td>0</td>\n",
              "      <td>0</td>\n",
              "      <td>0</td>\n",
              "      <td>0</td>\n",
              "      <td>0</td>\n",
              "      <td>0</td>\n",
              "      <td>0</td>\n",
              "      <td>v</td>\n",
              "      <td>1</td>\n",
              "      <td>0</td>\n",
              "      <td>0</td>\n",
              "      <td>0</td>\n",
              "      <td>0</td>\n",
              "      <td>0</td>\n",
              "      <td>0</td>\n",
              "      <td>0</td>\n",
              "      <td>0</td>\n",
              "      <td>0</td>\n",
              "      <td>0</td>\n",
              "      <td>0</td>\n",
              "      <td>3</td>\n",
              "    </tr>\n",
              "    <tr>\n",
              "      <th>260598</th>\n",
              "      <td>602512</td>\n",
              "      <td>17</td>\n",
              "      <td>51</td>\n",
              "      <td>8163</td>\n",
              "      <td>3</td>\n",
              "      <td>55</td>\n",
              "      <td>6</td>\n",
              "      <td>7</td>\n",
              "      <td>t</td>\n",
              "      <td>r</td>\n",
              "      <td>q</td>\n",
              "      <td>f</td>\n",
              "      <td>q</td>\n",
              "      <td>s</td>\n",
              "      <td>d</td>\n",
              "      <td>0</td>\n",
              "      <td>1</td>\n",
              "      <td>0</td>\n",
              "      <td>0</td>\n",
              "      <td>0</td>\n",
              "      <td>0</td>\n",
              "      <td>0</td>\n",
              "      <td>0</td>\n",
              "      <td>0</td>\n",
              "      <td>0</td>\n",
              "      <td>0</td>\n",
              "      <td>v</td>\n",
              "      <td>1</td>\n",
              "      <td>0</td>\n",
              "      <td>0</td>\n",
              "      <td>0</td>\n",
              "      <td>0</td>\n",
              "      <td>0</td>\n",
              "      <td>0</td>\n",
              "      <td>0</td>\n",
              "      <td>0</td>\n",
              "      <td>0</td>\n",
              "      <td>0</td>\n",
              "      <td>0</td>\n",
              "      <td>3</td>\n",
              "    </tr>\n",
              "    <tr>\n",
              "      <th>260599</th>\n",
              "      <td>151409</td>\n",
              "      <td>26</td>\n",
              "      <td>39</td>\n",
              "      <td>1851</td>\n",
              "      <td>2</td>\n",
              "      <td>10</td>\n",
              "      <td>14</td>\n",
              "      <td>6</td>\n",
              "      <td>t</td>\n",
              "      <td>r</td>\n",
              "      <td>x</td>\n",
              "      <td>v</td>\n",
              "      <td>s</td>\n",
              "      <td>j</td>\n",
              "      <td>d</td>\n",
              "      <td>0</td>\n",
              "      <td>0</td>\n",
              "      <td>0</td>\n",
              "      <td>0</td>\n",
              "      <td>0</td>\n",
              "      <td>1</td>\n",
              "      <td>0</td>\n",
              "      <td>0</td>\n",
              "      <td>0</td>\n",
              "      <td>0</td>\n",
              "      <td>0</td>\n",
              "      <td>v</td>\n",
              "      <td>1</td>\n",
              "      <td>0</td>\n",
              "      <td>0</td>\n",
              "      <td>0</td>\n",
              "      <td>0</td>\n",
              "      <td>0</td>\n",
              "      <td>0</td>\n",
              "      <td>0</td>\n",
              "      <td>0</td>\n",
              "      <td>0</td>\n",
              "      <td>0</td>\n",
              "      <td>0</td>\n",
              "      <td>2</td>\n",
              "    </tr>\n",
              "    <tr>\n",
              "      <th>260600</th>\n",
              "      <td>747594</td>\n",
              "      <td>21</td>\n",
              "      <td>9</td>\n",
              "      <td>9101</td>\n",
              "      <td>3</td>\n",
              "      <td>10</td>\n",
              "      <td>7</td>\n",
              "      <td>6</td>\n",
              "      <td>n</td>\n",
              "      <td>r</td>\n",
              "      <td>n</td>\n",
              "      <td>f</td>\n",
              "      <td>q</td>\n",
              "      <td>j</td>\n",
              "      <td>d</td>\n",
              "      <td>0</td>\n",
              "      <td>1</td>\n",
              "      <td>0</td>\n",
              "      <td>0</td>\n",
              "      <td>0</td>\n",
              "      <td>0</td>\n",
              "      <td>0</td>\n",
              "      <td>0</td>\n",
              "      <td>0</td>\n",
              "      <td>0</td>\n",
              "      <td>0</td>\n",
              "      <td>v</td>\n",
              "      <td>3</td>\n",
              "      <td>0</td>\n",
              "      <td>0</td>\n",
              "      <td>0</td>\n",
              "      <td>0</td>\n",
              "      <td>0</td>\n",
              "      <td>0</td>\n",
              "      <td>0</td>\n",
              "      <td>0</td>\n",
              "      <td>0</td>\n",
              "      <td>0</td>\n",
              "      <td>0</td>\n",
              "      <td>3</td>\n",
              "    </tr>\n",
              "  </tbody>\n",
              "</table>\n",
              "<p>260601 rows × 40 columns</p>\n",
              "</div>"
            ],
            "text/plain": [
              "        building_id  geo_level_1_id  ...  has_secondary_use_other  damage_grade\n",
              "0            802906               6  ...                        0             3\n",
              "1             28830               8  ...                        0             2\n",
              "2             94947              21  ...                        0             3\n",
              "3            590882              22  ...                        0             2\n",
              "4            201944              11  ...                        0             3\n",
              "...             ...             ...  ...                      ...           ...\n",
              "260596       688636              25  ...                        0             2\n",
              "260597       669485              17  ...                        0             3\n",
              "260598       602512              17  ...                        0             3\n",
              "260599       151409              26  ...                        0             2\n",
              "260600       747594              21  ...                        0             3\n",
              "\n",
              "[260601 rows x 40 columns]"
            ]
          },
          "metadata": {},
          "execution_count": 4
        }
      ],
      "source": [
        "# merging the two data sets given\n",
        "Merge_data =pd.merge(Input_data,Damage_gradedata,on='building_id')\n",
        "Merge_data"
      ]
    },
    {
      "cell_type": "code",
      "execution_count": null,
      "metadata": {
        "id": "pCm8O9xbUh2R"
      },
      "outputs": [],
      "source": [
        "categorial_dtype = ['land_surface_condition', 'foundation_type','roof_type', 'ground_floor_type','other_floor_type', 'position', 'plan_configuration', 'legal_ownership_status']\n",
        "\n",
        "Merge_data[categorial_dtype] = Merge_data[categorial_dtype].astype('category')"
      ]
    },
    {
      "cell_type": "code",
      "execution_count": null,
      "metadata": {
        "id": "VZ8ah78tVphd"
      },
      "outputs": [],
      "source": [
        "binary_dtype = ['has_superstructure_adobe_mud', 'has_superstructure_mud_mortar_stone' , 'has_superstructure_stone_flag', 'has_superstructure_cement_mortar_stone','has_superstructure_mud_mortar_brick','has_superstructure_cement_mortar_brick' , 'has_superstructure_timber', 'has_superstructure_bamboo','has_superstructure_rc_non_engineered', 'has_superstructure_rc_engineered','has_superstructure_other','has_secondary_use','has_secondary_use_agriculture','has_secondary_use_hotel','has_secondary_use_rental','has_secondary_use_institution','has_secondary_use_school','has_secondary_use_industry','has_secondary_use_health_post','has_secondary_use_gov_office','has_secondary_use_use_police','has_secondary_use_other']\n",
        "\n",
        "Merge_data[binary_dtype] = Merge_data[binary_dtype].astype('boolean')"
      ]
    },
    {
      "cell_type": "code",
      "execution_count": null,
      "metadata": {
        "colab": {
          "base_uri": "https://localhost:8080/"
        },
        "id": "0egFF2PtVAuz",
        "outputId": "0a2c89bd-54f8-4d26-fda9-5430ccf7c093"
      },
      "outputs": [
        {
          "output_type": "execute_result",
          "data": {
            "text/plain": [
              "building_id                                  int64\n",
              "geo_level_1_id                               int64\n",
              "geo_level_2_id                               int64\n",
              "geo_level_3_id                               int64\n",
              "count_floors_pre_eq                          int64\n",
              "age                                          int64\n",
              "area_percentage                              int64\n",
              "height_percentage                            int64\n",
              "land_surface_condition                    category\n",
              "foundation_type                           category\n",
              "roof_type                                 category\n",
              "ground_floor_type                         category\n",
              "other_floor_type                          category\n",
              "position                                  category\n",
              "plan_configuration                        category\n",
              "has_superstructure_adobe_mud               boolean\n",
              "has_superstructure_mud_mortar_stone        boolean\n",
              "has_superstructure_stone_flag              boolean\n",
              "has_superstructure_cement_mortar_stone     boolean\n",
              "has_superstructure_mud_mortar_brick        boolean\n",
              "has_superstructure_cement_mortar_brick     boolean\n",
              "has_superstructure_timber                  boolean\n",
              "has_superstructure_bamboo                  boolean\n",
              "has_superstructure_rc_non_engineered       boolean\n",
              "has_superstructure_rc_engineered           boolean\n",
              "has_superstructure_other                   boolean\n",
              "legal_ownership_status                    category\n",
              "count_families                               int64\n",
              "has_secondary_use                          boolean\n",
              "has_secondary_use_agriculture              boolean\n",
              "has_secondary_use_hotel                    boolean\n",
              "has_secondary_use_rental                   boolean\n",
              "has_secondary_use_institution              boolean\n",
              "has_secondary_use_school                   boolean\n",
              "has_secondary_use_industry                 boolean\n",
              "has_secondary_use_health_post              boolean\n",
              "has_secondary_use_gov_office               boolean\n",
              "has_secondary_use_use_police               boolean\n",
              "has_secondary_use_other                    boolean\n",
              "damage_grade                                 int64\n",
              "dtype: object"
            ]
          },
          "metadata": {},
          "execution_count": 7
        }
      ],
      "source": [
        "Merge_data.dtypes"
      ]
    },
    {
      "cell_type": "markdown",
      "metadata": {
        "id": "cZi1USM8-asy"
      },
      "source": [
        "A. GET THE COLUMNS OF THE MERGED DATA SET"
      ]
    },
    {
      "cell_type": "code",
      "execution_count": null,
      "metadata": {
        "colab": {
          "base_uri": "https://localhost:8080/"
        },
        "id": "KTbiN7uxxzTH",
        "outputId": "6934fd50-19fd-494c-bc7f-25c071c8b279"
      },
      "outputs": [
        {
          "output_type": "execute_result",
          "data": {
            "text/plain": [
              "Index(['building_id', 'geo_level_1_id', 'geo_level_2_id', 'geo_level_3_id',\n",
              "       'count_floors_pre_eq', 'age', 'area_percentage', 'height_percentage',\n",
              "       'land_surface_condition', 'foundation_type', 'roof_type',\n",
              "       'ground_floor_type', 'other_floor_type', 'position',\n",
              "       'plan_configuration', 'has_superstructure_adobe_mud',\n",
              "       'has_superstructure_mud_mortar_stone', 'has_superstructure_stone_flag',\n",
              "       'has_superstructure_cement_mortar_stone',\n",
              "       'has_superstructure_mud_mortar_brick',\n",
              "       'has_superstructure_cement_mortar_brick', 'has_superstructure_timber',\n",
              "       'has_superstructure_bamboo', 'has_superstructure_rc_non_engineered',\n",
              "       'has_superstructure_rc_engineered', 'has_superstructure_other',\n",
              "       'legal_ownership_status', 'count_families', 'has_secondary_use',\n",
              "       'has_secondary_use_agriculture', 'has_secondary_use_hotel',\n",
              "       'has_secondary_use_rental', 'has_secondary_use_institution',\n",
              "       'has_secondary_use_school', 'has_secondary_use_industry',\n",
              "       'has_secondary_use_health_post', 'has_secondary_use_gov_office',\n",
              "       'has_secondary_use_use_police', 'has_secondary_use_other',\n",
              "       'damage_grade'],\n",
              "      dtype='object')"
            ]
          },
          "metadata": {},
          "execution_count": 8
        }
      ],
      "source": [
        "#print the columns of the merged data set\n",
        "Merge_data.columns"
      ]
    },
    {
      "cell_type": "markdown",
      "metadata": {
        "id": "gK_-G4Ut-j8W"
      },
      "source": [
        "#5.4. SELECT THE COLUMNS NEEDED FOR FINDING THE BEST FLOOR TYPE TO USE"
      ]
    },
    {
      "cell_type": "code",
      "execution_count": null,
      "metadata": {
        "colab": {
          "base_uri": "https://localhost:8080/"
        },
        "id": "d_VhDh_Ryn7v",
        "outputId": "405b1489-5e5f-476b-8088-2bb7f4717f57"
      },
      "outputs": [
        {
          "output_type": "stream",
          "name": "stdout",
          "text": [
            "        building_id  ...  damage_grade\n",
            "0            802906  ...             3\n",
            "1             28830  ...             2\n",
            "2             94947  ...             3\n",
            "3            590882  ...             2\n",
            "4            201944  ...             3\n",
            "...             ...  ...           ...\n",
            "260596       688636  ...             2\n",
            "260597       669485  ...             3\n",
            "260598       602512  ...             3\n",
            "260599       151409  ...             2\n",
            "260600       747594  ...             3\n",
            "\n",
            "[260601 rows x 15 columns]\n"
          ]
        }
      ],
      "source": [
        "# select the needed columns for analysis\n",
        "New_dataset=Merge_data[['building_id','has_superstructure_adobe_mud',\n",
        "       'has_superstructure_mud_mortar_stone', 'has_superstructure_stone_flag',\n",
        "       'has_superstructure_cement_mortar_stone',\n",
        "       'has_superstructure_mud_mortar_brick',\n",
        "       'has_superstructure_cement_mortar_brick', 'has_superstructure_timber',\n",
        "       'has_superstructure_bamboo', 'has_superstructure_rc_non_engineered',\n",
        "       'has_superstructure_rc_engineered', 'has_superstructure_other','ground_floor_type', 'other_floor_type',\n",
        "       'damage_grade']]\n",
        "print(New_dataset)"
      ]
    },
    {
      "cell_type": "markdown",
      "metadata": {
        "id": "DrFFUo_F-1Uz"
      },
      "source": [
        "#5.5. GET THE CLASS TYPE, INFORMATION, SHAPE AND DESCRIPTION OF THE DATASET"
      ]
    },
    {
      "cell_type": "code",
      "execution_count": null,
      "metadata": {
        "colab": {
          "base_uri": "https://localhost:8080/"
        },
        "id": "NkQXJILl3Q7f",
        "outputId": "2e26d074-e050-4ad8-a690-b84fd7e29875"
      },
      "outputs": [
        {
          "output_type": "execute_result",
          "data": {
            "text/plain": [
              "pandas.core.frame.DataFrame"
            ]
          },
          "metadata": {},
          "execution_count": 11
        }
      ],
      "source": [
        "#find out the class type of the data set which is a data frame\n",
        "type(New_dataset)"
      ]
    },
    {
      "cell_type": "markdown",
      "metadata": {
        "id": "8QxYory8-7aj"
      },
      "source": [
        ""
      ]
    },
    {
      "cell_type": "code",
      "execution_count": null,
      "metadata": {
        "colab": {
          "base_uri": "https://localhost:8080/"
        },
        "id": "G-8KXaNS3tay",
        "outputId": "27c1a9d9-8a9d-4d7d-fac2-47769fce8365"
      },
      "outputs": [
        {
          "output_type": "stream",
          "name": "stdout",
          "text": [
            "<class 'pandas.core.frame.DataFrame'>\n",
            "Int64Index: 260601 entries, 0 to 260600\n",
            "Data columns (total 15 columns):\n",
            " #   Column                                  Non-Null Count   Dtype   \n",
            "---  ------                                  --------------   -----   \n",
            " 0   building_id                             260601 non-null  int64   \n",
            " 1   has_superstructure_adobe_mud            260601 non-null  boolean \n",
            " 2   has_superstructure_mud_mortar_stone     260601 non-null  boolean \n",
            " 3   has_superstructure_stone_flag           260601 non-null  boolean \n",
            " 4   has_superstructure_cement_mortar_stone  260601 non-null  boolean \n",
            " 5   has_superstructure_mud_mortar_brick     260601 non-null  boolean \n",
            " 6   has_superstructure_cement_mortar_brick  260601 non-null  boolean \n",
            " 7   has_superstructure_timber               260601 non-null  boolean \n",
            " 8   has_superstructure_bamboo               260601 non-null  boolean \n",
            " 9   has_superstructure_rc_non_engineered    260601 non-null  boolean \n",
            " 10  has_superstructure_rc_engineered        260601 non-null  boolean \n",
            " 11  has_superstructure_other                260601 non-null  boolean \n",
            " 12  ground_floor_type                       260601 non-null  category\n",
            " 13  other_floor_type                        260601 non-null  category\n",
            " 14  damage_grade                            260601 non-null  int64   \n",
            "dtypes: boolean(11), category(2), int64(2)\n",
            "memory usage: 11.9 MB\n"
          ]
        }
      ],
      "source": [
        "#let us get the basic information about the data set\n",
        "New_dataset.info()\n"
      ]
    },
    {
      "cell_type": "code",
      "execution_count": null,
      "metadata": {
        "colab": {
          "base_uri": "https://localhost:8080/"
        },
        "id": "BI0SXgJv4ajP",
        "outputId": "4968156f-828f-4b53-b2f7-3e2ccbf531b2"
      },
      "outputs": [
        {
          "output_type": "execute_result",
          "data": {
            "text/plain": [
              "(260601, 15)"
            ]
          },
          "metadata": {},
          "execution_count": 13
        }
      ],
      "source": [
        "# let us find the shape of the data frame\n",
        "New_dataset.shape"
      ]
    },
    {
      "cell_type": "code",
      "execution_count": null,
      "metadata": {
        "colab": {
          "base_uri": "https://localhost:8080/"
        },
        "id": "5AerIJaY4bPR",
        "outputId": "02e52aef-8057-45d5-b8c7-7ea802b12288"
      },
      "outputs": [
        {
          "output_type": "execute_result",
          "data": {
            "text/html": [
              "<div>\n",
              "<style scoped>\n",
              "    .dataframe tbody tr th:only-of-type {\n",
              "        vertical-align: middle;\n",
              "    }\n",
              "\n",
              "    .dataframe tbody tr th {\n",
              "        vertical-align: top;\n",
              "    }\n",
              "\n",
              "    .dataframe thead th {\n",
              "        text-align: right;\n",
              "    }\n",
              "</style>\n",
              "<table border=\"1\" class=\"dataframe\">\n",
              "  <thead>\n",
              "    <tr style=\"text-align: right;\">\n",
              "      <th></th>\n",
              "      <th>building_id</th>\n",
              "      <th>damage_grade</th>\n",
              "    </tr>\n",
              "  </thead>\n",
              "  <tbody>\n",
              "    <tr>\n",
              "      <th>count</th>\n",
              "      <td>2.606010e+05</td>\n",
              "      <td>260601.000000</td>\n",
              "    </tr>\n",
              "    <tr>\n",
              "      <th>mean</th>\n",
              "      <td>5.256755e+05</td>\n",
              "      <td>2.238272</td>\n",
              "    </tr>\n",
              "    <tr>\n",
              "      <th>std</th>\n",
              "      <td>3.045450e+05</td>\n",
              "      <td>0.611814</td>\n",
              "    </tr>\n",
              "    <tr>\n",
              "      <th>min</th>\n",
              "      <td>4.000000e+00</td>\n",
              "      <td>1.000000</td>\n",
              "    </tr>\n",
              "    <tr>\n",
              "      <th>25%</th>\n",
              "      <td>2.611900e+05</td>\n",
              "      <td>2.000000</td>\n",
              "    </tr>\n",
              "    <tr>\n",
              "      <th>50%</th>\n",
              "      <td>5.257570e+05</td>\n",
              "      <td>2.000000</td>\n",
              "    </tr>\n",
              "    <tr>\n",
              "      <th>75%</th>\n",
              "      <td>7.897620e+05</td>\n",
              "      <td>3.000000</td>\n",
              "    </tr>\n",
              "    <tr>\n",
              "      <th>max</th>\n",
              "      <td>1.052934e+06</td>\n",
              "      <td>3.000000</td>\n",
              "    </tr>\n",
              "  </tbody>\n",
              "</table>\n",
              "</div>"
            ],
            "text/plain": [
              "        building_id   damage_grade\n",
              "count  2.606010e+05  260601.000000\n",
              "mean   5.256755e+05       2.238272\n",
              "std    3.045450e+05       0.611814\n",
              "min    4.000000e+00       1.000000\n",
              "25%    2.611900e+05       2.000000\n",
              "50%    5.257570e+05       2.000000\n",
              "75%    7.897620e+05       3.000000\n",
              "max    1.052934e+06       3.000000"
            ]
          },
          "metadata": {},
          "execution_count": 14
        }
      ],
      "source": [
        "# let us get the basic description summaries of the attributes in the dataframe\n",
        "New_dataset.describe()"
      ]
    },
    {
      "cell_type": "markdown",
      "metadata": {
        "id": "c4RkEF5q_Ksf"
      },
      "source": [
        "#5.6. CHECK FOR NULL DATA.\n",
        "\n",
        "After analysis, it was determined that null data was not present in the selected columns under analytical observation"
      ]
    },
    {
      "cell_type": "code",
      "execution_count": null,
      "metadata": {
        "colab": {
          "base_uri": "https://localhost:8080/"
        },
        "id": "OTbrgfxT8Amg",
        "outputId": "9f9c0b8c-938b-411b-d4b2-df01f0ca8104"
      },
      "outputs": [
        {
          "output_type": "execute_result",
          "data": {
            "text/plain": [
              "building_id                               0\n",
              "has_superstructure_adobe_mud              0\n",
              "has_superstructure_mud_mortar_stone       0\n",
              "has_superstructure_stone_flag             0\n",
              "has_superstructure_cement_mortar_stone    0\n",
              "has_superstructure_mud_mortar_brick       0\n",
              "has_superstructure_cement_mortar_brick    0\n",
              "has_superstructure_timber                 0\n",
              "has_superstructure_bamboo                 0\n",
              "has_superstructure_rc_non_engineered      0\n",
              "has_superstructure_rc_engineered          0\n",
              "has_superstructure_other                  0\n",
              "ground_floor_type                         0\n",
              "other_floor_type                          0\n",
              "damage_grade                              0\n",
              "dtype: int64"
            ]
          },
          "metadata": {},
          "execution_count": 15
        }
      ],
      "source": [
        "#check if there are any NULL or missing values and get the sum for each attribute\n",
        "New_dataset.isnull().sum()\n",
        "\n",
        "#there are no null or missing values in the data set"
      ]
    },
    {
      "cell_type": "code",
      "execution_count": null,
      "metadata": {
        "colab": {
          "base_uri": "https://localhost:8080/"
        },
        "id": "aF3GgHuq6eLP",
        "outputId": "7d98560a-b206-4187-d288-63721baa5a60"
      },
      "outputs": [
        {
          "output_type": "execute_result",
          "data": {
            "text/plain": [
              "Index(['building_id', 'has_superstructure_adobe_mud',\n",
              "       'has_superstructure_mud_mortar_stone', 'has_superstructure_stone_flag',\n",
              "       'has_superstructure_cement_mortar_stone',\n",
              "       'has_superstructure_mud_mortar_brick',\n",
              "       'has_superstructure_cement_mortar_brick', 'has_superstructure_timber',\n",
              "       'has_superstructure_bamboo', 'has_superstructure_rc_non_engineered',\n",
              "       'has_superstructure_rc_engineered', 'has_superstructure_other',\n",
              "       'ground_floor_type', 'other_floor_type', 'damage_grade'],\n",
              "      dtype='object')"
            ]
          },
          "metadata": {},
          "execution_count": 16
        }
      ],
      "source": [
        "New_dataset.columns"
      ]
    },
    {
      "cell_type": "code",
      "execution_count": null,
      "metadata": {
        "colab": {
          "base_uri": "https://localhost:8080/"
        },
        "id": "g8iwD5uS7Kzc",
        "outputId": "1aba36d1-00cc-447a-96fb-34922f3fc56b"
      },
      "outputs": [
        {
          "output_type": "stream",
          "name": "stdout",
          "text": [
            "                building_id  ...  has_superstructure_other\n",
            "damage_grade                 ...                          \n",
            "1             527141.327615  ...                  0.026110\n",
            "2             524830.460512  ...                  0.015163\n",
            "3             526689.657250  ...                  0.011477\n",
            "\n",
            "[3 rows x 12 columns]\n"
          ]
        }
      ],
      "source": [
        "#Group the data set by damage level and finding the mean of the entries\n",
        "Data_grouped=New_dataset.groupby('damage_grade')[['building_id','has_superstructure_adobe_mud', 'has_superstructure_mud_mortar_stone',\n",
        "       'has_superstructure_stone_flag',\n",
        "       'has_superstructure_cement_mortar_stone',\n",
        "       'has_superstructure_mud_mortar_brick',\n",
        "       'has_superstructure_cement_mortar_brick', 'has_superstructure_timber',\n",
        "       'has_superstructure_bamboo', 'has_superstructure_rc_non_engineered',\n",
        "       'has_superstructure_rc_engineered', 'has_superstructure_other',\n",
        "       'ground_floor_type', 'other_floor_type']].mean()\n",
        "\n",
        "print (Data_grouped)"
      ]
    },
    {
      "cell_type": "markdown",
      "metadata": {
        "id": "g_D2LEYLAB72"
      },
      "source": [
        "A. A new column is added which represent the descriptive text of the damage grade levels.\n",
        "damage_grade 1 = low damage\n",
        "damage_grade 1 = medium damage\n",
        "damage_grade 3 = complete destruction or damage."
      ]
    },
    {
      "cell_type": "code",
      "execution_count": null,
      "metadata": {
        "id": "pZLFzoxa8tie"
      },
      "outputs": [],
      "source": [
        "#define a function which gives a tag to the data set according to the damage level where 1 = low damage, 2= medium damage and 3 = complete destruction.\n",
        "def Damage_group(damage_grade):\n",
        "    if damage_grade == 1:\n",
        "        return 'low damage'\n",
        "    elif damage_grade == 2:\n",
        "        return 'medium damage'\n",
        "    else:\n",
        "        return 'complete destruction'"
      ]
    },
    {
      "cell_type": "code",
      "execution_count": null,
      "metadata": {
        "colab": {
          "base_uri": "https://localhost:8080/"
        },
        "id": "MSbyd2W9EIO9",
        "outputId": "541ccced-6cf4-4378-f781-16f9402a0334"
      },
      "outputs": [
        {
          "output_type": "stream",
          "name": "stderr",
          "text": [
            "/usr/local/lib/python3.7/dist-packages/ipykernel_launcher.py:4: SettingWithCopyWarning: \n",
            "A value is trying to be set on a copy of a slice from a DataFrame.\n",
            "Try using .loc[row_indexer,col_indexer] = value instead\n",
            "\n",
            "See the caveats in the documentation: https://pandas.pydata.org/pandas-docs/stable/user_guide/indexing.html#returning-a-view-versus-a-copy\n",
            "  after removing the cwd from sys.path.\n"
          ]
        }
      ],
      "source": [
        "# Applying the function defined to the data set\n",
        "# creating a new variable in the dataset to hold the damage category\n",
        "\n",
        "New_dataset['Damage_category'] = New_dataset['damage_grade'].apply(Damage_group)"
      ]
    },
    {
      "cell_type": "code",
      "execution_count": null,
      "metadata": {
        "colab": {
          "base_uri": "https://localhost:8080/"
        },
        "id": "5BGLXYlWFRIe",
        "outputId": "ba9fa273-2517-4900-d786-b1c94a209781"
      },
      "outputs": [
        {
          "output_type": "execute_result",
          "data": {
            "text/html": [
              "<div>\n",
              "<style scoped>\n",
              "    .dataframe tbody tr th:only-of-type {\n",
              "        vertical-align: middle;\n",
              "    }\n",
              "\n",
              "    .dataframe tbody tr th {\n",
              "        vertical-align: top;\n",
              "    }\n",
              "\n",
              "    .dataframe thead th {\n",
              "        text-align: right;\n",
              "    }\n",
              "</style>\n",
              "<table border=\"1\" class=\"dataframe\">\n",
              "  <thead>\n",
              "    <tr style=\"text-align: right;\">\n",
              "      <th></th>\n",
              "      <th>building_id</th>\n",
              "      <th>has_superstructure_adobe_mud</th>\n",
              "      <th>has_superstructure_mud_mortar_stone</th>\n",
              "      <th>has_superstructure_stone_flag</th>\n",
              "      <th>has_superstructure_cement_mortar_stone</th>\n",
              "      <th>has_superstructure_mud_mortar_brick</th>\n",
              "      <th>has_superstructure_cement_mortar_brick</th>\n",
              "      <th>has_superstructure_timber</th>\n",
              "      <th>has_superstructure_bamboo</th>\n",
              "      <th>has_superstructure_rc_non_engineered</th>\n",
              "      <th>has_superstructure_rc_engineered</th>\n",
              "      <th>has_superstructure_other</th>\n",
              "      <th>ground_floor_type</th>\n",
              "      <th>other_floor_type</th>\n",
              "      <th>damage_grade</th>\n",
              "      <th>Damage_category</th>\n",
              "    </tr>\n",
              "  </thead>\n",
              "  <tbody>\n",
              "    <tr>\n",
              "      <th>0</th>\n",
              "      <td>802906</td>\n",
              "      <td>True</td>\n",
              "      <td>True</td>\n",
              "      <td>False</td>\n",
              "      <td>False</td>\n",
              "      <td>False</td>\n",
              "      <td>False</td>\n",
              "      <td>False</td>\n",
              "      <td>False</td>\n",
              "      <td>False</td>\n",
              "      <td>False</td>\n",
              "      <td>False</td>\n",
              "      <td>f</td>\n",
              "      <td>q</td>\n",
              "      <td>3</td>\n",
              "      <td>complete destruction</td>\n",
              "    </tr>\n",
              "    <tr>\n",
              "      <th>1</th>\n",
              "      <td>28830</td>\n",
              "      <td>False</td>\n",
              "      <td>True</td>\n",
              "      <td>False</td>\n",
              "      <td>False</td>\n",
              "      <td>False</td>\n",
              "      <td>False</td>\n",
              "      <td>False</td>\n",
              "      <td>False</td>\n",
              "      <td>False</td>\n",
              "      <td>False</td>\n",
              "      <td>False</td>\n",
              "      <td>x</td>\n",
              "      <td>q</td>\n",
              "      <td>2</td>\n",
              "      <td>medium damage</td>\n",
              "    </tr>\n",
              "    <tr>\n",
              "      <th>2</th>\n",
              "      <td>94947</td>\n",
              "      <td>False</td>\n",
              "      <td>True</td>\n",
              "      <td>False</td>\n",
              "      <td>False</td>\n",
              "      <td>False</td>\n",
              "      <td>False</td>\n",
              "      <td>False</td>\n",
              "      <td>False</td>\n",
              "      <td>False</td>\n",
              "      <td>False</td>\n",
              "      <td>False</td>\n",
              "      <td>f</td>\n",
              "      <td>x</td>\n",
              "      <td>3</td>\n",
              "      <td>complete destruction</td>\n",
              "    </tr>\n",
              "    <tr>\n",
              "      <th>3</th>\n",
              "      <td>590882</td>\n",
              "      <td>False</td>\n",
              "      <td>True</td>\n",
              "      <td>False</td>\n",
              "      <td>False</td>\n",
              "      <td>False</td>\n",
              "      <td>False</td>\n",
              "      <td>True</td>\n",
              "      <td>True</td>\n",
              "      <td>False</td>\n",
              "      <td>False</td>\n",
              "      <td>False</td>\n",
              "      <td>f</td>\n",
              "      <td>x</td>\n",
              "      <td>2</td>\n",
              "      <td>medium damage</td>\n",
              "    </tr>\n",
              "    <tr>\n",
              "      <th>4</th>\n",
              "      <td>201944</td>\n",
              "      <td>True</td>\n",
              "      <td>False</td>\n",
              "      <td>False</td>\n",
              "      <td>False</td>\n",
              "      <td>False</td>\n",
              "      <td>False</td>\n",
              "      <td>False</td>\n",
              "      <td>False</td>\n",
              "      <td>False</td>\n",
              "      <td>False</td>\n",
              "      <td>False</td>\n",
              "      <td>f</td>\n",
              "      <td>x</td>\n",
              "      <td>3</td>\n",
              "      <td>complete destruction</td>\n",
              "    </tr>\n",
              "    <tr>\n",
              "      <th>...</th>\n",
              "      <td>...</td>\n",
              "      <td>...</td>\n",
              "      <td>...</td>\n",
              "      <td>...</td>\n",
              "      <td>...</td>\n",
              "      <td>...</td>\n",
              "      <td>...</td>\n",
              "      <td>...</td>\n",
              "      <td>...</td>\n",
              "      <td>...</td>\n",
              "      <td>...</td>\n",
              "      <td>...</td>\n",
              "      <td>...</td>\n",
              "      <td>...</td>\n",
              "      <td>...</td>\n",
              "      <td>...</td>\n",
              "    </tr>\n",
              "    <tr>\n",
              "      <th>260596</th>\n",
              "      <td>688636</td>\n",
              "      <td>False</td>\n",
              "      <td>True</td>\n",
              "      <td>False</td>\n",
              "      <td>False</td>\n",
              "      <td>False</td>\n",
              "      <td>False</td>\n",
              "      <td>False</td>\n",
              "      <td>False</td>\n",
              "      <td>False</td>\n",
              "      <td>False</td>\n",
              "      <td>False</td>\n",
              "      <td>f</td>\n",
              "      <td>j</td>\n",
              "      <td>2</td>\n",
              "      <td>medium damage</td>\n",
              "    </tr>\n",
              "    <tr>\n",
              "      <th>260597</th>\n",
              "      <td>669485</td>\n",
              "      <td>False</td>\n",
              "      <td>True</td>\n",
              "      <td>False</td>\n",
              "      <td>False</td>\n",
              "      <td>False</td>\n",
              "      <td>False</td>\n",
              "      <td>False</td>\n",
              "      <td>False</td>\n",
              "      <td>False</td>\n",
              "      <td>False</td>\n",
              "      <td>False</td>\n",
              "      <td>f</td>\n",
              "      <td>q</td>\n",
              "      <td>3</td>\n",
              "      <td>complete destruction</td>\n",
              "    </tr>\n",
              "    <tr>\n",
              "      <th>260598</th>\n",
              "      <td>602512</td>\n",
              "      <td>False</td>\n",
              "      <td>True</td>\n",
              "      <td>False</td>\n",
              "      <td>False</td>\n",
              "      <td>False</td>\n",
              "      <td>False</td>\n",
              "      <td>False</td>\n",
              "      <td>False</td>\n",
              "      <td>False</td>\n",
              "      <td>False</td>\n",
              "      <td>False</td>\n",
              "      <td>f</td>\n",
              "      <td>q</td>\n",
              "      <td>3</td>\n",
              "      <td>complete destruction</td>\n",
              "    </tr>\n",
              "    <tr>\n",
              "      <th>260599</th>\n",
              "      <td>151409</td>\n",
              "      <td>False</td>\n",
              "      <td>False</td>\n",
              "      <td>False</td>\n",
              "      <td>False</td>\n",
              "      <td>False</td>\n",
              "      <td>True</td>\n",
              "      <td>False</td>\n",
              "      <td>False</td>\n",
              "      <td>False</td>\n",
              "      <td>False</td>\n",
              "      <td>False</td>\n",
              "      <td>v</td>\n",
              "      <td>s</td>\n",
              "      <td>2</td>\n",
              "      <td>medium damage</td>\n",
              "    </tr>\n",
              "    <tr>\n",
              "      <th>260600</th>\n",
              "      <td>747594</td>\n",
              "      <td>False</td>\n",
              "      <td>True</td>\n",
              "      <td>False</td>\n",
              "      <td>False</td>\n",
              "      <td>False</td>\n",
              "      <td>False</td>\n",
              "      <td>False</td>\n",
              "      <td>False</td>\n",
              "      <td>False</td>\n",
              "      <td>False</td>\n",
              "      <td>False</td>\n",
              "      <td>f</td>\n",
              "      <td>q</td>\n",
              "      <td>3</td>\n",
              "      <td>complete destruction</td>\n",
              "    </tr>\n",
              "  </tbody>\n",
              "</table>\n",
              "<p>260601 rows × 16 columns</p>\n",
              "</div>"
            ],
            "text/plain": [
              "        building_id  ...       Damage_category\n",
              "0            802906  ...  complete destruction\n",
              "1             28830  ...         medium damage\n",
              "2             94947  ...  complete destruction\n",
              "3            590882  ...         medium damage\n",
              "4            201944  ...  complete destruction\n",
              "...             ...  ...                   ...\n",
              "260596       688636  ...         medium damage\n",
              "260597       669485  ...  complete destruction\n",
              "260598       602512  ...  complete destruction\n",
              "260599       151409  ...         medium damage\n",
              "260600       747594  ...  complete destruction\n",
              "\n",
              "[260601 rows x 16 columns]"
            ]
          },
          "metadata": {},
          "execution_count": 20
        }
      ],
      "source": [
        "# print the new data set with the inclusion of the damage category\n",
        "New_dataset_damagecategory= New_dataset[['building_id','has_superstructure_adobe_mud',\n",
        "       'has_superstructure_mud_mortar_stone', 'has_superstructure_stone_flag',\n",
        "       'has_superstructure_cement_mortar_stone',\n",
        "       'has_superstructure_mud_mortar_brick',\n",
        "       'has_superstructure_cement_mortar_brick', 'has_superstructure_timber',\n",
        "       'has_superstructure_bamboo', 'has_superstructure_rc_non_engineered',\n",
        "       'has_superstructure_rc_engineered', 'has_superstructure_other','ground_floor_type', 'other_floor_type',\n",
        "       'damage_grade','Damage_category']]\n",
        "New_dataset_damagecategory"
      ]
    },
    {
      "cell_type": "markdown",
      "metadata": {
        "id": "-EfJQmKzjBi5"
      },
      "source": [
        "#5.7. ANALYSE THE STRUCTURAL TYPES AND FLOOR TYPES.\n",
        "\n",
        "in this section, the structural types and floor types were analysed along the damage level to find the best floor type and structure that were least damaged after the earth quake"
      ]
    },
    {
      "cell_type": "code",
      "execution_count": null,
      "metadata": {
        "colab": {
          "base_uri": "https://localhost:8080/"
        },
        "id": "oxYLmBZ_hUsL",
        "outputId": "528a05d3-e914-46d9-e726-766616c55ea2"
      },
      "outputs": [
        {
          "output_type": "execute_result",
          "data": {
            "text/html": [
              "<div>\n",
              "<style scoped>\n",
              "    .dataframe tbody tr th:only-of-type {\n",
              "        vertical-align: middle;\n",
              "    }\n",
              "\n",
              "    .dataframe tbody tr th {\n",
              "        vertical-align: top;\n",
              "    }\n",
              "\n",
              "    .dataframe thead th {\n",
              "        text-align: right;\n",
              "    }\n",
              "</style>\n",
              "<table border=\"1\" class=\"dataframe\">\n",
              "  <thead>\n",
              "    <tr style=\"text-align: right;\">\n",
              "      <th></th>\n",
              "      <th>building_id</th>\n",
              "      <th>has_superstructure_mud_mortar_stone</th>\n",
              "      <th>ground_floor_type</th>\n",
              "      <th>other_floor_type</th>\n",
              "      <th>damage_grade</th>\n",
              "      <th>Damage_category</th>\n",
              "    </tr>\n",
              "  </thead>\n",
              "  <tbody>\n",
              "    <tr>\n",
              "      <th>0</th>\n",
              "      <td>802906</td>\n",
              "      <td>True</td>\n",
              "      <td>f</td>\n",
              "      <td>q</td>\n",
              "      <td>3</td>\n",
              "      <td>complete destruction</td>\n",
              "    </tr>\n",
              "    <tr>\n",
              "      <th>1</th>\n",
              "      <td>28830</td>\n",
              "      <td>True</td>\n",
              "      <td>x</td>\n",
              "      <td>q</td>\n",
              "      <td>2</td>\n",
              "      <td>medium damage</td>\n",
              "    </tr>\n",
              "    <tr>\n",
              "      <th>2</th>\n",
              "      <td>94947</td>\n",
              "      <td>True</td>\n",
              "      <td>f</td>\n",
              "      <td>x</td>\n",
              "      <td>3</td>\n",
              "      <td>complete destruction</td>\n",
              "    </tr>\n",
              "    <tr>\n",
              "      <th>3</th>\n",
              "      <td>590882</td>\n",
              "      <td>True</td>\n",
              "      <td>f</td>\n",
              "      <td>x</td>\n",
              "      <td>2</td>\n",
              "      <td>medium damage</td>\n",
              "    </tr>\n",
              "    <tr>\n",
              "      <th>5</th>\n",
              "      <td>333020</td>\n",
              "      <td>True</td>\n",
              "      <td>f</td>\n",
              "      <td>q</td>\n",
              "      <td>2</td>\n",
              "      <td>medium damage</td>\n",
              "    </tr>\n",
              "    <tr>\n",
              "      <th>...</th>\n",
              "      <td>...</td>\n",
              "      <td>...</td>\n",
              "      <td>...</td>\n",
              "      <td>...</td>\n",
              "      <td>...</td>\n",
              "      <td>...</td>\n",
              "    </tr>\n",
              "    <tr>\n",
              "      <th>260595</th>\n",
              "      <td>827012</td>\n",
              "      <td>True</td>\n",
              "      <td>f</td>\n",
              "      <td>q</td>\n",
              "      <td>3</td>\n",
              "      <td>complete destruction</td>\n",
              "    </tr>\n",
              "    <tr>\n",
              "      <th>260596</th>\n",
              "      <td>688636</td>\n",
              "      <td>True</td>\n",
              "      <td>f</td>\n",
              "      <td>j</td>\n",
              "      <td>2</td>\n",
              "      <td>medium damage</td>\n",
              "    </tr>\n",
              "    <tr>\n",
              "      <th>260597</th>\n",
              "      <td>669485</td>\n",
              "      <td>True</td>\n",
              "      <td>f</td>\n",
              "      <td>q</td>\n",
              "      <td>3</td>\n",
              "      <td>complete destruction</td>\n",
              "    </tr>\n",
              "    <tr>\n",
              "      <th>260598</th>\n",
              "      <td>602512</td>\n",
              "      <td>True</td>\n",
              "      <td>f</td>\n",
              "      <td>q</td>\n",
              "      <td>3</td>\n",
              "      <td>complete destruction</td>\n",
              "    </tr>\n",
              "    <tr>\n",
              "      <th>260600</th>\n",
              "      <td>747594</td>\n",
              "      <td>True</td>\n",
              "      <td>f</td>\n",
              "      <td>q</td>\n",
              "      <td>3</td>\n",
              "      <td>complete destruction</td>\n",
              "    </tr>\n",
              "  </tbody>\n",
              "</table>\n",
              "<p>198561 rows × 6 columns</p>\n",
              "</div>"
            ],
            "text/plain": [
              "        building_id  ...       Damage_category\n",
              "0            802906  ...  complete destruction\n",
              "1             28830  ...         medium damage\n",
              "2             94947  ...  complete destruction\n",
              "3            590882  ...         medium damage\n",
              "5            333020  ...         medium damage\n",
              "...             ...  ...                   ...\n",
              "260595       827012  ...  complete destruction\n",
              "260596       688636  ...         medium damage\n",
              "260597       669485  ...  complete destruction\n",
              "260598       602512  ...  complete destruction\n",
              "260600       747594  ...  complete destruction\n",
              "\n",
              "[198561 rows x 6 columns]"
            ]
          },
          "metadata": {},
          "execution_count": 21
        }
      ],
      "source": [
        "# get the buildings whose structure is mud_mortar_stone structure with corresponding damage grade\n",
        "mud_mortar_stone = New_dataset_damagecategory.loc[New_dataset_damagecategory. has_superstructure_mud_mortar_stone==1, ['building_id', 'has_superstructure_mud_mortar_stone','ground_floor_type', 'other_floor_type','damage_grade','Damage_category']]\n",
        "mud_mortar_stone\n"
      ]
    },
    {
      "cell_type": "code",
      "execution_count": null,
      "metadata": {
        "colab": {
          "base_uri": "https://localhost:8080/"
        },
        "id": "zW_iwgRKz0R3",
        "outputId": "96319833-ef42-4c48-96fe-73dd86118e9d"
      },
      "outputs": [
        {
          "output_type": "execute_result",
          "data": {
            "text/html": [
              "<div>\n",
              "<style scoped>\n",
              "    .dataframe tbody tr th:only-of-type {\n",
              "        vertical-align: middle;\n",
              "    }\n",
              "\n",
              "    .dataframe tbody tr th {\n",
              "        vertical-align: top;\n",
              "    }\n",
              "\n",
              "    .dataframe thead th {\n",
              "        text-align: right;\n",
              "    }\n",
              "</style>\n",
              "<table border=\"1\" class=\"dataframe\">\n",
              "  <thead>\n",
              "    <tr style=\"text-align: right;\">\n",
              "      <th></th>\n",
              "      <th>building_id</th>\n",
              "      <th>has_superstructure_adobe_mud</th>\n",
              "      <th>ground_floor_type</th>\n",
              "      <th>other_floor_type</th>\n",
              "      <th>damage_grade</th>\n",
              "      <th>Damage_category</th>\n",
              "    </tr>\n",
              "  </thead>\n",
              "  <tbody>\n",
              "    <tr>\n",
              "      <th>0</th>\n",
              "      <td>802906</td>\n",
              "      <td>True</td>\n",
              "      <td>f</td>\n",
              "      <td>q</td>\n",
              "      <td>3</td>\n",
              "      <td>complete destruction</td>\n",
              "    </tr>\n",
              "    <tr>\n",
              "      <th>4</th>\n",
              "      <td>201944</td>\n",
              "      <td>True</td>\n",
              "      <td>f</td>\n",
              "      <td>x</td>\n",
              "      <td>3</td>\n",
              "      <td>complete destruction</td>\n",
              "    </tr>\n",
              "    <tr>\n",
              "      <th>17</th>\n",
              "      <td>980230</td>\n",
              "      <td>True</td>\n",
              "      <td>f</td>\n",
              "      <td>q</td>\n",
              "      <td>3</td>\n",
              "      <td>complete destruction</td>\n",
              "    </tr>\n",
              "    <tr>\n",
              "      <th>20</th>\n",
              "      <td>793397</td>\n",
              "      <td>True</td>\n",
              "      <td>f</td>\n",
              "      <td>q</td>\n",
              "      <td>2</td>\n",
              "      <td>medium damage</td>\n",
              "    </tr>\n",
              "    <tr>\n",
              "      <th>29</th>\n",
              "      <td>529366</td>\n",
              "      <td>True</td>\n",
              "      <td>f</td>\n",
              "      <td>q</td>\n",
              "      <td>3</td>\n",
              "      <td>complete destruction</td>\n",
              "    </tr>\n",
              "    <tr>\n",
              "      <th>...</th>\n",
              "      <td>...</td>\n",
              "      <td>...</td>\n",
              "      <td>...</td>\n",
              "      <td>...</td>\n",
              "      <td>...</td>\n",
              "      <td>...</td>\n",
              "    </tr>\n",
              "    <tr>\n",
              "      <th>260465</th>\n",
              "      <td>325362</td>\n",
              "      <td>True</td>\n",
              "      <td>f</td>\n",
              "      <td>q</td>\n",
              "      <td>2</td>\n",
              "      <td>medium damage</td>\n",
              "    </tr>\n",
              "    <tr>\n",
              "      <th>260488</th>\n",
              "      <td>934140</td>\n",
              "      <td>True</td>\n",
              "      <td>f</td>\n",
              "      <td>q</td>\n",
              "      <td>2</td>\n",
              "      <td>medium damage</td>\n",
              "    </tr>\n",
              "    <tr>\n",
              "      <th>260506</th>\n",
              "      <td>88833</td>\n",
              "      <td>True</td>\n",
              "      <td>f</td>\n",
              "      <td>q</td>\n",
              "      <td>3</td>\n",
              "      <td>complete destruction</td>\n",
              "    </tr>\n",
              "    <tr>\n",
              "      <th>260510</th>\n",
              "      <td>278052</td>\n",
              "      <td>True</td>\n",
              "      <td>f</td>\n",
              "      <td>q</td>\n",
              "      <td>3</td>\n",
              "      <td>complete destruction</td>\n",
              "    </tr>\n",
              "    <tr>\n",
              "      <th>260583</th>\n",
              "      <td>192421</td>\n",
              "      <td>True</td>\n",
              "      <td>f</td>\n",
              "      <td>q</td>\n",
              "      <td>2</td>\n",
              "      <td>medium damage</td>\n",
              "    </tr>\n",
              "  </tbody>\n",
              "</table>\n",
              "<p>23101 rows × 6 columns</p>\n",
              "</div>"
            ],
            "text/plain": [
              "        building_id  ...       Damage_category\n",
              "0            802906  ...  complete destruction\n",
              "4            201944  ...  complete destruction\n",
              "17           980230  ...  complete destruction\n",
              "20           793397  ...         medium damage\n",
              "29           529366  ...  complete destruction\n",
              "...             ...  ...                   ...\n",
              "260465       325362  ...         medium damage\n",
              "260488       934140  ...         medium damage\n",
              "260506        88833  ...  complete destruction\n",
              "260510       278052  ...  complete destruction\n",
              "260583       192421  ...         medium damage\n",
              "\n",
              "[23101 rows x 6 columns]"
            ]
          },
          "metadata": {},
          "execution_count": 22
        }
      ],
      "source": [
        "# get the buildings that have adobe mud structure with building ID, damage grade 3 and damage category\n",
        "Adobe_mud = New_dataset_damagecategory.loc[New_dataset_damagecategory.has_superstructure_adobe_mud==1, ['building_id','has_superstructure_adobe_mud','ground_floor_type', 'other_floor_type','damage_grade','Damage_category']]\n",
        "Adobe_mud"
      ]
    },
    {
      "cell_type": "code",
      "execution_count": null,
      "metadata": {
        "colab": {
          "base_uri": "https://localhost:8080/"
        },
        "id": "qh1Op5dYz0XJ",
        "outputId": "cd55ffbc-6968-4dd6-9b89-c83516d1c35e"
      },
      "outputs": [
        {
          "output_type": "execute_result",
          "data": {
            "text/html": [
              "<div>\n",
              "<style scoped>\n",
              "    .dataframe tbody tr th:only-of-type {\n",
              "        vertical-align: middle;\n",
              "    }\n",
              "\n",
              "    .dataframe tbody tr th {\n",
              "        vertical-align: top;\n",
              "    }\n",
              "\n",
              "    .dataframe thead th {\n",
              "        text-align: right;\n",
              "    }\n",
              "</style>\n",
              "<table border=\"1\" class=\"dataframe\">\n",
              "  <thead>\n",
              "    <tr style=\"text-align: right;\">\n",
              "      <th></th>\n",
              "      <th>building_id</th>\n",
              "      <th>has_superstructure_stone_flag</th>\n",
              "      <th>ground_floor_type</th>\n",
              "      <th>other_floor_type</th>\n",
              "      <th>damage_grade</th>\n",
              "      <th>Damage_category</th>\n",
              "    </tr>\n",
              "  </thead>\n",
              "  <tbody>\n",
              "    <tr>\n",
              "      <th>14</th>\n",
              "      <td>605134</td>\n",
              "      <td>True</td>\n",
              "      <td>f</td>\n",
              "      <td>x</td>\n",
              "      <td>3</td>\n",
              "      <td>complete destruction</td>\n",
              "    </tr>\n",
              "    <tr>\n",
              "      <th>40</th>\n",
              "      <td>306024</td>\n",
              "      <td>True</td>\n",
              "      <td>f</td>\n",
              "      <td>x</td>\n",
              "      <td>2</td>\n",
              "      <td>medium damage</td>\n",
              "    </tr>\n",
              "    <tr>\n",
              "      <th>51</th>\n",
              "      <td>877361</td>\n",
              "      <td>True</td>\n",
              "      <td>f</td>\n",
              "      <td>x</td>\n",
              "      <td>2</td>\n",
              "      <td>medium damage</td>\n",
              "    </tr>\n",
              "    <tr>\n",
              "      <th>103</th>\n",
              "      <td>96470</td>\n",
              "      <td>True</td>\n",
              "      <td>z</td>\n",
              "      <td>q</td>\n",
              "      <td>2</td>\n",
              "      <td>medium damage</td>\n",
              "    </tr>\n",
              "    <tr>\n",
              "      <th>110</th>\n",
              "      <td>677652</td>\n",
              "      <td>True</td>\n",
              "      <td>f</td>\n",
              "      <td>q</td>\n",
              "      <td>3</td>\n",
              "      <td>complete destruction</td>\n",
              "    </tr>\n",
              "    <tr>\n",
              "      <th>...</th>\n",
              "      <td>...</td>\n",
              "      <td>...</td>\n",
              "      <td>...</td>\n",
              "      <td>...</td>\n",
              "      <td>...</td>\n",
              "      <td>...</td>\n",
              "    </tr>\n",
              "    <tr>\n",
              "      <th>260496</th>\n",
              "      <td>1001309</td>\n",
              "      <td>True</td>\n",
              "      <td>f</td>\n",
              "      <td>x</td>\n",
              "      <td>3</td>\n",
              "      <td>complete destruction</td>\n",
              "    </tr>\n",
              "    <tr>\n",
              "      <th>260527</th>\n",
              "      <td>403411</td>\n",
              "      <td>True</td>\n",
              "      <td>f</td>\n",
              "      <td>j</td>\n",
              "      <td>2</td>\n",
              "      <td>medium damage</td>\n",
              "    </tr>\n",
              "    <tr>\n",
              "      <th>260572</th>\n",
              "      <td>333974</td>\n",
              "      <td>True</td>\n",
              "      <td>z</td>\n",
              "      <td>x</td>\n",
              "      <td>3</td>\n",
              "      <td>complete destruction</td>\n",
              "    </tr>\n",
              "    <tr>\n",
              "      <th>260581</th>\n",
              "      <td>518494</td>\n",
              "      <td>True</td>\n",
              "      <td>f</td>\n",
              "      <td>x</td>\n",
              "      <td>3</td>\n",
              "      <td>complete destruction</td>\n",
              "    </tr>\n",
              "    <tr>\n",
              "      <th>260590</th>\n",
              "      <td>695987</td>\n",
              "      <td>True</td>\n",
              "      <td>f</td>\n",
              "      <td>q</td>\n",
              "      <td>2</td>\n",
              "      <td>medium damage</td>\n",
              "    </tr>\n",
              "  </tbody>\n",
              "</table>\n",
              "<p>8947 rows × 6 columns</p>\n",
              "</div>"
            ],
            "text/plain": [
              "        building_id  ...       Damage_category\n",
              "14           605134  ...  complete destruction\n",
              "40           306024  ...         medium damage\n",
              "51           877361  ...         medium damage\n",
              "103           96470  ...         medium damage\n",
              "110          677652  ...  complete destruction\n",
              "...             ...  ...                   ...\n",
              "260496      1001309  ...  complete destruction\n",
              "260527       403411  ...         medium damage\n",
              "260572       333974  ...  complete destruction\n",
              "260581       518494  ...  complete destruction\n",
              "260590       695987  ...         medium damage\n",
              "\n",
              "[8947 rows x 6 columns]"
            ]
          },
          "metadata": {},
          "execution_count": 23
        }
      ],
      "source": [
        "# get the buildings that have stone flag structure with building ID, damage grade 3 and damage category\n",
        "stone_flag = New_dataset_damagecategory.loc[New_dataset_damagecategory.has_superstructure_stone_flag==1, ['building_id','has_superstructure_stone_flag','ground_floor_type', 'other_floor_type','damage_grade','Damage_category']]\n",
        "stone_flag"
      ]
    },
    {
      "cell_type": "code",
      "execution_count": null,
      "metadata": {
        "colab": {
          "base_uri": "https://localhost:8080/"
        },
        "id": "tzmyicVipCtH",
        "outputId": "d4fc47ec-286d-4666-81b3-050be0390fa8"
      },
      "outputs": [
        {
          "output_type": "execute_result",
          "data": {
            "text/html": [
              "<div>\n",
              "<style scoped>\n",
              "    .dataframe tbody tr th:only-of-type {\n",
              "        vertical-align: middle;\n",
              "    }\n",
              "\n",
              "    .dataframe tbody tr th {\n",
              "        vertical-align: top;\n",
              "    }\n",
              "\n",
              "    .dataframe thead th {\n",
              "        text-align: right;\n",
              "    }\n",
              "</style>\n",
              "<table border=\"1\" class=\"dataframe\">\n",
              "  <thead>\n",
              "    <tr style=\"text-align: right;\">\n",
              "      <th></th>\n",
              "      <th>building_id</th>\n",
              "      <th>has_superstructure_cement_mortar_stone</th>\n",
              "      <th>ground_floor_type</th>\n",
              "      <th>other_floor_type</th>\n",
              "      <th>damage_grade</th>\n",
              "      <th>Damage_category</th>\n",
              "    </tr>\n",
              "  </thead>\n",
              "  <tbody>\n",
              "    <tr>\n",
              "      <th>88</th>\n",
              "      <td>931198</td>\n",
              "      <td>True</td>\n",
              "      <td>v</td>\n",
              "      <td>j</td>\n",
              "      <td>2</td>\n",
              "      <td>medium damage</td>\n",
              "    </tr>\n",
              "    <tr>\n",
              "      <th>159</th>\n",
              "      <td>913994</td>\n",
              "      <td>True</td>\n",
              "      <td>f</td>\n",
              "      <td>q</td>\n",
              "      <td>2</td>\n",
              "      <td>medium damage</td>\n",
              "    </tr>\n",
              "    <tr>\n",
              "      <th>226</th>\n",
              "      <td>122112</td>\n",
              "      <td>True</td>\n",
              "      <td>v</td>\n",
              "      <td>s</td>\n",
              "      <td>2</td>\n",
              "      <td>medium damage</td>\n",
              "    </tr>\n",
              "    <tr>\n",
              "      <th>279</th>\n",
              "      <td>597468</td>\n",
              "      <td>True</td>\n",
              "      <td>v</td>\n",
              "      <td>s</td>\n",
              "      <td>2</td>\n",
              "      <td>medium damage</td>\n",
              "    </tr>\n",
              "    <tr>\n",
              "      <th>316</th>\n",
              "      <td>374000</td>\n",
              "      <td>True</td>\n",
              "      <td>v</td>\n",
              "      <td>s</td>\n",
              "      <td>1</td>\n",
              "      <td>low damage</td>\n",
              "    </tr>\n",
              "    <tr>\n",
              "      <th>...</th>\n",
              "      <td>...</td>\n",
              "      <td>...</td>\n",
              "      <td>...</td>\n",
              "      <td>...</td>\n",
              "      <td>...</td>\n",
              "      <td>...</td>\n",
              "    </tr>\n",
              "    <tr>\n",
              "      <th>260440</th>\n",
              "      <td>183654</td>\n",
              "      <td>True</td>\n",
              "      <td>v</td>\n",
              "      <td>x</td>\n",
              "      <td>3</td>\n",
              "      <td>complete destruction</td>\n",
              "    </tr>\n",
              "    <tr>\n",
              "      <th>260489</th>\n",
              "      <td>869675</td>\n",
              "      <td>True</td>\n",
              "      <td>x</td>\n",
              "      <td>q</td>\n",
              "      <td>3</td>\n",
              "      <td>complete destruction</td>\n",
              "    </tr>\n",
              "    <tr>\n",
              "      <th>260498</th>\n",
              "      <td>244286</td>\n",
              "      <td>True</td>\n",
              "      <td>v</td>\n",
              "      <td>s</td>\n",
              "      <td>2</td>\n",
              "      <td>medium damage</td>\n",
              "    </tr>\n",
              "    <tr>\n",
              "      <th>260540</th>\n",
              "      <td>404418</td>\n",
              "      <td>True</td>\n",
              "      <td>x</td>\n",
              "      <td>x</td>\n",
              "      <td>2</td>\n",
              "      <td>medium damage</td>\n",
              "    </tr>\n",
              "    <tr>\n",
              "      <th>260558</th>\n",
              "      <td>622374</td>\n",
              "      <td>True</td>\n",
              "      <td>x</td>\n",
              "      <td>s</td>\n",
              "      <td>2</td>\n",
              "      <td>medium damage</td>\n",
              "    </tr>\n",
              "  </tbody>\n",
              "</table>\n",
              "<p>4752 rows × 6 columns</p>\n",
              "</div>"
            ],
            "text/plain": [
              "        building_id  ...       Damage_category\n",
              "88           931198  ...         medium damage\n",
              "159          913994  ...         medium damage\n",
              "226          122112  ...         medium damage\n",
              "279          597468  ...         medium damage\n",
              "316          374000  ...            low damage\n",
              "...             ...  ...                   ...\n",
              "260440       183654  ...  complete destruction\n",
              "260489       869675  ...  complete destruction\n",
              "260498       244286  ...         medium damage\n",
              "260540       404418  ...         medium damage\n",
              "260558       622374  ...         medium damage\n",
              "\n",
              "[4752 rows x 6 columns]"
            ]
          },
          "metadata": {},
          "execution_count": 24
        }
      ],
      "source": [
        "# get the buildings that have cement_mortar_stone structure with building ID, damage grade 3 and damage category\n",
        "cement_mortar_stone = New_dataset_damagecategory.loc[New_dataset_damagecategory.has_superstructure_cement_mortar_stone==1, ['building_id','has_superstructure_cement_mortar_stone','ground_floor_type', 'other_floor_type','damage_grade','Damage_category']]\n",
        "cement_mortar_stone"
      ]
    },
    {
      "cell_type": "code",
      "execution_count": null,
      "metadata": {
        "colab": {
          "base_uri": "https://localhost:8080/"
        },
        "id": "-wLDZ7irz0bX",
        "outputId": "958fbcfd-05c8-4ecf-f4ca-54fccbb006cc"
      },
      "outputs": [
        {
          "output_type": "execute_result",
          "data": {
            "text/html": [
              "<div>\n",
              "<style scoped>\n",
              "    .dataframe tbody tr th:only-of-type {\n",
              "        vertical-align: middle;\n",
              "    }\n",
              "\n",
              "    .dataframe tbody tr th {\n",
              "        vertical-align: top;\n",
              "    }\n",
              "\n",
              "    .dataframe thead th {\n",
              "        text-align: right;\n",
              "    }\n",
              "</style>\n",
              "<table border=\"1\" class=\"dataframe\">\n",
              "  <thead>\n",
              "    <tr style=\"text-align: right;\">\n",
              "      <th></th>\n",
              "      <th>building_id</th>\n",
              "      <th>has_superstructure_timber</th>\n",
              "      <th>ground_floor_type</th>\n",
              "      <th>other_floor_type</th>\n",
              "      <th>damage_grade</th>\n",
              "      <th>Damage_category</th>\n",
              "    </tr>\n",
              "  </thead>\n",
              "  <tbody>\n",
              "    <tr>\n",
              "      <th>3</th>\n",
              "      <td>590882</td>\n",
              "      <td>True</td>\n",
              "      <td>f</td>\n",
              "      <td>x</td>\n",
              "      <td>2</td>\n",
              "      <td>medium damage</td>\n",
              "    </tr>\n",
              "    <tr>\n",
              "      <th>7</th>\n",
              "      <td>475515</td>\n",
              "      <td>True</td>\n",
              "      <td>v</td>\n",
              "      <td>x</td>\n",
              "      <td>1</td>\n",
              "      <td>low damage</td>\n",
              "    </tr>\n",
              "    <tr>\n",
              "      <th>8</th>\n",
              "      <td>441126</td>\n",
              "      <td>True</td>\n",
              "      <td>f</td>\n",
              "      <td>q</td>\n",
              "      <td>2</td>\n",
              "      <td>medium damage</td>\n",
              "    </tr>\n",
              "    <tr>\n",
              "      <th>10</th>\n",
              "      <td>7962</td>\n",
              "      <td>True</td>\n",
              "      <td>f</td>\n",
              "      <td>q</td>\n",
              "      <td>3</td>\n",
              "      <td>complete destruction</td>\n",
              "    </tr>\n",
              "    <tr>\n",
              "      <th>12</th>\n",
              "      <td>444381</td>\n",
              "      <td>True</td>\n",
              "      <td>x</td>\n",
              "      <td>x</td>\n",
              "      <td>2</td>\n",
              "      <td>medium damage</td>\n",
              "    </tr>\n",
              "    <tr>\n",
              "      <th>...</th>\n",
              "      <td>...</td>\n",
              "      <td>...</td>\n",
              "      <td>...</td>\n",
              "      <td>...</td>\n",
              "      <td>...</td>\n",
              "      <td>...</td>\n",
              "    </tr>\n",
              "    <tr>\n",
              "      <th>260583</th>\n",
              "      <td>192421</td>\n",
              "      <td>True</td>\n",
              "      <td>f</td>\n",
              "      <td>q</td>\n",
              "      <td>2</td>\n",
              "      <td>medium damage</td>\n",
              "    </tr>\n",
              "    <tr>\n",
              "      <th>260585</th>\n",
              "      <td>722577</td>\n",
              "      <td>True</td>\n",
              "      <td>f</td>\n",
              "      <td>x</td>\n",
              "      <td>2</td>\n",
              "      <td>medium damage</td>\n",
              "    </tr>\n",
              "    <tr>\n",
              "      <th>260587</th>\n",
              "      <td>603159</td>\n",
              "      <td>True</td>\n",
              "      <td>f</td>\n",
              "      <td>q</td>\n",
              "      <td>3</td>\n",
              "      <td>complete destruction</td>\n",
              "    </tr>\n",
              "    <tr>\n",
              "      <th>260590</th>\n",
              "      <td>695987</td>\n",
              "      <td>True</td>\n",
              "      <td>f</td>\n",
              "      <td>q</td>\n",
              "      <td>2</td>\n",
              "      <td>medium damage</td>\n",
              "    </tr>\n",
              "    <tr>\n",
              "      <th>260592</th>\n",
              "      <td>207683</td>\n",
              "      <td>True</td>\n",
              "      <td>f</td>\n",
              "      <td>q</td>\n",
              "      <td>2</td>\n",
              "      <td>medium damage</td>\n",
              "    </tr>\n",
              "  </tbody>\n",
              "</table>\n",
              "<p>66450 rows × 6 columns</p>\n",
              "</div>"
            ],
            "text/plain": [
              "        building_id  ...       Damage_category\n",
              "3            590882  ...         medium damage\n",
              "7            475515  ...            low damage\n",
              "8            441126  ...         medium damage\n",
              "10             7962  ...  complete destruction\n",
              "12           444381  ...         medium damage\n",
              "...             ...  ...                   ...\n",
              "260583       192421  ...         medium damage\n",
              "260585       722577  ...         medium damage\n",
              "260587       603159  ...  complete destruction\n",
              "260590       695987  ...         medium damage\n",
              "260592       207683  ...         medium damage\n",
              "\n",
              "[66450 rows x 6 columns]"
            ]
          },
          "metadata": {},
          "execution_count": 25
        }
      ],
      "source": [
        "# get the buildings that have timber structure with building ID, damage grade 3 and damage category\n",
        "timber = New_dataset_damagecategory.loc[New_dataset_damagecategory.has_superstructure_timber==1, ['building_id','has_superstructure_timber','ground_floor_type', 'other_floor_type','damage_grade','Damage_category']]\n",
        "timber"
      ]
    },
    {
      "cell_type": "code",
      "execution_count": null,
      "metadata": {
        "colab": {
          "base_uri": "https://localhost:8080/"
        },
        "id": "8zCdcy9Pz4Kx",
        "outputId": "5d7bdfe3-09a2-44b7-9eb2-68d07063dda9"
      },
      "outputs": [
        {
          "output_type": "execute_result",
          "data": {
            "text/html": [
              "<div>\n",
              "<style scoped>\n",
              "    .dataframe tbody tr th:only-of-type {\n",
              "        vertical-align: middle;\n",
              "    }\n",
              "\n",
              "    .dataframe tbody tr th {\n",
              "        vertical-align: top;\n",
              "    }\n",
              "\n",
              "    .dataframe thead th {\n",
              "        text-align: right;\n",
              "    }\n",
              "</style>\n",
              "<table border=\"1\" class=\"dataframe\">\n",
              "  <thead>\n",
              "    <tr style=\"text-align: right;\">\n",
              "      <th></th>\n",
              "      <th>building_id</th>\n",
              "      <th>has_superstructure_bamboo</th>\n",
              "      <th>ground_floor_type</th>\n",
              "      <th>other_floor_type</th>\n",
              "      <th>damage_grade</th>\n",
              "      <th>Damage_category</th>\n",
              "    </tr>\n",
              "  </thead>\n",
              "  <tbody>\n",
              "    <tr>\n",
              "      <th>3</th>\n",
              "      <td>590882</td>\n",
              "      <td>True</td>\n",
              "      <td>f</td>\n",
              "      <td>x</td>\n",
              "      <td>2</td>\n",
              "      <td>medium damage</td>\n",
              "    </tr>\n",
              "    <tr>\n",
              "      <th>12</th>\n",
              "      <td>444381</td>\n",
              "      <td>True</td>\n",
              "      <td>x</td>\n",
              "      <td>x</td>\n",
              "      <td>2</td>\n",
              "      <td>medium damage</td>\n",
              "    </tr>\n",
              "    <tr>\n",
              "      <th>76</th>\n",
              "      <td>425720</td>\n",
              "      <td>True</td>\n",
              "      <td>f</td>\n",
              "      <td>x</td>\n",
              "      <td>1</td>\n",
              "      <td>low damage</td>\n",
              "    </tr>\n",
              "    <tr>\n",
              "      <th>85</th>\n",
              "      <td>67684</td>\n",
              "      <td>True</td>\n",
              "      <td>f</td>\n",
              "      <td>x</td>\n",
              "      <td>3</td>\n",
              "      <td>complete destruction</td>\n",
              "    </tr>\n",
              "    <tr>\n",
              "      <th>100</th>\n",
              "      <td>623033</td>\n",
              "      <td>True</td>\n",
              "      <td>x</td>\n",
              "      <td>q</td>\n",
              "      <td>2</td>\n",
              "      <td>medium damage</td>\n",
              "    </tr>\n",
              "    <tr>\n",
              "      <th>...</th>\n",
              "      <td>...</td>\n",
              "      <td>...</td>\n",
              "      <td>...</td>\n",
              "      <td>...</td>\n",
              "      <td>...</td>\n",
              "      <td>...</td>\n",
              "    </tr>\n",
              "    <tr>\n",
              "      <th>260564</th>\n",
              "      <td>43915</td>\n",
              "      <td>True</td>\n",
              "      <td>f</td>\n",
              "      <td>x</td>\n",
              "      <td>2</td>\n",
              "      <td>medium damage</td>\n",
              "    </tr>\n",
              "    <tr>\n",
              "      <th>260565</th>\n",
              "      <td>296490</td>\n",
              "      <td>True</td>\n",
              "      <td>f</td>\n",
              "      <td>q</td>\n",
              "      <td>2</td>\n",
              "      <td>medium damage</td>\n",
              "    </tr>\n",
              "    <tr>\n",
              "      <th>260573</th>\n",
              "      <td>663276</td>\n",
              "      <td>True</td>\n",
              "      <td>f</td>\n",
              "      <td>q</td>\n",
              "      <td>3</td>\n",
              "      <td>complete destruction</td>\n",
              "    </tr>\n",
              "    <tr>\n",
              "      <th>260577</th>\n",
              "      <td>185096</td>\n",
              "      <td>True</td>\n",
              "      <td>f</td>\n",
              "      <td>q</td>\n",
              "      <td>2</td>\n",
              "      <td>medium damage</td>\n",
              "    </tr>\n",
              "    <tr>\n",
              "      <th>260590</th>\n",
              "      <td>695987</td>\n",
              "      <td>True</td>\n",
              "      <td>f</td>\n",
              "      <td>q</td>\n",
              "      <td>2</td>\n",
              "      <td>medium damage</td>\n",
              "    </tr>\n",
              "  </tbody>\n",
              "</table>\n",
              "<p>22154 rows × 6 columns</p>\n",
              "</div>"
            ],
            "text/plain": [
              "        building_id  ...       Damage_category\n",
              "3            590882  ...         medium damage\n",
              "12           444381  ...         medium damage\n",
              "76           425720  ...            low damage\n",
              "85            67684  ...  complete destruction\n",
              "100          623033  ...         medium damage\n",
              "...             ...  ...                   ...\n",
              "260564        43915  ...         medium damage\n",
              "260565       296490  ...         medium damage\n",
              "260573       663276  ...  complete destruction\n",
              "260577       185096  ...         medium damage\n",
              "260590       695987  ...         medium damage\n",
              "\n",
              "[22154 rows x 6 columns]"
            ]
          },
          "metadata": {},
          "execution_count": 26
        }
      ],
      "source": [
        "# get the buildings that have bamboo structure with building ID, damage grade 3 and damage category\n",
        "bamboo = New_dataset_damagecategory.loc[New_dataset_damagecategory.has_superstructure_bamboo==1, ['building_id','has_superstructure_bamboo','ground_floor_type', 'other_floor_type','damage_grade','Damage_category']]\n",
        "bamboo"
      ]
    },
    {
      "cell_type": "code",
      "execution_count": null,
      "metadata": {
        "colab": {
          "base_uri": "https://localhost:8080/"
        },
        "id": "lYCK6YCz0eE7",
        "outputId": "f8c29d93-53d6-421d-d7ca-1beafb597bd4"
      },
      "outputs": [
        {
          "output_type": "execute_result",
          "data": {
            "text/html": [
              "<div>\n",
              "<style scoped>\n",
              "    .dataframe tbody tr th:only-of-type {\n",
              "        vertical-align: middle;\n",
              "    }\n",
              "\n",
              "    .dataframe tbody tr th {\n",
              "        vertical-align: top;\n",
              "    }\n",
              "\n",
              "    .dataframe thead th {\n",
              "        text-align: right;\n",
              "    }\n",
              "</style>\n",
              "<table border=\"1\" class=\"dataframe\">\n",
              "  <thead>\n",
              "    <tr style=\"text-align: right;\">\n",
              "      <th></th>\n",
              "      <th>building_id</th>\n",
              "      <th>has_superstructure_rc_non_engineered</th>\n",
              "      <th>ground_floor_type</th>\n",
              "      <th>other_floor_type</th>\n",
              "      <th>damage_grade</th>\n",
              "      <th>Damage_category</th>\n",
              "    </tr>\n",
              "  </thead>\n",
              "  <tbody>\n",
              "    <tr>\n",
              "      <th>45</th>\n",
              "      <td>440102</td>\n",
              "      <td>True</td>\n",
              "      <td>v</td>\n",
              "      <td>j</td>\n",
              "      <td>1</td>\n",
              "      <td>low damage</td>\n",
              "    </tr>\n",
              "    <tr>\n",
              "      <th>99</th>\n",
              "      <td>697129</td>\n",
              "      <td>True</td>\n",
              "      <td>f</td>\n",
              "      <td>x</td>\n",
              "      <td>2</td>\n",
              "      <td>medium damage</td>\n",
              "    </tr>\n",
              "    <tr>\n",
              "      <th>114</th>\n",
              "      <td>533100</td>\n",
              "      <td>True</td>\n",
              "      <td>v</td>\n",
              "      <td>s</td>\n",
              "      <td>1</td>\n",
              "      <td>low damage</td>\n",
              "    </tr>\n",
              "    <tr>\n",
              "      <th>140</th>\n",
              "      <td>958524</td>\n",
              "      <td>True</td>\n",
              "      <td>f</td>\n",
              "      <td>x</td>\n",
              "      <td>2</td>\n",
              "      <td>medium damage</td>\n",
              "    </tr>\n",
              "    <tr>\n",
              "      <th>208</th>\n",
              "      <td>1025864</td>\n",
              "      <td>True</td>\n",
              "      <td>f</td>\n",
              "      <td>x</td>\n",
              "      <td>2</td>\n",
              "      <td>medium damage</td>\n",
              "    </tr>\n",
              "    <tr>\n",
              "      <th>...</th>\n",
              "      <td>...</td>\n",
              "      <td>...</td>\n",
              "      <td>...</td>\n",
              "      <td>...</td>\n",
              "      <td>...</td>\n",
              "      <td>...</td>\n",
              "    </tr>\n",
              "    <tr>\n",
              "      <th>260498</th>\n",
              "      <td>244286</td>\n",
              "      <td>True</td>\n",
              "      <td>v</td>\n",
              "      <td>s</td>\n",
              "      <td>2</td>\n",
              "      <td>medium damage</td>\n",
              "    </tr>\n",
              "    <tr>\n",
              "      <th>260510</th>\n",
              "      <td>278052</td>\n",
              "      <td>True</td>\n",
              "      <td>f</td>\n",
              "      <td>q</td>\n",
              "      <td>3</td>\n",
              "      <td>complete destruction</td>\n",
              "    </tr>\n",
              "    <tr>\n",
              "      <th>260520</th>\n",
              "      <td>353176</td>\n",
              "      <td>True</td>\n",
              "      <td>v</td>\n",
              "      <td>j</td>\n",
              "      <td>1</td>\n",
              "      <td>low damage</td>\n",
              "    </tr>\n",
              "    <tr>\n",
              "      <th>260550</th>\n",
              "      <td>534789</td>\n",
              "      <td>True</td>\n",
              "      <td>f</td>\n",
              "      <td>x</td>\n",
              "      <td>2</td>\n",
              "      <td>medium damage</td>\n",
              "    </tr>\n",
              "    <tr>\n",
              "      <th>260589</th>\n",
              "      <td>858025</td>\n",
              "      <td>True</td>\n",
              "      <td>v</td>\n",
              "      <td>s</td>\n",
              "      <td>1</td>\n",
              "      <td>low damage</td>\n",
              "    </tr>\n",
              "  </tbody>\n",
              "</table>\n",
              "<p>11099 rows × 6 columns</p>\n",
              "</div>"
            ],
            "text/plain": [
              "        building_id  ...       Damage_category\n",
              "45           440102  ...            low damage\n",
              "99           697129  ...         medium damage\n",
              "114          533100  ...            low damage\n",
              "140          958524  ...         medium damage\n",
              "208         1025864  ...         medium damage\n",
              "...             ...  ...                   ...\n",
              "260498       244286  ...         medium damage\n",
              "260510       278052  ...  complete destruction\n",
              "260520       353176  ...            low damage\n",
              "260550       534789  ...         medium damage\n",
              "260589       858025  ...            low damage\n",
              "\n",
              "[11099 rows x 6 columns]"
            ]
          },
          "metadata": {},
          "execution_count": 27
        }
      ],
      "source": [
        "# get the buildings that have non engineered structure with building ID\n",
        "non_engineerd = New_dataset_damagecategory.loc[New_dataset_damagecategory.has_superstructure_rc_non_engineered==1, ['building_id','has_superstructure_rc_non_engineered','ground_floor_type', 'other_floor_type','damage_grade','Damage_category']]\n",
        "non_engineerd"
      ]
    },
    {
      "cell_type": "code",
      "execution_count": null,
      "metadata": {
        "colab": {
          "base_uri": "https://localhost:8080/"
        },
        "id": "H8q3aDmW5UhM",
        "outputId": "c36bf427-3104-45bd-c039-9980a7a8be1a"
      },
      "outputs": [
        {
          "output_type": "execute_result",
          "data": {
            "text/html": [
              "<div>\n",
              "<style scoped>\n",
              "    .dataframe tbody tr th:only-of-type {\n",
              "        vertical-align: middle;\n",
              "    }\n",
              "\n",
              "    .dataframe tbody tr th {\n",
              "        vertical-align: top;\n",
              "    }\n",
              "\n",
              "    .dataframe thead th {\n",
              "        text-align: right;\n",
              "    }\n",
              "</style>\n",
              "<table border=\"1\" class=\"dataframe\">\n",
              "  <thead>\n",
              "    <tr style=\"text-align: right;\">\n",
              "      <th></th>\n",
              "      <th>building_id</th>\n",
              "      <th>has_superstructure_rc_engineered</th>\n",
              "      <th>ground_floor_type</th>\n",
              "      <th>other_floor_type</th>\n",
              "      <th>damage_grade</th>\n",
              "      <th>Damage_category</th>\n",
              "    </tr>\n",
              "  </thead>\n",
              "  <tbody>\n",
              "    <tr>\n",
              "      <th>53</th>\n",
              "      <td>288541</td>\n",
              "      <td>True</td>\n",
              "      <td>v</td>\n",
              "      <td>j</td>\n",
              "      <td>1</td>\n",
              "      <td>low damage</td>\n",
              "    </tr>\n",
              "    <tr>\n",
              "      <th>71</th>\n",
              "      <td>708530</td>\n",
              "      <td>True</td>\n",
              "      <td>v</td>\n",
              "      <td>j</td>\n",
              "      <td>2</td>\n",
              "      <td>medium damage</td>\n",
              "    </tr>\n",
              "    <tr>\n",
              "      <th>108</th>\n",
              "      <td>635262</td>\n",
              "      <td>True</td>\n",
              "      <td>v</td>\n",
              "      <td>j</td>\n",
              "      <td>1</td>\n",
              "      <td>low damage</td>\n",
              "    </tr>\n",
              "    <tr>\n",
              "      <th>248</th>\n",
              "      <td>920565</td>\n",
              "      <td>True</td>\n",
              "      <td>x</td>\n",
              "      <td>s</td>\n",
              "      <td>1</td>\n",
              "      <td>low damage</td>\n",
              "    </tr>\n",
              "    <tr>\n",
              "      <th>311</th>\n",
              "      <td>799072</td>\n",
              "      <td>True</td>\n",
              "      <td>v</td>\n",
              "      <td>s</td>\n",
              "      <td>1</td>\n",
              "      <td>low damage</td>\n",
              "    </tr>\n",
              "    <tr>\n",
              "      <th>...</th>\n",
              "      <td>...</td>\n",
              "      <td>...</td>\n",
              "      <td>...</td>\n",
              "      <td>...</td>\n",
              "      <td>...</td>\n",
              "      <td>...</td>\n",
              "    </tr>\n",
              "    <tr>\n",
              "      <th>260213</th>\n",
              "      <td>539650</td>\n",
              "      <td>True</td>\n",
              "      <td>v</td>\n",
              "      <td>s</td>\n",
              "      <td>1</td>\n",
              "      <td>low damage</td>\n",
              "    </tr>\n",
              "    <tr>\n",
              "      <th>260271</th>\n",
              "      <td>161297</td>\n",
              "      <td>True</td>\n",
              "      <td>v</td>\n",
              "      <td>s</td>\n",
              "      <td>1</td>\n",
              "      <td>low damage</td>\n",
              "    </tr>\n",
              "    <tr>\n",
              "      <th>260458</th>\n",
              "      <td>177964</td>\n",
              "      <td>True</td>\n",
              "      <td>x</td>\n",
              "      <td>j</td>\n",
              "      <td>1</td>\n",
              "      <td>low damage</td>\n",
              "    </tr>\n",
              "    <tr>\n",
              "      <th>260530</th>\n",
              "      <td>344478</td>\n",
              "      <td>True</td>\n",
              "      <td>v</td>\n",
              "      <td>s</td>\n",
              "      <td>1</td>\n",
              "      <td>low damage</td>\n",
              "    </tr>\n",
              "    <tr>\n",
              "      <th>260532</th>\n",
              "      <td>155803</td>\n",
              "      <td>True</td>\n",
              "      <td>v</td>\n",
              "      <td>s</td>\n",
              "      <td>2</td>\n",
              "      <td>medium damage</td>\n",
              "    </tr>\n",
              "  </tbody>\n",
              "</table>\n",
              "<p>4133 rows × 6 columns</p>\n",
              "</div>"
            ],
            "text/plain": [
              "        building_id  ...  Damage_category\n",
              "53           288541  ...       low damage\n",
              "71           708530  ...    medium damage\n",
              "108          635262  ...       low damage\n",
              "248          920565  ...       low damage\n",
              "311          799072  ...       low damage\n",
              "...             ...  ...              ...\n",
              "260213       539650  ...       low damage\n",
              "260271       161297  ...       low damage\n",
              "260458       177964  ...       low damage\n",
              "260530       344478  ...       low damage\n",
              "260532       155803  ...    medium damage\n",
              "\n",
              "[4133 rows x 6 columns]"
            ]
          },
          "metadata": {},
          "execution_count": 28
        }
      ],
      "source": [
        "#get the buildings that have engineered structured \n",
        "engineerd = New_dataset_damagecategory.loc[New_dataset_damagecategory.has_superstructure_rc_engineered==1, ['building_id','has_superstructure_rc_engineered','ground_floor_type', 'other_floor_type','damage_grade','Damage_category']]\n",
        "engineerd"
      ]
    },
    {
      "cell_type": "code",
      "execution_count": null,
      "metadata": {
        "colab": {
          "base_uri": "https://localhost:8080/"
        },
        "id": "LG5NKDDd5VHF",
        "outputId": "d884cdff-7ccf-4b15-e0df-3cef715b5697"
      },
      "outputs": [
        {
          "output_type": "execute_result",
          "data": {
            "text/html": [
              "<div>\n",
              "<style scoped>\n",
              "    .dataframe tbody tr th:only-of-type {\n",
              "        vertical-align: middle;\n",
              "    }\n",
              "\n",
              "    .dataframe tbody tr th {\n",
              "        vertical-align: top;\n",
              "    }\n",
              "\n",
              "    .dataframe thead th {\n",
              "        text-align: right;\n",
              "    }\n",
              "</style>\n",
              "<table border=\"1\" class=\"dataframe\">\n",
              "  <thead>\n",
              "    <tr style=\"text-align: right;\">\n",
              "      <th></th>\n",
              "      <th>building_id</th>\n",
              "      <th>has_superstructure_other</th>\n",
              "      <th>ground_floor_type</th>\n",
              "      <th>other_floor_type</th>\n",
              "      <th>damage_grade</th>\n",
              "      <th>Damage_category</th>\n",
              "    </tr>\n",
              "  </thead>\n",
              "  <tbody>\n",
              "    <tr>\n",
              "      <th>49</th>\n",
              "      <td>402996</td>\n",
              "      <td>True</td>\n",
              "      <td>v</td>\n",
              "      <td>j</td>\n",
              "      <td>1</td>\n",
              "      <td>low damage</td>\n",
              "    </tr>\n",
              "    <tr>\n",
              "      <th>61</th>\n",
              "      <td>1044113</td>\n",
              "      <td>True</td>\n",
              "      <td>f</td>\n",
              "      <td>q</td>\n",
              "      <td>2</td>\n",
              "      <td>medium damage</td>\n",
              "    </tr>\n",
              "    <tr>\n",
              "      <th>608</th>\n",
              "      <td>94919</td>\n",
              "      <td>True</td>\n",
              "      <td>f</td>\n",
              "      <td>q</td>\n",
              "      <td>1</td>\n",
              "      <td>low damage</td>\n",
              "    </tr>\n",
              "    <tr>\n",
              "      <th>615</th>\n",
              "      <td>200363</td>\n",
              "      <td>True</td>\n",
              "      <td>f</td>\n",
              "      <td>q</td>\n",
              "      <td>2</td>\n",
              "      <td>medium damage</td>\n",
              "    </tr>\n",
              "    <tr>\n",
              "      <th>659</th>\n",
              "      <td>444343</td>\n",
              "      <td>True</td>\n",
              "      <td>f</td>\n",
              "      <td>x</td>\n",
              "      <td>3</td>\n",
              "      <td>complete destruction</td>\n",
              "    </tr>\n",
              "    <tr>\n",
              "      <th>...</th>\n",
              "      <td>...</td>\n",
              "      <td>...</td>\n",
              "      <td>...</td>\n",
              "      <td>...</td>\n",
              "      <td>...</td>\n",
              "      <td>...</td>\n",
              "    </tr>\n",
              "    <tr>\n",
              "      <th>260486</th>\n",
              "      <td>185565</td>\n",
              "      <td>True</td>\n",
              "      <td>f</td>\n",
              "      <td>q</td>\n",
              "      <td>2</td>\n",
              "      <td>medium damage</td>\n",
              "    </tr>\n",
              "    <tr>\n",
              "      <th>260496</th>\n",
              "      <td>1001309</td>\n",
              "      <td>True</td>\n",
              "      <td>f</td>\n",
              "      <td>x</td>\n",
              "      <td>3</td>\n",
              "      <td>complete destruction</td>\n",
              "    </tr>\n",
              "    <tr>\n",
              "      <th>260500</th>\n",
              "      <td>23479</td>\n",
              "      <td>True</td>\n",
              "      <td>f</td>\n",
              "      <td>q</td>\n",
              "      <td>2</td>\n",
              "      <td>medium damage</td>\n",
              "    </tr>\n",
              "    <tr>\n",
              "      <th>260523</th>\n",
              "      <td>70536</td>\n",
              "      <td>True</td>\n",
              "      <td>f</td>\n",
              "      <td>j</td>\n",
              "      <td>2</td>\n",
              "      <td>medium damage</td>\n",
              "    </tr>\n",
              "    <tr>\n",
              "      <th>260573</th>\n",
              "      <td>663276</td>\n",
              "      <td>True</td>\n",
              "      <td>f</td>\n",
              "      <td>q</td>\n",
              "      <td>3</td>\n",
              "      <td>complete destruction</td>\n",
              "    </tr>\n",
              "  </tbody>\n",
              "</table>\n",
              "<p>3905 rows × 6 columns</p>\n",
              "</div>"
            ],
            "text/plain": [
              "        building_id  ...       Damage_category\n",
              "49           402996  ...            low damage\n",
              "61          1044113  ...         medium damage\n",
              "608           94919  ...            low damage\n",
              "615          200363  ...         medium damage\n",
              "659          444343  ...  complete destruction\n",
              "...             ...  ...                   ...\n",
              "260486       185565  ...         medium damage\n",
              "260496      1001309  ...  complete destruction\n",
              "260500        23479  ...         medium damage\n",
              "260523        70536  ...         medium damage\n",
              "260573       663276  ...  complete destruction\n",
              "\n",
              "[3905 rows x 6 columns]"
            ]
          },
          "metadata": {},
          "execution_count": 29
        }
      ],
      "source": [
        "#get the buildings that have other type of structure\n",
        "other_struct = New_dataset_damagecategory.loc[New_dataset_damagecategory.has_superstructure_other==1, ['building_id','has_superstructure_other','ground_floor_type', 'other_floor_type','damage_grade','Damage_category']]\n",
        "other_struct"
      ]
    },
    {
      "cell_type": "markdown",
      "metadata": {
        "id": "WaS4nhxoCQwk"
      },
      "source": [
        "# 5.8. EXPLANATORY DATA ANALYSIS\n",
        "\n",
        "Here, the data is analysed showing the buildings damaged according to structural type. Data visualisation was conduted in this section using Bar chart."
      ]
    },
    {
      "cell_type": "markdown",
      "metadata": {
        "id": "K-l1ZMFlkWCN"
      },
      "source": [
        "THE DAMAGE ANALYSIS ON THE STRUCTURAL TYPES AND FLOOR TYPES WHICH YIELDED A RESULT.\n",
        "\n",
        "\n",
        "1.   **Adobe mud structural types**\n",
        "\n",
        "*   Damage level 2=1822 buildings\n",
        "*   Damage level 3=1113 buildings\n",
        "*   Damage level 1=80 buildings\n",
        "\n",
        "2.   **Mud motar stone structural types**\n",
        "\n",
        "*   Damage level 2=15199 buildings\n",
        "*   Damage level 3=10269 buildings\n",
        "*   Damage level 1=1181 buildings\n",
        "\n",
        "3.   **Stone flag structural types**\n",
        "\n",
        "*   Damage level 2=609 buildings\n",
        "*   Damage level 3=552 buildings\n",
        "*   Damage level 1=23 buildings\n",
        "\n",
        "4.   **Cement motar structural types**\n",
        "\n",
        "*   Damage level 2=420 buildings\n",
        "*   Damage level 1=109 buildings\n",
        "*   Damage level 3=103 buildings\n",
        "\n",
        "5.   **Timber structural types**\n",
        "\n",
        "*   Damage level 2=5369 buildings\n",
        "*   Damage level 3=2468 buildings\n",
        "*   Damage level 1=977 buildings\n",
        "\n",
        "6.   **Bamboo structural types**\n",
        "\n",
        "*   Damage level 2=1930 buildings\n",
        "*   Damage level 3=702 buildings\n",
        "*   Damage level 1=380 buildings\n",
        "\n",
        "7.   **Rc non engineered structural types**\n",
        "\n",
        "*   Damage level 2=764 buildings\n",
        "*   Damage level 1=525 buildings\n",
        "*   Damage level 3=180 buildings\n",
        "\n",
        "8.   **Rc engineered structural types**\n",
        "\n",
        "*   Damage level 1= 349 buildings\n",
        "*   Damage level 2=217 buildings\n",
        "*   Damage level 3=12 buildings\n",
        "\n",
        "9.   **Other structural types**\n",
        "\n",
        "*   Damage level 2=319 buildings\n",
        "*   Damage level 3=125 buildings\n",
        "*   Damage level 1=85 buildings\n",
        "\n",
        "\n",
        "\n",
        "\n"
      ]
    },
    {
      "cell_type": "code",
      "execution_count": null,
      "metadata": {
        "colab": {
          "base_uri": "https://localhost:8080/"
        },
        "id": "K-XkCjbrur8Y",
        "outputId": "45a999fb-935e-474b-e652-b7010e73c249"
      },
      "outputs": [
        {
          "output_type": "execute_result",
          "data": {
            "text/plain": [
              "damage_grade  ground_floor_type  other_floor_type\n",
              "2             f                  q                   8889\n",
              "3             f                  q                   5295\n",
              "2             f                  x                   2274\n",
              "3             f                  x                   1941\n",
              "2             x                  q                    960\n",
              "              f                  j                    858\n",
              "3             f                  j                    552\n",
              "              x                  q                    469\n",
              "1             f                  q                    311\n",
              "2             x                  x                    289\n",
              "              v                  q                    179\n",
              "3             x                  x                    171\n",
              "1             f                  j                     97\n",
              "2             x                  j                     78\n",
              "              f                  s                     77\n",
              "1             f                  x                     77\n",
              "2             v                  x                     73\n",
              "                                 s                     72\n",
              "3             x                  j                     57\n",
              "2             v                  j                     52\n",
              "              x                  s                     47\n",
              "1             x                  q                     35\n",
              "3             v                  q                     27\n",
              "              f                  s                     24\n",
              "2             m                  q                     24\n",
              "3             x                  s                     17\n",
              "              v                  s                     16\n",
              "2             m                  x                     15\n",
              "1             x                  x                     14\n",
              "              v                  s                     12\n",
              "                                 q                     11\n",
              "              x                  s                     11\n",
              "3             v                  x                     10\n",
              "1             v                  j                     10\n",
              "3             m                  q                      8\n",
              "              v                  j                      7\n",
              "2             z                  x                      6\n",
              "3             m                  x                      6\n",
              "1             v                  x                      6\n",
              "              x                  j                      5\n",
              "2             z                  q                      4\n",
              "3             m                  j                      3\n",
              "2             m                  j                      3\n",
              "1             f                  s                      2\n",
              "2             m                  s                      2\n",
              "3             z                  q                      1\n",
              "1             z                  x                      1\n",
              "              m                  x                      1\n",
              "                                 q                      1\n",
              "3             z                  j                      1\n",
              "1             m                  j                      0\n",
              "                                 s                      0\n",
              "3             m                  s                      0\n",
              "1             z                  j                      0\n",
              "                                 q                      0\n",
              "                                 s                      0\n",
              "3             z                  s                      0\n",
              "2             z                  j                      0\n",
              "                                 s                      0\n",
              "3             z                  x                      0\n",
              "dtype: int64"
            ]
          },
          "metadata": {},
          "execution_count": 56
        }
      ],
      "source": [
        "# get the number of buildings with damage leve 1,2,3 according to structural type adobe_mud\n",
        "#Adobe_mud.groupby('damage_grade').other_floor_type.size().sort_values(ascending=False) \n",
        "#finding the damage level of the floor types\n",
        "Adobe_mud.groupby(['damage_grade','ground_floor_type', 'other_floor_type']).size().sort_values(ascending=False)\n",
        "\n",
        "\n"
      ]
    },
    {
      "cell_type": "code",
      "execution_count": null,
      "metadata": {
        "colab": {
          "base_uri": "https://localhost:8080/"
        },
        "id": "QVk_ug-tKbLI",
        "outputId": "e66599fc-1759-46c7-a3ec-1799ccb9f6be"
      },
      "outputs": [
        {
          "output_type": "execute_result",
          "data": {
            "text/plain": [
              "<matplotlib.axes._subplots.AxesSubplot at 0x7f8ae7442e50>"
            ]
          },
          "metadata": {},
          "execution_count": 57
        },
        {
          "output_type": "display_data",
          "data": {
            "image/png": "[encoded data removed]",
            "text/plain": [
              "<Figure size 576x432 with 1 Axes>"
            ]
          },
          "metadata": {
            "needs_background": "light"
          }
        }
      ],
      "source": [
        "#Representing the Adobe structure using bar plot\n",
        "Adobe_mud.groupby('damage_grade').ground_floor_type.value_counts().unstack().plot.bar(figsize=(8,6))"
      ]
    },
    {
      "cell_type": "code",
      "execution_count": null,
      "metadata": {
        "colab": {
          "base_uri": "https://localhost:8080/"
        },
        "id": "20Cgd3ScLYqw",
        "outputId": "bb4a05da-511c-4c30-b9d8-c5749c4ca769"
      },
      "outputs": [
        {
          "output_type": "execute_result",
          "data": {
            "text/plain": [
              "<matplotlib.axes._subplots.AxesSubplot at 0x7f8ae73bafd0>"
            ]
          },
          "metadata": {},
          "execution_count": 58
        },
        {
          "output_type": "display_data",
          "data": {
            "image/png": "[encoded data removed]",
            "text/plain": [
              "<Figure size 576x432 with 1 Axes>"
            ]
          },
          "metadata": {
            "needs_background": "light"
          }
        }
      ],
      "source": [
        "#Representing the Adobe structure using bar plot for other floor types (type of construction used in higher than the ground floors except for the roof)\n",
        "Adobe_mud.groupby('damage_grade').other_floor_type.value_counts().unstack().plot.bar(figsize=(8,6))"
      ]
    },
    {
      "cell_type": "code",
      "execution_count": null,
      "metadata": {
        "colab": {
          "base_uri": "https://localhost:8080/"
        },
        "id": "0WPOdQ3tz0f6",
        "outputId": "174ef98b-364a-4165-f828-32fc59007a3b"
      },
      "outputs": [
        {
          "output_type": "execute_result",
          "data": {
            "text/plain": [
              "damage_grade  ground_floor_type  other_floor_type\n",
              "2             f                  q                   75452\n",
              "3             f                  q                   48563\n",
              "2             f                  x                   14881\n",
              "3             f                  x                   11847\n",
              "2             f                  j                   10111\n",
              "3             f                  j                    7768\n",
              "2             x                  q                    7645\n",
              "1             f                  q                    5107\n",
              "3             x                  q                    4391\n",
              "2             x                  x                    2021\n",
              "3             x                  x                    1598\n",
              "1             f                  j                    1446\n",
              "                                 x                    1146\n",
              "2             v                  q                    1102\n",
              "              x                  j                    1100\n",
              "3             x                  j                     957\n",
              "1             x                  q                     501\n",
              "2             v                  x                     496\n",
              "                                 j                     327\n",
              "3             v                  q                     240\n",
              "2             v                  s                     194\n",
              "              f                  s                     162\n",
              "3             v                  x                     150\n",
              "1             x                  j                     141\n",
              "              v                  q                     109\n",
              "              x                  x                     105\n",
              "2             m                  q                     101\n",
              "              z                  q                      89\n",
              "3             v                  j                      79\n",
              "2             z                  x                      75\n",
              "              x                  s                      63\n",
              "1             v                  x                      62\n",
              "3             f                  s                      60\n",
              "              v                  s                      59\n",
              "1             v                  j                      54\n",
              "2             z                  j                      53\n",
              "              m                  x                      49\n",
              "3             z                  x                      42\n",
              "1             v                  s                      40\n",
              "3             z                  j                      30\n",
              "              m                  q                      25\n",
              "              z                  q                      20\n",
              "2             m                  j                      20\n",
              "3             x                  s                      12\n",
              "1             m                  q                      11\n",
              "              x                  s                      10\n",
              "              f                  s                      10\n",
              "              z                  x                       8\n",
              "3             m                  x                       7\n",
              "2             m                  s                       6\n",
              "3             m                  j                       4\n",
              "1             m                  x                       3\n",
              "              z                  q                       3\n",
              "                                 j                       3\n",
              "3             m                  s                       2\n",
              "1             m                  j                       1\n",
              "                                 s                       0\n",
              "2             z                  s                       0\n",
              "3             z                  s                       0\n",
              "1             z                  s                       0\n",
              "dtype: int64"
            ]
          },
          "metadata": {},
          "execution_count": 59
        }
      ],
      "source": [
        "# get the number of buildings with damage leve 1,2,3 according to structural type mud_mortar_stone\n",
        "#mud_mortar_stone.groupby('damage_grade').other_floor_type.value_counts().sort_values(ascending=False) - finding the damage level of the floor types\n",
        "mud_mortar_stone.groupby(['damage_grade','ground_floor_type', 'other_floor_type']).size().sort_values(ascending=False)"
      ]
    },
    {
      "cell_type": "code",
      "execution_count": null,
      "metadata": {
        "colab": {
          "base_uri": "https://localhost:8080/"
        },
        "id": "pf28GT2FNZqz",
        "outputId": "2588243e-036a-42e2-9782-9249f1248226"
      },
      "outputs": [
        {
          "output_type": "execute_result",
          "data": {
            "text/plain": [
              "<matplotlib.axes._subplots.AxesSubplot at 0x7f8ae734f8d0>"
            ]
          },
          "metadata": {},
          "execution_count": 60
        },
        {
          "output_type": "display_data",
          "data": {
            "image/png": "[encoded data removed]",
            "text/plain": [
              "<Figure size 576x432 with 1 Axes>"
            ]
          },
          "metadata": {
            "needs_background": "light"
          }
        }
      ],
      "source": [
        "#Representing the Mud mortar stone structure using bar plot\n",
        "mud_mortar_stone.groupby('damage_grade').ground_floor_type.value_counts().unstack().plot.bar(figsize=(8,6))"
      ]
    },
    {
      "cell_type": "code",
      "execution_count": null,
      "metadata": {
        "colab": {
          "base_uri": "https://localhost:8080/"
        },
        "id": "c_JuwDPSN4EH",
        "outputId": "5bdfb4ad-49ca-4543-e9fe-5574b7c0d21d"
      },
      "outputs": [
        {
          "output_type": "execute_result",
          "data": {
            "text/plain": [
              "<matplotlib.axes._subplots.AxesSubplot at 0x7f8ae7279110>"
            ]
          },
          "metadata": {},
          "execution_count": 61
        },
        {
          "output_type": "display_data",
          "data": {
            "image/png": "[encoded data removed]",
            "text/plain": [
              "<Figure size 576x432 with 1 Axes>"
            ]
          },
          "metadata": {
            "needs_background": "light"
          }
        }
      ],
      "source": [
        "#Representing the Mud mortar stone structure using bar plot\n",
        "mud_mortar_stone.groupby('damage_grade').other_floor_type.value_counts().unstack().plot.bar(figsize=(8,6))"
      ]
    },
    {
      "cell_type": "code",
      "execution_count": null,
      "metadata": {
        "id": "7XxGlBVQYYwJ"
      },
      "outputs": [],
      "source": [
        ""
      ]
    },
    {
      "cell_type": "code",
      "execution_count": null,
      "metadata": {
        "colab": {
          "base_uri": "https://localhost:8080/"
        },
        "id": "Y-62IU1pz0kh",
        "outputId": "5b366ed4-9c30-406f-82ad-6b2c5c461c8c"
      },
      "outputs": [
        {
          "output_type": "execute_result",
          "data": {
            "text/plain": [
              "damage_grade  ground_floor_type  other_floor_type\n",
              "2             f                  q                   1762\n",
              "3             f                  x                   1485\n",
              "2             f                  x                   1419\n",
              "3             f                  q                   1318\n",
              "                                 j                    516\n",
              "2             f                  j                    465\n",
              "3             x                  x                    392\n",
              "2             x                  q                    181\n",
              "3             x                  q                    167\n",
              "                                 j                    162\n",
              "2             x                  x                    143\n",
              "                                 j                    106\n",
              "              z                  q                     98\n",
              "                                 j                     90\n",
              "3             z                  j                     63\n",
              "                                 x                     58\n",
              "2             z                  x                     57\n",
              "              v                  j                     53\n",
              "1             x                  q                     48\n",
              "              f                  q                     47\n",
              "2             v                  x                     45\n",
              "                                 q                     44\n",
              "1             f                  j                     31\n",
              "                                 x                     27\n",
              "2             v                  s                     22\n",
              "              m                  x                     20\n",
              "3             v                  x                     20\n",
              "              z                  q                     17\n",
              "              v                  j                     13\n",
              "2             f                  s                     12\n",
              "              x                  s                     10\n",
              "3             v                  s                      7\n",
              "                                 q                      7\n",
              "1             v                  j                      6\n",
              "              x                  j                      6\n",
              "2             m                  j                      5\n",
              "1             x                  s                      4\n",
              "              v                  x                      3\n",
              "              x                  x                      3\n",
              "3             m                  x                      2\n",
              "1             z                  x                      2\n",
              "3             f                  s                      2\n",
              "2             m                  q                      2\n",
              "1             z                  j                      2\n",
              "3             x                  s                      2\n",
              "1             v                  q                      1\n",
              "              m                  x                      1\n",
              "              f                  s                      1\n",
              "              m                  q                      0\n",
              "                                 j                      0\n",
              "                                 s                      0\n",
              "2             z                  s                      0\n",
              "1             v                  s                      0\n",
              "              z                  q                      0\n",
              "2             m                  s                      0\n",
              "3             z                  s                      0\n",
              "              m                  s                      0\n",
              "                                 q                      0\n",
              "                                 j                      0\n",
              "1             z                  s                      0\n",
              "dtype: int64"
            ]
          },
          "metadata": {},
          "execution_count": 62
        }
      ],
      "source": [
        "# get the number of buildings with damage leve 1,2,3 according to structural type stone flag\n",
        "#stone_flag.groupby('damage_grade').other_floor_type.value_counts().sort_values(ascending=False) - finding the damage level of the floor types\n",
        "stone_flag.groupby(['damage_grade','ground_floor_type', 'other_floor_type']).size().sort_values(ascending=False)"
      ]
    },
    {
      "cell_type": "code",
      "execution_count": null,
      "metadata": {
        "colab": {
          "base_uri": "https://localhost:8080/"
        },
        "id": "IDPbQe_SOYxk",
        "outputId": "aae1c24e-79b8-4f5b-9708-f8b8507cf11d"
      },
      "outputs": [
        {
          "output_type": "execute_result",
          "data": {
            "text/plain": [
              "<matplotlib.axes._subplots.AxesSubplot at 0x7f8ae7223310>"
            ]
          },
          "metadata": {},
          "execution_count": 63
        },
        {
          "output_type": "display_data",
          "data": {
            "image/png": "[encoded data removed]",
            "text/plain": [
              "<Figure size 576x432 with 1 Axes>"
            ]
          },
          "metadata": {
            "needs_background": "light"
          }
        }
      ],
      "source": [
        "#Representing the stone flag structure using bar plot\n",
        "stone_flag.groupby('damage_grade').ground_floor_type.value_counts().unstack().plot.bar(figsize=(8,6))"
      ]
    },
    {
      "cell_type": "code",
      "execution_count": null,
      "metadata": {
        "colab": {
          "base_uri": "https://localhost:8080/"
        },
        "id": "ee0enR61X4xg",
        "outputId": "99c343d9-eb4c-4fc9-855b-c1e918bba0c3"
      },
      "outputs": [
        {
          "output_type": "execute_result",
          "data": {
            "text/plain": [
              "<matplotlib.axes._subplots.AxesSubplot at 0x7f8ae714b110>"
            ]
          },
          "metadata": {},
          "execution_count": 64
        },
        {
          "output_type": "display_data",
          "data": {
            "image/png": "[encoded data removed]",
            "text/plain": [
              "<Figure size 576x432 with 1 Axes>"
            ]
          },
          "metadata": {
            "needs_background": "light"
          }
        }
      ],
      "source": [
        "#Representing the stone flag structure using bar plot\n",
        "stone_flag.groupby('damage_grade').other_floor_type.value_counts().unstack().plot.bar(figsize=(8,6))"
      ]
    },
    {
      "cell_type": "code",
      "execution_count": null,
      "metadata": {
        "colab": {
          "base_uri": "https://localhost:8080/"
        },
        "id": "PQtUHoXNz0o3",
        "outputId": "0574d99f-8063-4f39-c15f-d35e8666482e"
      },
      "outputs": [
        {
          "output_type": "execute_result",
          "data": {
            "text/plain": [
              "damage_grade  ground_floor_type  other_floor_type\n",
              "2             f                  q                   865\n",
              "              v                  s                   367\n",
              "              f                  x                   347\n",
              "              v                  j                   292\n",
              "                                 q                   273\n",
              "              x                  q                   239\n",
              "              v                  x                   214\n",
              "1             v                  s                   199\n",
              "3             f                  q                   176\n",
              "1             v                  j                   174\n",
              "2             x                  x                   164\n",
              "                                 j                   154\n",
              "              f                  j                   151\n",
              "3             f                  x                    94\n",
              "1             f                  q                    88\n",
              "2             x                  s                    83\n",
              "1             x                  j                    74\n",
              "3             v                  s                    60\n",
              "1             x                  s                    57\n",
              "3             v                  x                    55\n",
              "                                 q                    52\n",
              "                                 j                    50\n",
              "1             v                  x                    48\n",
              "3             x                  x                    46\n",
              "1             f                  j                    43\n",
              "3             x                  q                    43\n",
              "1             x                  q                    39\n",
              "              v                  q                    39\n",
              "              f                  x                    37\n",
              "2             f                  s                    36\n",
              "3             f                  j                    34\n",
              "              x                  j                    29\n",
              "2             m                  x                    27\n",
              "1             x                  x                    17\n",
              "3             x                  s                    11\n",
              "2             z                  x                     9\n",
              "3             f                  s                     9\n",
              "2             z                  q                     8\n",
              "              m                  j                     8\n",
              "1             f                  s                     6\n",
              "3             z                  x                     5\n",
              "2             m                  q                     5\n",
              "1             m                  j                     3\n",
              "2             z                  j                     3\n",
              "3             m                  x                     2\n",
              "                                 j                     2\n",
              "              z                  j                     2\n",
              "1             m                  x                     2\n",
              "                                 s                     2\n",
              "2             m                  s                     2\n",
              "3             z                  s                     2\n",
              "                                 q                     2\n",
              "1             z                  j                     1\n",
              "3             m                  q                     1\n",
              "2             z                  s                     1\n",
              "1             z                  s                     0\n",
              "                                 x                     0\n",
              "3             m                  s                     0\n",
              "1             m                  q                     0\n",
              "              z                  q                     0\n",
              "dtype: int64"
            ]
          },
          "metadata": {},
          "execution_count": 65
        }
      ],
      "source": [
        "# get the number of buildings with damage leve 1,2,3 according to structural type cement_mortar_stone\n",
        "#cement_mortar_stone.groupby('damage_grade').other_floor_type.value_counts().sort_values(ascending=False) - finding the damage level of the floor types\n",
        "cement_mortar_stone.groupby(['damage_grade','ground_floor_type', 'other_floor_type']).size().sort_values(ascending=False)"
      ]
    },
    {
      "cell_type": "code",
      "execution_count": null,
      "metadata": {
        "colab": {
          "base_uri": "https://localhost:8080/"
        },
        "id": "kku_87mAYC9Q",
        "outputId": "d5b530a8-84fe-42c2-d744-8b0d090a9f3d"
      },
      "outputs": [
        {
          "output_type": "execute_result",
          "data": {
            "text/plain": [
              "<matplotlib.axes._subplots.AxesSubplot at 0x7f8ae70eb4d0>"
            ]
          },
          "metadata": {},
          "execution_count": 66
        },
        {
          "output_type": "display_data",
          "data": {
            "image/png": "[encoded data removed]",
            "text/plain": [
              "<Figure size 576x432 with 1 Axes>"
            ]
          },
          "metadata": {
            "needs_background": "light"
          }
        }
      ],
      "source": [
        "#Representing the cement mortar stone structure using bar plot\n",
        "cement_mortar_stone.groupby('damage_grade').ground_floor_type.value_counts().unstack().plot.bar(figsize=(8,6))"
      ]
    },
    {
      "cell_type": "code",
      "execution_count": null,
      "metadata": {
        "colab": {
          "base_uri": "https://localhost:8080/"
        },
        "id": "ntykYioPZmDl",
        "outputId": "04b0de30-5064-4704-8f19-4ba85db9a7ef"
      },
      "outputs": [
        {
          "output_type": "execute_result",
          "data": {
            "text/plain": [
              "<matplotlib.axes._subplots.AxesSubplot at 0x7f8ae78c3210>"
            ]
          },
          "metadata": {},
          "execution_count": 67
        },
        {
          "output_type": "display_data",
          "data": {
            "image/png": "[encoded data removed]",
            "text/plain": [
              "<Figure size 576x432 with 1 Axes>"
            ]
          },
          "metadata": {
            "needs_background": "light"
          }
        }
      ],
      "source": [
        "#Representing the cement mortar stone structure using bar plot\n",
        "cement_mortar_stone.groupby('damage_grade').other_floor_type.value_counts().unstack().plot.bar(figsize=(8,6))"
      ]
    },
    {
      "cell_type": "code",
      "execution_count": null,
      "metadata": {
        "colab": {
          "base_uri": "https://localhost:8080/"
        },
        "id": "BRq1TDhEz0uX",
        "outputId": "f87c06fb-23bc-418f-8789-f56f83e8bc67"
      },
      "outputs": [
        {
          "output_type": "execute_result",
          "data": {
            "text/plain": [
              "damage_grade  ground_floor_type  other_floor_type\n",
              "2             f                  q                   22083\n",
              "3             f                  q                   10285\n",
              "2             f                  x                    7693\n",
              "                                 j                    4162\n",
              "3             f                  x                    3893\n",
              "2             x                  q                    2540\n",
              "1             f                  q                    2506\n",
              "3             f                  j                    2018\n",
              "1             f                  x                    1851\n",
              "                                 j                    1824\n",
              "3             x                  q                    1086\n",
              "2             x                  x                     871\n",
              "              v                  x                     721\n",
              "                                 q                     663\n",
              "3             x                  x                     662\n",
              "2             x                  j                     442\n",
              "              v                  j                     437\n",
              "1             v                  x                     386\n",
              "3             x                  j                     275\n",
              "1             x                  q                     232\n",
              "              v                  j                     214\n",
              "                                 q                     184\n",
              "2             v                  s                     155\n",
              "1             x                  x                     102\n",
              "3             v                  q                      99\n",
              "2             z                  x                      98\n",
              "1             z                  j                      91\n",
              "              x                  j                      88\n",
              "2             z                  j                      86\n",
              "3             v                  x                      70\n",
              "2             f                  s                      60\n",
              "              x                  s                      59\n",
              "1             v                  s                      56\n",
              "              z                  x                      51\n",
              "3             z                  j                      48\n",
              "                                 x                      44\n",
              "2             m                  q                      42\n",
              "3             v                  j                      40\n",
              "                                 s                      40\n",
              "2             z                  q                      32\n",
              "1             z                  q                      27\n",
              "2             m                  x                      26\n",
              "3             f                  s                      26\n",
              "2             m                  j                      16\n",
              "3             x                  s                      11\n",
              "              z                  q                      10\n",
              "1             f                  s                       9\n",
              "              x                  s                       9\n",
              "3             m                  q                       8\n",
              "1             m                  j                       6\n",
              "3             m                  x                       4\n",
              "1             m                  x                       3\n",
              "                                 q                       2\n",
              "3             m                  j                       1\n",
              "              z                  s                       1\n",
              "1             z                  s                       1\n",
              "2             m                  s                       1\n",
              "1             m                  s                       0\n",
              "3             m                  s                       0\n",
              "2             z                  s                       0\n",
              "dtype: int64"
            ]
          },
          "metadata": {},
          "execution_count": 68
        }
      ],
      "source": [
        "# get the number of buildings with damage leve 1,2,3 according to structural type timber\n",
        "#timber.groupby('damage_grade').other_floor_type.value_counts().sort_values(ascending=False) - finding the damage level of the floor types\n",
        "timber.groupby(['damage_grade','ground_floor_type', 'other_floor_type']).size().sort_values(ascending=False)"
      ]
    },
    {
      "cell_type": "code",
      "execution_count": null,
      "metadata": {
        "colab": {
          "base_uri": "https://localhost:8080/"
        },
        "id": "d1q-9MZmZ2dY",
        "outputId": "cc427d96-44ef-43f1-ad4f-44c078312d2a"
      },
      "outputs": [
        {
          "output_type": "execute_result",
          "data": {
            "text/plain": [
              "<matplotlib.axes._subplots.AxesSubplot at 0x7f8ae6f770d0>"
            ]
          },
          "metadata": {},
          "execution_count": 69
        },
        {
          "output_type": "display_data",
          "data": {
            "image/png": "[encoded data removed]",
            "text/plain": [
              "<Figure size 576x432 with 1 Axes>"
            ]
          },
          "metadata": {
            "needs_background": "light"
          }
        }
      ],
      "source": [
        "#Representing the Timber structure using bar plot\n",
        "timber.groupby('damage_grade').ground_floor_type.value_counts().unstack().plot.bar(figsize=(8,6))"
      ]
    },
    {
      "cell_type": "code",
      "execution_count": null,
      "metadata": {
        "colab": {
          "base_uri": "https://localhost:8080/"
        },
        "id": "Q9y6BFP6aYdV",
        "outputId": "0884acad-7147-4fc1-c28f-0d50307211a6"
      },
      "outputs": [
        {
          "output_type": "execute_result",
          "data": {
            "text/plain": [
              "<matplotlib.axes._subplots.AxesSubplot at 0x7f8ae6f10710>"
            ]
          },
          "metadata": {},
          "execution_count": 70
        },
        {
          "output_type": "display_data",
          "data": {
            "image/png": "[encoded data removed]",
            "text/plain": [
              "<Figure size 576x432 with 1 Axes>"
            ]
          },
          "metadata": {
            "needs_background": "light"
          }
        }
      ],
      "source": [
        "#Representing the Timber structure using bar plot\n",
        "timber.groupby('damage_grade').other_floor_type.value_counts().unstack().plot.bar(figsize=(8,6))"
      ]
    },
    {
      "cell_type": "code",
      "execution_count": null,
      "metadata": {
        "colab": {
          "base_uri": "https://localhost:8080/"
        },
        "id": "j0fkIF5yz0y_",
        "outputId": "d348d07c-fede-4c2e-9126-0d4dd8a3d9f9"
      },
      "outputs": [
        {
          "output_type": "execute_result",
          "data": {
            "text/plain": [
              "damage_grade  ground_floor_type  other_floor_type\n",
              "2             f                  q                   8427\n",
              "3             f                  q                   3317\n",
              "2             f                  x                   2177\n",
              "                                 j                   2069\n",
              "1             f                  q                    972\n",
              "                                 j                    926\n",
              "3             f                  x                    835\n",
              "                                 j                    727\n",
              "1             f                  x                    614\n",
              "2             x                  q                    493\n",
              "                                 x                    228\n",
              "              v                  q                    188\n",
              "3             x                  q                    171\n",
              "2             x                  j                    141\n",
              "              v                  x                    133\n",
              "3             x                  x                    128\n",
              "                                 j                     73\n",
              "1             x                  q                     70\n",
              "              v                  x                     65\n",
              "2             v                  j                     60\n",
              "1             v                  q                     50\n",
              "              x                  j                     46\n",
              "              v                  j                     34\n",
              "              z                  j                     22\n",
              "              x                  x                     21\n",
              "3             v                  q                     19\n",
              "2             v                  s                     18\n",
              "3             z                  j                     15\n",
              "2             f                  s                     13\n",
              "              z                  j                     13\n",
              "              x                  s                     10\n",
              "              z                  x                      9\n",
              "3             v                  j                      9\n",
              "2             m                  q                      8\n",
              "3             v                  x                      7\n",
              "2             m                  j                      6\n",
              "1             z                  x                      6\n",
              "2             m                  x                      4\n",
              "3             f                  s                      4\n",
              "1             m                  j                      4\n",
              "              v                  s                      4\n",
              "3             v                  s                      4\n",
              "2             z                  q                      4\n",
              "1             f                  s                      2\n",
              "3             z                  q                      2\n",
              "1             z                  q                      2\n",
              "3             m                  x                      1\n",
              "1             x                  s                      1\n",
              "3             x                  s                      1\n",
              "              m                  q                      1\n",
              "1             z                  s                      0\n",
              "3             m                  s                      0\n",
              "2             m                  s                      0\n",
              "1             m                  x                      0\n",
              "                                 s                      0\n",
              "                                 q                      0\n",
              "3             z                  s                      0\n",
              "2             z                  s                      0\n",
              "3             m                  j                      0\n",
              "              z                  x                      0\n",
              "dtype: int64"
            ]
          },
          "metadata": {},
          "execution_count": 71
        }
      ],
      "source": [
        "# get the number of buildings with damage leve 1,2,3 according to structural type bamboo\n",
        "bamboo.groupby(['damage_grade','ground_floor_type', 'other_floor_type']).size().sort_values(ascending=False)"
      ]
    },
    {
      "cell_type": "code",
      "execution_count": null,
      "metadata": {
        "colab": {
          "base_uri": "https://localhost:8080/"
        },
        "id": "_54Q0UBkbsSF",
        "outputId": "e1b4c259-1ae5-46bd-96aa-5bc9a4d9d1c5"
      },
      "outputs": [
        {
          "output_type": "execute_result",
          "data": {
            "text/plain": [
              "<matplotlib.axes._subplots.AxesSubplot at 0x7f8ae6f63210>"
            ]
          },
          "metadata": {},
          "execution_count": 72
        },
        {
          "output_type": "display_data",
          "data": {
            "image/png": "[encoded data removed]",
            "text/plain": [
              "<Figure size 576x432 with 1 Axes>"
            ]
          },
          "metadata": {
            "needs_background": "light"
          }
        }
      ],
      "source": [
        "#Representing the Bamboo structure using bar plot\n",
        "bamboo.groupby('damage_grade').ground_floor_type.value_counts().unstack().plot.bar(figsize=(8,6))"
      ]
    },
    {
      "cell_type": "code",
      "execution_count": null,
      "metadata": {
        "colab": {
          "base_uri": "https://localhost:8080/"
        },
        "id": "u0byNu2Iz04C",
        "outputId": "25d5742c-d3a1-488c-8743-51402c467d49"
      },
      "outputs": [
        {
          "output_type": "execute_result",
          "data": {
            "text/plain": [
              "damage_grade  ground_floor_type  other_floor_type\n",
              "1             v                  s                   2072\n",
              "2             v                  s                   2068\n",
              "1             v                  j                   1186\n",
              "2             f                  q                   1078\n",
              "              v                  j                    915\n",
              "              f                  x                    736\n",
              "3             f                  x                    468\n",
              "                                 q                    403\n",
              "2             x                  q                    268\n",
              "              f                  j                    242\n",
              "3             f                  j                    223\n",
              "1             f                  q                    150\n",
              "3             v                  s                    143\n",
              "2             x                  s                    124\n",
              "1             x                  s                    124\n",
              "2             x                  j                    106\n",
              "              v                  x                     85\n",
              "1             f                  j                     75\n",
              "2             x                  x                     74\n",
              "1             f                  x                     70\n",
              "              x                  j                     57\n",
              "2             v                  q                     56\n",
              "              f                  s                     50\n",
              "1             v                  x                     38\n",
              "3             x                  q                     38\n",
              "                                 x                     37\n",
              "              v                  j                     29\n",
              "1             v                  q                     24\n",
              "              f                  s                     23\n",
              "3             x                  j                     22\n",
              "1             x                  q                     18\n",
              "3             x                  s                     13\n",
              "2             z                  x                      8\n",
              "3             f                  s                      7\n",
              "              z                  j                      7\n",
              "1             x                  x                      7\n",
              "              m                  j                      6\n",
              "3             v                  x                      6\n",
              "2             m                  x                      6\n",
              "3             z                  x                      5\n",
              "              v                  q                      5\n",
              "2             m                  s                      5\n",
              "                                 j                      4\n",
              "1             m                  s                      4\n",
              "2             z                  q                      3\n",
              "3             m                  j                      2\n",
              "2             z                  s                      2\n",
              "1             z                  s                      2\n",
              "2             z                  j                      1\n",
              "1             z                  x                      1\n",
              "2             m                  q                      1\n",
              "3             m                  s                      1\n",
              "              z                  q                      1\n",
              "1             z                  j                      0\n",
              "                                 q                      0\n",
              "3             m                  x                      0\n",
              "              z                  s                      0\n",
              "1             m                  x                      0\n",
              "                                 q                      0\n",
              "3             m                  q                      0\n",
              "dtype: int64"
            ]
          },
          "metadata": {},
          "execution_count": 73
        }
      ],
      "source": [
        "# get the number of buildings with damage leve 1,2,3 according to structural type non_engineered\n",
        "#non_engineerd.groupby('damage_grade').other_floor_type.value_counts().sort_values(ascending=False) - finding the damage level of the floor types\n",
        "non_engineerd.groupby(['damage_grade','ground_floor_type', 'other_floor_type']).size().sort_values(ascending=False)"
      ]
    },
    {
      "cell_type": "code",
      "execution_count": null,
      "metadata": {
        "colab": {
          "base_uri": "https://localhost:8080/"
        },
        "id": "h7Cx3oEqdZ3d",
        "outputId": "01031a94-3cfc-4565-801f-6a9800a193e1"
      },
      "outputs": [
        {
          "output_type": "execute_result",
          "data": {
            "text/plain": [
              "<matplotlib.axes._subplots.AxesSubplot at 0x7f8ae6e92850>"
            ]
          },
          "metadata": {},
          "execution_count": 74
        },
        {
          "output_type": "display_data",
          "data": {
            "image/png": "[encoded data removed]",
            "text/plain": [
              "<Figure size 576x432 with 1 Axes>"
            ]
          },
          "metadata": {
            "needs_background": "light"
          }
        }
      ],
      "source": [
        "#Representing the rc non engineered (no reinforced concrete) structure using bar plot\n",
        "non_engineerd.groupby('damage_grade').ground_floor_type.value_counts().unstack().plot.bar(figsize=(8,6))"
      ]
    },
    {
      "cell_type": "code",
      "execution_count": null,
      "metadata": {
        "colab": {
          "base_uri": "https://localhost:8080/"
        },
        "id": "570zlQPfb9C4",
        "outputId": "69813296-2a26-4a09-fda5-2d76e234a005"
      },
      "outputs": [
        {
          "output_type": "execute_result",
          "data": {
            "text/plain": [
              "<matplotlib.axes._subplots.AxesSubplot at 0x7f8ae6cffb50>"
            ]
          },
          "metadata": {},
          "execution_count": 75
        },
        {
          "output_type": "display_data",
          "data": {
            "image/png": "[encoded data removed]",
            "text/plain": [
              "<Figure size 576x432 with 1 Axes>"
            ]
          },
          "metadata": {
            "needs_background": "light"
          }
        }
      ],
      "source": [
        "#Representing the RC non engineered ( not reinforced with concrete) structure using bar plot\n",
        "non_engineerd.groupby('damage_grade').other_floor_type.value_counts().unstack().plot.bar(figsize=(8,6))"
      ]
    },
    {
      "cell_type": "code",
      "execution_count": null,
      "metadata": {
        "colab": {
          "base_uri": "https://localhost:8080/"
        },
        "id": "UcXTdgS2z09m",
        "outputId": "b18787ad-e85d-4a68-e64a-441cf0ea0b83"
      },
      "outputs": [
        {
          "output_type": "execute_result",
          "data": {
            "text/plain": [
              "damage_grade  ground_floor_type  other_floor_type\n",
              "1             v                  s                   1821\n",
              "2             v                  s                    954\n",
              "1             v                  j                    663\n",
              "2             v                  j                    318\n",
              "1             x                  s                     74\n",
              "2             x                  s                     64\n",
              "3             v                  s                     53\n",
              "1             x                  j                     36\n",
              "2             x                  j                     21\n",
              "1             f                  s                     19\n",
              "                                 j                     15\n",
              "2             f                  s                     12\n",
              "                                 j                      7\n",
              "                                 q                      7\n",
              "              v                  x                      6\n",
              "3             v                  j                      5\n",
              "1             v                  x                      5\n",
              "                                 q                      5\n",
              "              m                  s                      5\n",
              "              f                  x                      5\n",
              "2             x                  q                      5\n",
              "              v                  q                      4\n",
              "3             x                  s                      4\n",
              "              f                  q                      4\n",
              "1             z                  s                      3\n",
              "3             v                  x                      3\n",
              "              f                  x                      3\n",
              "2             f                  x                      3\n",
              "1             z                  j                      2\n",
              "2             m                  s                      1\n",
              "1             f                  q                      1\n",
              "              m                  j                      1\n",
              "              x                  q                      1\n",
              "3             z                  x                      1\n",
              "              f                  j                      1\n",
              "                                 s                      1\n",
              "2             m                  q                      0\n",
              "              x                  x                      0\n",
              "3             z                  q                      0\n",
              "                                 j                      0\n",
              "2             z                  s                      0\n",
              "1             m                  q                      0\n",
              "3             x                  x                      0\n",
              "1             m                  x                      0\n",
              "2             z                  x                      0\n",
              "3             x                  q                      0\n",
              "                                 j                      0\n",
              "              v                  q                      0\n",
              "2             m                  j                      0\n",
              "3             m                  x                      0\n",
              "1             x                  x                      0\n",
              "3             z                  s                      0\n",
              "1             z                  q                      0\n",
              "2             z                  j                      0\n",
              "1             z                  x                      0\n",
              "3             m                  s                      0\n",
              "                                 q                      0\n",
              "                                 j                      0\n",
              "2             m                  x                      0\n",
              "              z                  q                      0\n",
              "dtype: int64"
            ]
          },
          "metadata": {},
          "execution_count": 76
        }
      ],
      "source": [
        "# get the number of buildings with damage leve 1,2,3 according to structural type engineered\n",
        "#engineerd.groupby('damage_grade').other_floor_type.value_counts().sort_values(ascending=False) - finding the damage level of the floor types\n",
        "engineerd.groupby(['damage_grade','ground_floor_type', 'other_floor_type']).size().sort_values(ascending=False)"
      ]
    },
    {
      "cell_type": "code",
      "execution_count": null,
      "metadata": {
        "colab": {
          "base_uri": "https://localhost:8080/"
        },
        "id": "eTyIl1Vlz1G4",
        "outputId": "a22a0fde-c776-4ddc-a832-4646ff634564"
      },
      "outputs": [
        {
          "output_type": "execute_result",
          "data": {
            "text/plain": [
              "<matplotlib.axes._subplots.AxesSubplot at 0x7f8ae6c82210>"
            ]
          },
          "metadata": {},
          "execution_count": 77
        },
        {
          "output_type": "display_data",
          "data": {
            "image/png": "[encoded data removed]",
            "text/plain": [
              "<Figure size 576x432 with 1 Axes>"
            ]
          },
          "metadata": {
            "needs_background": "light"
          }
        }
      ],
      "source": [
        "#Representing the engineered structure using bar plot\n",
        "engineerd.groupby('damage_grade').other_floor_type.value_counts().unstack().plot.bar(figsize=(8,6))"
      ]
    },
    {
      "cell_type": "code",
      "execution_count": null,
      "metadata": {
        "colab": {
          "base_uri": "https://localhost:8080/"
        },
        "id": "rrHryA3lG5XA",
        "outputId": "79965b84-ef53-46a3-9d13-521c6dd76e69"
      },
      "outputs": [
        {
          "output_type": "execute_result",
          "data": {
            "text/plain": [
              "<matplotlib.axes._subplots.AxesSubplot at 0x7f8ae6bbf610>"
            ]
          },
          "metadata": {},
          "execution_count": 78
        },
        {
          "output_type": "display_data",
          "data": {
            "image/png": "[encoded data removed]",
            "text/plain": [
              "<Figure size 576x432 with 1 Axes>"
            ]
          },
          "metadata": {
            "needs_background": "light"
          }
        }
      ],
      "source": [
        "#Representing the engineered structure using bar plot \n",
        "engineerd.groupby('damage_grade').ground_floor_type.value_counts().unstack().plot.bar(figsize=(8,6))"
      ]
    },
    {
      "cell_type": "code",
      "execution_count": null,
      "metadata": {
        "colab": {
          "base_uri": "https://localhost:8080/"
        },
        "id": "7PHK7Fi4z1CC",
        "outputId": "72949eb5-805a-4fb9-9869-a1d2d44c7af6"
      },
      "outputs": [
        {
          "output_type": "execute_result",
          "data": {
            "text/plain": [
              "damage_grade  ground_floor_type  other_floor_type\n",
              "2             f                  q                   1203\n",
              "3             f                  q                    508\n",
              "2             f                  x                    356\n",
              "                                 j                    273\n",
              "1             f                  j                    252\n",
              "3             f                  x                    165\n",
              "1             f                  q                    135\n",
              "3             f                  j                    118\n",
              "              x                  x                    104\n",
              "1             f                  x                     94\n",
              "2             x                  q                     74\n",
              "                                 x                     73\n",
              "                                 j                     55\n",
              "1             v                  j                     49\n",
              "2             v                  q                     49\n",
              "                                 j                     42\n",
              "1             v                  x                     35\n",
              "2             v                  x                     35\n",
              "                                 s                     34\n",
              "3             x                  q                     30\n",
              "                                 j                     29\n",
              "1             x                  j                     21\n",
              "2             x                  s                     19\n",
              "1             m                  j                     16\n",
              "              v                  s                     15\n",
              "                                 q                     15\n",
              "3             v                  q                     13\n",
              "                                 j                      8\n",
              "2             f                  s                      8\n",
              "1             z                  j                      7\n",
              "2             m                  q                      7\n",
              "                                 j                      6\n",
              "3             m                  j                      5\n",
              "2             z                  x                      5\n",
              "3             v                  s                      5\n",
              "1             x                  q                      4\n",
              "                                 x                      4\n",
              "3             v                  x                      4\n",
              "2             z                  j                      4\n",
              "              m                  x                      4\n",
              "3             z                  j                      3\n",
              "              x                  s                      3\n",
              "1             m                  x                      2\n",
              "              x                  s                      2\n",
              "3             f                  s                      2\n",
              "1             z                  x                      2\n",
              "3             m                  x                      2\n",
              "1             m                  s                      1\n",
              "                                 q                      1\n",
              "              f                  s                      1\n",
              "3             z                  x                      1\n",
              "2             z                  q                      1\n",
              "3             m                  q                      1\n",
              "                                 s                      0\n",
              "2             z                  s                      0\n",
              "1             z                  q                      0\n",
              "                                 s                      0\n",
              "3             z                  s                      0\n",
              "                                 q                      0\n",
              "2             m                  s                      0\n",
              "dtype: int64"
            ]
          },
          "metadata": {},
          "execution_count": 79
        }
      ],
      "source": [
        "# get the number of buildings with damage leve 1,2,3 according to structural type other\n",
        "other_struct.groupby(['damage_grade','ground_floor_type', 'other_floor_type']).size().sort_values(ascending=False)"
      ]
    },
    {
      "cell_type": "code",
      "execution_count": null,
      "metadata": {
        "colab": {
          "base_uri": "https://localhost:8080/"
        },
        "id": "Sdvk-EfUu46F",
        "outputId": "873e2f93-cef9-4714-cc29-a236b3f4d907"
      },
      "outputs": [
        {
          "output_type": "execute_result",
          "data": {
            "text/plain": [
              "<matplotlib.axes._subplots.AxesSubplot at 0x7f8ae6b4ff10>"
            ]
          },
          "metadata": {},
          "execution_count": 80
        },
        {
          "output_type": "display_data",
          "data": {
            "image/png": "[encoded data removed]",
            "text/plain": [
              "<Figure size 576x432 with 1 Axes>"
            ]
          },
          "metadata": {
            "needs_background": "light"
          }
        }
      ],
      "source": [
        "#Representing the other structure using bar plot\n",
        "other_struct.groupby('damage_grade').ground_floor_type.value_counts().unstack().plot.bar(figsize=(8,6))"
      ]
    },
    {
      "cell_type": "code",
      "execution_count": null,
      "metadata": {
        "colab": {
          "base_uri": "https://localhost:8080/"
        },
        "id": "UYxZf2Tnz1L_",
        "outputId": "639461de-a72d-496d-b59f-85b0de3d44d0"
      },
      "outputs": [
        {
          "output_type": "execute_result",
          "data": {
            "text/plain": [
              "<matplotlib.axes._subplots.AxesSubplot at 0x7f8ae6a8f350>"
            ]
          },
          "metadata": {},
          "execution_count": 81
        },
        {
          "output_type": "display_data",
          "data": {
            "image/png": "[encoded data removed]",
            "text/plain": [
              "<Figure size 576x432 with 1 Axes>"
            ]
          },
          "metadata": {
            "needs_background": "light"
          }
        }
      ],
      "source": [
        "#Representing the other structure using bar plot\n",
        "other_struct.groupby('damage_grade').other_floor_type.value_counts().unstack().plot.bar(figsize=(8,6))"
      ]
    },
    {
      "cell_type": "markdown",
      "metadata": {
        "id": "FGs8tC0902NF"
      },
      "source": [
        "#5.9. RESULT\n",
        "After analysing the data set above, two observatory conclusions were drawn;\n",
        "\n",
        "1. The structural typed which had the least damage grade was ENGINEERED REINFORCED CONCRETE which had a total of 578 damaged building where \n",
        "*   Damage grade 1 = 349 buildings\n",
        "*   Damage grade 2 = 217 buildings\n",
        "*   Damage grade 3 = 12 buildings\n",
        "\n",
        "2. The floor types associated with the least damaged structure are;\n",
        "*   ground floor types are F, M and V.\n",
        "*   other floor types are S, Q and J.\n",
        "\n",
        "\n",
        "**SOLUTION**\n",
        "\n",
        "THE BEST FLOOR TYPES TO USE FOR GROUND FLOOR TYPE ARE **F, M AND V**.\n",
        "THE BEST FLOOR TYPES TO USE FOR THE OF FLOOR USED IN OTHER FLOORS HIGHER THAN THE GROUND FLOOR (EXCEPT FOR THE ROOF) ARE S, Q AND J.\n",
        "\n",
        "\n",
        "\n",
        "\n"
      ]
    },
    {
      "cell_type": "markdown",
      "metadata": {
        "id": "oZygnhEu0oZY"
      },
      "source": [
        "# QUESTION 7\n",
        "\n",
        "Is the damage level influenced by the legal owners and the building’s secondary use?"
      ]
    },
    {
      "cell_type": "code",
      "execution_count": null,
      "metadata": {
        "colab": {
          "base_uri": "https://localhost:8080/"
        },
        "id": "Eil00DMz8IJV",
        "outputId": "1a00dd25-d1d7-4ee0-8a21-c455c9fb3aab"
      },
      "outputs": [
        {
          "output_type": "execute_result",
          "data": {
            "text/plain": [
              "Index(['building_id', 'geo_level_1_id', 'geo_level_2_id', 'geo_level_3_id',\n",
              "       'count_floors_pre_eq', 'age', 'area_percentage', 'height_percentage',\n",
              "       'land_surface_condition', 'foundation_type', 'roof_type',\n",
              "       'ground_floor_type', 'other_floor_type', 'position',\n",
              "       'plan_configuration', 'has_superstructure_adobe_mud',\n",
              "       'has_superstructure_mud_mortar_stone', 'has_superstructure_stone_flag',\n",
              "       'has_superstructure_cement_mortar_stone',\n",
              "       'has_superstructure_mud_mortar_brick',\n",
              "       'has_superstructure_cement_mortar_brick', 'has_superstructure_timber',\n",
              "       'has_superstructure_bamboo', 'has_superstructure_rc_non_engineered',\n",
              "       'has_superstructure_rc_engineered', 'has_superstructure_other',\n",
              "       'legal_ownership_status', 'count_families', 'has_secondary_use',\n",
              "       'has_secondary_use_agriculture', 'has_secondary_use_hotel',\n",
              "       'has_secondary_use_rental', 'has_secondary_use_institution',\n",
              "       'has_secondary_use_school', 'has_secondary_use_industry',\n",
              "       'has_secondary_use_health_post', 'has_secondary_use_gov_office',\n",
              "       'has_secondary_use_use_police', 'has_secondary_use_other',\n",
              "       'damage_grade'],\n",
              "      dtype='object')"
            ]
          },
          "metadata": {},
          "execution_count": 82
        }
      ],
      "source": [
        "Merge_data.columns"
      ]
    },
    {
      "cell_type": "code",
      "execution_count": null,
      "metadata": {
        "colab": {
          "base_uri": "https://localhost:8080/"
        },
        "id": "Sb4z0Jkk8h5M",
        "outputId": "f365b251-3e3a-40af-91e3-2dfe803bb953"
      },
      "outputs": [
        {
          "output_type": "execute_result",
          "data": {
            "text/html": [
              "<div>\n",
              "<style scoped>\n",
              "    .dataframe tbody tr th:only-of-type {\n",
              "        vertical-align: middle;\n",
              "    }\n",
              "\n",
              "    .dataframe tbody tr th {\n",
              "        vertical-align: top;\n",
              "    }\n",
              "\n",
              "    .dataframe thead th {\n",
              "        text-align: right;\n",
              "    }\n",
              "</style>\n",
              "<table border=\"1\" class=\"dataframe\">\n",
              "  <thead>\n",
              "    <tr style=\"text-align: right;\">\n",
              "      <th></th>\n",
              "      <th>building_id</th>\n",
              "      <th>legal_ownership_status</th>\n",
              "      <th>has_secondary_use</th>\n",
              "      <th>has_secondary_use_agriculture</th>\n",
              "      <th>has_secondary_use_hotel</th>\n",
              "      <th>has_secondary_use_rental</th>\n",
              "      <th>has_secondary_use_institution</th>\n",
              "      <th>has_secondary_use_school</th>\n",
              "      <th>has_secondary_use_industry</th>\n",
              "      <th>has_secondary_use_health_post</th>\n",
              "      <th>has_secondary_use_gov_office</th>\n",
              "      <th>has_secondary_use_use_police</th>\n",
              "      <th>has_secondary_use_other</th>\n",
              "      <th>damage_grade</th>\n",
              "    </tr>\n",
              "  </thead>\n",
              "  <tbody>\n",
              "    <tr>\n",
              "      <th>0</th>\n",
              "      <td>802906</td>\n",
              "      <td>v</td>\n",
              "      <td>False</td>\n",
              "      <td>False</td>\n",
              "      <td>False</td>\n",
              "      <td>False</td>\n",
              "      <td>False</td>\n",
              "      <td>False</td>\n",
              "      <td>False</td>\n",
              "      <td>False</td>\n",
              "      <td>False</td>\n",
              "      <td>False</td>\n",
              "      <td>False</td>\n",
              "      <td>3</td>\n",
              "    </tr>\n",
              "    <tr>\n",
              "      <th>1</th>\n",
              "      <td>28830</td>\n",
              "      <td>v</td>\n",
              "      <td>False</td>\n",
              "      <td>False</td>\n",
              "      <td>False</td>\n",
              "      <td>False</td>\n",
              "      <td>False</td>\n",
              "      <td>False</td>\n",
              "      <td>False</td>\n",
              "      <td>False</td>\n",
              "      <td>False</td>\n",
              "      <td>False</td>\n",
              "      <td>False</td>\n",
              "      <td>2</td>\n",
              "    </tr>\n",
              "    <tr>\n",
              "      <th>2</th>\n",
              "      <td>94947</td>\n",
              "      <td>v</td>\n",
              "      <td>False</td>\n",
              "      <td>False</td>\n",
              "      <td>False</td>\n",
              "      <td>False</td>\n",
              "      <td>False</td>\n",
              "      <td>False</td>\n",
              "      <td>False</td>\n",
              "      <td>False</td>\n",
              "      <td>False</td>\n",
              "      <td>False</td>\n",
              "      <td>False</td>\n",
              "      <td>3</td>\n",
              "    </tr>\n",
              "    <tr>\n",
              "      <th>3</th>\n",
              "      <td>590882</td>\n",
              "      <td>v</td>\n",
              "      <td>False</td>\n",
              "      <td>False</td>\n",
              "      <td>False</td>\n",
              "      <td>False</td>\n",
              "      <td>False</td>\n",
              "      <td>False</td>\n",
              "      <td>False</td>\n",
              "      <td>False</td>\n",
              "      <td>False</td>\n",
              "      <td>False</td>\n",
              "      <td>False</td>\n",
              "      <td>2</td>\n",
              "    </tr>\n",
              "    <tr>\n",
              "      <th>4</th>\n",
              "      <td>201944</td>\n",
              "      <td>v</td>\n",
              "      <td>False</td>\n",
              "      <td>False</td>\n",
              "      <td>False</td>\n",
              "      <td>False</td>\n",
              "      <td>False</td>\n",
              "      <td>False</td>\n",
              "      <td>False</td>\n",
              "      <td>False</td>\n",
              "      <td>False</td>\n",
              "      <td>False</td>\n",
              "      <td>False</td>\n",
              "      <td>3</td>\n",
              "    </tr>\n",
              "    <tr>\n",
              "      <th>...</th>\n",
              "      <td>...</td>\n",
              "      <td>...</td>\n",
              "      <td>...</td>\n",
              "      <td>...</td>\n",
              "      <td>...</td>\n",
              "      <td>...</td>\n",
              "      <td>...</td>\n",
              "      <td>...</td>\n",
              "      <td>...</td>\n",
              "      <td>...</td>\n",
              "      <td>...</td>\n",
              "      <td>...</td>\n",
              "      <td>...</td>\n",
              "      <td>...</td>\n",
              "    </tr>\n",
              "    <tr>\n",
              "      <th>260596</th>\n",
              "      <td>688636</td>\n",
              "      <td>v</td>\n",
              "      <td>False</td>\n",
              "      <td>False</td>\n",
              "      <td>False</td>\n",
              "      <td>False</td>\n",
              "      <td>False</td>\n",
              "      <td>False</td>\n",
              "      <td>False</td>\n",
              "      <td>False</td>\n",
              "      <td>False</td>\n",
              "      <td>False</td>\n",
              "      <td>False</td>\n",
              "      <td>2</td>\n",
              "    </tr>\n",
              "    <tr>\n",
              "      <th>260597</th>\n",
              "      <td>669485</td>\n",
              "      <td>v</td>\n",
              "      <td>False</td>\n",
              "      <td>False</td>\n",
              "      <td>False</td>\n",
              "      <td>False</td>\n",
              "      <td>False</td>\n",
              "      <td>False</td>\n",
              "      <td>False</td>\n",
              "      <td>False</td>\n",
              "      <td>False</td>\n",
              "      <td>False</td>\n",
              "      <td>False</td>\n",
              "      <td>3</td>\n",
              "    </tr>\n",
              "    <tr>\n",
              "      <th>260598</th>\n",
              "      <td>602512</td>\n",
              "      <td>v</td>\n",
              "      <td>False</td>\n",
              "      <td>False</td>\n",
              "      <td>False</td>\n",
              "      <td>False</td>\n",
              "      <td>False</td>\n",
              "      <td>False</td>\n",
              "      <td>False</td>\n",
              "      <td>False</td>\n",
              "      <td>False</td>\n",
              "      <td>False</td>\n",
              "      <td>False</td>\n",
              "      <td>3</td>\n",
              "    </tr>\n",
              "    <tr>\n",
              "      <th>260599</th>\n",
              "      <td>151409</td>\n",
              "      <td>v</td>\n",
              "      <td>False</td>\n",
              "      <td>False</td>\n",
              "      <td>False</td>\n",
              "      <td>False</td>\n",
              "      <td>False</td>\n",
              "      <td>False</td>\n",
              "      <td>False</td>\n",
              "      <td>False</td>\n",
              "      <td>False</td>\n",
              "      <td>False</td>\n",
              "      <td>False</td>\n",
              "      <td>2</td>\n",
              "    </tr>\n",
              "    <tr>\n",
              "      <th>260600</th>\n",
              "      <td>747594</td>\n",
              "      <td>v</td>\n",
              "      <td>False</td>\n",
              "      <td>False</td>\n",
              "      <td>False</td>\n",
              "      <td>False</td>\n",
              "      <td>False</td>\n",
              "      <td>False</td>\n",
              "      <td>False</td>\n",
              "      <td>False</td>\n",
              "      <td>False</td>\n",
              "      <td>False</td>\n",
              "      <td>False</td>\n",
              "      <td>3</td>\n",
              "    </tr>\n",
              "  </tbody>\n",
              "</table>\n",
              "<p>260601 rows × 14 columns</p>\n",
              "</div>"
            ],
            "text/plain": [
              "        building_id  ... damage_grade\n",
              "0            802906  ...            3\n",
              "1             28830  ...            2\n",
              "2             94947  ...            3\n",
              "3            590882  ...            2\n",
              "4            201944  ...            3\n",
              "...             ...  ...          ...\n",
              "260596       688636  ...            2\n",
              "260597       669485  ...            3\n",
              "260598       602512  ...            3\n",
              "260599       151409  ...            2\n",
              "260600       747594  ...            3\n",
              "\n",
              "[260601 rows x 14 columns]"
            ]
          },
          "metadata": {},
          "execution_count": 83
        }
      ],
      "source": [
        "# select the needed columns for analysis\n",
        "New_dataset1=Merge_data[['building_id',\n",
        "       'legal_ownership_status','has_secondary_use',\n",
        "       'has_secondary_use_agriculture', 'has_secondary_use_hotel',\n",
        "       'has_secondary_use_rental', 'has_secondary_use_institution',\n",
        "       'has_secondary_use_school', 'has_secondary_use_industry',\n",
        "       'has_secondary_use_health_post', 'has_secondary_use_gov_office',\n",
        "       'has_secondary_use_use_police', 'has_secondary_use_other',\n",
        "       'damage_grade']]\n",
        "New_dataset1"
      ]
    },
    {
      "cell_type": "markdown",
      "metadata": {
        "id": "rMwjOKwtAgdB"
      },
      "source": [
        "# 7.1. ANALYSING THE LEGA OWNERSHIP CATEGORY AND BUILDING USE TYPES\n",
        "\n",
        "\n",
        "in this section, the legal ownership types and building use were analysed along the damage level to find the if damaged level is influenced by legal ownership and building use after the earth quake.\n",
        "\n"
      ]
    },
    {
      "cell_type": "code",
      "execution_count": null,
      "metadata": {
        "colab": {
          "base_uri": "https://localhost:8080/"
        },
        "id": "KMoMaa-f-MDf",
        "outputId": "edc94dfa-64c5-4bb0-82d2-f0200dcf14db"
      },
      "outputs": [
        {
          "output_type": "execute_result",
          "data": {
            "text/html": [
              "<div>\n",
              "<style scoped>\n",
              "    .dataframe tbody tr th:only-of-type {\n",
              "        vertical-align: middle;\n",
              "    }\n",
              "\n",
              "    .dataframe tbody tr th {\n",
              "        vertical-align: top;\n",
              "    }\n",
              "\n",
              "    .dataframe thead th {\n",
              "        text-align: right;\n",
              "    }\n",
              "</style>\n",
              "<table border=\"1\" class=\"dataframe\">\n",
              "  <thead>\n",
              "    <tr style=\"text-align: right;\">\n",
              "      <th></th>\n",
              "      <th>building_id</th>\n",
              "      <th>has_secondary_use</th>\n",
              "      <th>legal_ownership_status</th>\n",
              "      <th>damage_grade</th>\n",
              "    </tr>\n",
              "  </thead>\n",
              "  <tbody>\n",
              "    <tr>\n",
              "      <th>5</th>\n",
              "      <td>333020</td>\n",
              "      <td>True</td>\n",
              "      <td>v</td>\n",
              "      <td>2</td>\n",
              "    </tr>\n",
              "    <tr>\n",
              "      <th>20</th>\n",
              "      <td>793397</td>\n",
              "      <td>True</td>\n",
              "      <td>v</td>\n",
              "      <td>2</td>\n",
              "    </tr>\n",
              "    <tr>\n",
              "      <th>26</th>\n",
              "      <td>973909</td>\n",
              "      <td>True</td>\n",
              "      <td>v</td>\n",
              "      <td>2</td>\n",
              "    </tr>\n",
              "    <tr>\n",
              "      <th>45</th>\n",
              "      <td>440102</td>\n",
              "      <td>True</td>\n",
              "      <td>v</td>\n",
              "      <td>1</td>\n",
              "    </tr>\n",
              "    <tr>\n",
              "      <th>57</th>\n",
              "      <td>552720</td>\n",
              "      <td>True</td>\n",
              "      <td>v</td>\n",
              "      <td>2</td>\n",
              "    </tr>\n",
              "    <tr>\n",
              "      <th>...</th>\n",
              "      <td>...</td>\n",
              "      <td>...</td>\n",
              "      <td>...</td>\n",
              "      <td>...</td>\n",
              "    </tr>\n",
              "    <tr>\n",
              "      <th>260579</th>\n",
              "      <td>977263</td>\n",
              "      <td>True</td>\n",
              "      <td>v</td>\n",
              "      <td>2</td>\n",
              "    </tr>\n",
              "    <tr>\n",
              "      <th>260584</th>\n",
              "      <td>317439</td>\n",
              "      <td>True</td>\n",
              "      <td>v</td>\n",
              "      <td>3</td>\n",
              "    </tr>\n",
              "    <tr>\n",
              "      <th>260587</th>\n",
              "      <td>603159</td>\n",
              "      <td>True</td>\n",
              "      <td>v</td>\n",
              "      <td>3</td>\n",
              "    </tr>\n",
              "    <tr>\n",
              "      <th>260591</th>\n",
              "      <td>560805</td>\n",
              "      <td>True</td>\n",
              "      <td>v</td>\n",
              "      <td>3</td>\n",
              "    </tr>\n",
              "    <tr>\n",
              "      <th>260593</th>\n",
              "      <td>226421</td>\n",
              "      <td>True</td>\n",
              "      <td>v</td>\n",
              "      <td>2</td>\n",
              "    </tr>\n",
              "  </tbody>\n",
              "</table>\n",
              "<p>29156 rows × 4 columns</p>\n",
              "</div>"
            ],
            "text/plain": [
              "        building_id  has_secondary_use legal_ownership_status  damage_grade\n",
              "5            333020               True                      v             2\n",
              "20           793397               True                      v             2\n",
              "26           973909               True                      v             2\n",
              "45           440102               True                      v             1\n",
              "57           552720               True                      v             2\n",
              "...             ...                ...                    ...           ...\n",
              "260579       977263               True                      v             2\n",
              "260584       317439               True                      v             3\n",
              "260587       603159               True                      v             3\n",
              "260591       560805               True                      v             3\n",
              "260593       226421               True                      v             2\n",
              "\n",
              "[29156 rows x 4 columns]"
            ]
          },
          "metadata": {},
          "execution_count": 95
        }
      ],
      "source": [
        "# get the damage grade whose use is secondary_use  with corresponding legal ownership\n",
        "secondary_use = New_dataset1.loc[New_dataset1. has_secondary_use==1, ['building_id', 'has_secondary_use','legal_ownership_status','damage_grade']]\n",
        "secondary_use"
      ]
    },
    {
      "cell_type": "code",
      "execution_count": null,
      "metadata": {
        "colab": {
          "base_uri": "https://localhost:8080/"
        },
        "id": "5VzKn6ABBj-4",
        "outputId": "03156893-f03a-4ef0-fb34-a9bc2f8a8ccc"
      },
      "outputs": [
        {
          "output_type": "execute_result",
          "data": {
            "text/html": [
              "<div>\n",
              "<style scoped>\n",
              "    .dataframe tbody tr th:only-of-type {\n",
              "        vertical-align: middle;\n",
              "    }\n",
              "\n",
              "    .dataframe tbody tr th {\n",
              "        vertical-align: top;\n",
              "    }\n",
              "\n",
              "    .dataframe thead th {\n",
              "        text-align: right;\n",
              "    }\n",
              "</style>\n",
              "<table border=\"1\" class=\"dataframe\">\n",
              "  <thead>\n",
              "    <tr style=\"text-align: right;\">\n",
              "      <th></th>\n",
              "      <th>building_id</th>\n",
              "      <th>has_secondary_use_agriculture</th>\n",
              "      <th>legal_ownership_status</th>\n",
              "      <th>damage_grade</th>\n",
              "    </tr>\n",
              "  </thead>\n",
              "  <tbody>\n",
              "    <tr>\n",
              "      <th>5</th>\n",
              "      <td>333020</td>\n",
              "      <td>True</td>\n",
              "      <td>v</td>\n",
              "      <td>2</td>\n",
              "    </tr>\n",
              "    <tr>\n",
              "      <th>20</th>\n",
              "      <td>793397</td>\n",
              "      <td>True</td>\n",
              "      <td>v</td>\n",
              "      <td>2</td>\n",
              "    </tr>\n",
              "    <tr>\n",
              "      <th>26</th>\n",
              "      <td>973909</td>\n",
              "      <td>True</td>\n",
              "      <td>v</td>\n",
              "      <td>2</td>\n",
              "    </tr>\n",
              "    <tr>\n",
              "      <th>57</th>\n",
              "      <td>552720</td>\n",
              "      <td>True</td>\n",
              "      <td>v</td>\n",
              "      <td>2</td>\n",
              "    </tr>\n",
              "    <tr>\n",
              "      <th>60</th>\n",
              "      <td>961851</td>\n",
              "      <td>True</td>\n",
              "      <td>v</td>\n",
              "      <td>2</td>\n",
              "    </tr>\n",
              "    <tr>\n",
              "      <th>...</th>\n",
              "      <td>...</td>\n",
              "      <td>...</td>\n",
              "      <td>...</td>\n",
              "      <td>...</td>\n",
              "    </tr>\n",
              "    <tr>\n",
              "      <th>260579</th>\n",
              "      <td>977263</td>\n",
              "      <td>True</td>\n",
              "      <td>v</td>\n",
              "      <td>2</td>\n",
              "    </tr>\n",
              "    <tr>\n",
              "      <th>260584</th>\n",
              "      <td>317439</td>\n",
              "      <td>True</td>\n",
              "      <td>v</td>\n",
              "      <td>3</td>\n",
              "    </tr>\n",
              "    <tr>\n",
              "      <th>260587</th>\n",
              "      <td>603159</td>\n",
              "      <td>True</td>\n",
              "      <td>v</td>\n",
              "      <td>3</td>\n",
              "    </tr>\n",
              "    <tr>\n",
              "      <th>260591</th>\n",
              "      <td>560805</td>\n",
              "      <td>True</td>\n",
              "      <td>v</td>\n",
              "      <td>3</td>\n",
              "    </tr>\n",
              "    <tr>\n",
              "      <th>260593</th>\n",
              "      <td>226421</td>\n",
              "      <td>True</td>\n",
              "      <td>v</td>\n",
              "      <td>2</td>\n",
              "    </tr>\n",
              "  </tbody>\n",
              "</table>\n",
              "<p>16777 rows × 4 columns</p>\n",
              "</div>"
            ],
            "text/plain": [
              "        building_id  ...  damage_grade\n",
              "5            333020  ...             2\n",
              "20           793397  ...             2\n",
              "26           973909  ...             2\n",
              "57           552720  ...             2\n",
              "60           961851  ...             2\n",
              "...             ...  ...           ...\n",
              "260579       977263  ...             2\n",
              "260584       317439  ...             3\n",
              "260587       603159  ...             3\n",
              "260591       560805  ...             3\n",
              "260593       226421  ...             2\n",
              "\n",
              "[16777 rows x 4 columns]"
            ]
          },
          "metadata": {},
          "execution_count": 96
        }
      ],
      "source": [
        "# get the damage grade whose use is for agriculture  with corresponding legal ownership\n",
        "agri_use = New_dataset1.loc[New_dataset1. has_secondary_use_agriculture==1, ['building_id', 'has_secondary_use_agriculture','legal_ownership_status','damage_grade']]\n",
        "agri_use"
      ]
    },
    {
      "cell_type": "code",
      "execution_count": null,
      "metadata": {
        "colab": {
          "base_uri": "https://localhost:8080/"
        },
        "id": "lkvlQpEkBxXt",
        "outputId": "023020cb-62ca-4fdb-e8bd-6fe49474f438"
      },
      "outputs": [
        {
          "output_type": "execute_result",
          "data": {
            "text/html": [
              "<div>\n",
              "<style scoped>\n",
              "    .dataframe tbody tr th:only-of-type {\n",
              "        vertical-align: middle;\n",
              "    }\n",
              "\n",
              "    .dataframe tbody tr th {\n",
              "        vertical-align: top;\n",
              "    }\n",
              "\n",
              "    .dataframe thead th {\n",
              "        text-align: right;\n",
              "    }\n",
              "</style>\n",
              "<table border=\"1\" class=\"dataframe\">\n",
              "  <thead>\n",
              "    <tr style=\"text-align: right;\">\n",
              "      <th></th>\n",
              "      <th>building_id</th>\n",
              "      <th>has_secondary_use_hotel</th>\n",
              "      <th>legal_ownership_status</th>\n",
              "      <th>damage_grade</th>\n",
              "    </tr>\n",
              "  </thead>\n",
              "  <tbody>\n",
              "    <tr>\n",
              "      <th>88</th>\n",
              "      <td>931198</td>\n",
              "      <td>True</td>\n",
              "      <td>a</td>\n",
              "      <td>2</td>\n",
              "    </tr>\n",
              "    <tr>\n",
              "      <th>120</th>\n",
              "      <td>824847</td>\n",
              "      <td>True</td>\n",
              "      <td>v</td>\n",
              "      <td>2</td>\n",
              "    </tr>\n",
              "    <tr>\n",
              "      <th>155</th>\n",
              "      <td>294469</td>\n",
              "      <td>True</td>\n",
              "      <td>v</td>\n",
              "      <td>2</td>\n",
              "    </tr>\n",
              "    <tr>\n",
              "      <th>166</th>\n",
              "      <td>670184</td>\n",
              "      <td>True</td>\n",
              "      <td>v</td>\n",
              "      <td>2</td>\n",
              "    </tr>\n",
              "    <tr>\n",
              "      <th>228</th>\n",
              "      <td>168711</td>\n",
              "      <td>True</td>\n",
              "      <td>v</td>\n",
              "      <td>2</td>\n",
              "    </tr>\n",
              "    <tr>\n",
              "      <th>...</th>\n",
              "      <td>...</td>\n",
              "      <td>...</td>\n",
              "      <td>...</td>\n",
              "      <td>...</td>\n",
              "    </tr>\n",
              "    <tr>\n",
              "      <th>260480</th>\n",
              "      <td>359059</td>\n",
              "      <td>True</td>\n",
              "      <td>v</td>\n",
              "      <td>2</td>\n",
              "    </tr>\n",
              "    <tr>\n",
              "      <th>260498</th>\n",
              "      <td>244286</td>\n",
              "      <td>True</td>\n",
              "      <td>v</td>\n",
              "      <td>2</td>\n",
              "    </tr>\n",
              "    <tr>\n",
              "      <th>260526</th>\n",
              "      <td>220849</td>\n",
              "      <td>True</td>\n",
              "      <td>v</td>\n",
              "      <td>3</td>\n",
              "    </tr>\n",
              "    <tr>\n",
              "      <th>260530</th>\n",
              "      <td>344478</td>\n",
              "      <td>True</td>\n",
              "      <td>v</td>\n",
              "      <td>1</td>\n",
              "    </tr>\n",
              "    <tr>\n",
              "      <th>260532</th>\n",
              "      <td>155803</td>\n",
              "      <td>True</td>\n",
              "      <td>v</td>\n",
              "      <td>2</td>\n",
              "    </tr>\n",
              "  </tbody>\n",
              "</table>\n",
              "<p>8763 rows × 4 columns</p>\n",
              "</div>"
            ],
            "text/plain": [
              "        building_id  ...  damage_grade\n",
              "88           931198  ...             2\n",
              "120          824847  ...             2\n",
              "155          294469  ...             2\n",
              "166          670184  ...             2\n",
              "228          168711  ...             2\n",
              "...             ...  ...           ...\n",
              "260480       359059  ...             2\n",
              "260498       244286  ...             2\n",
              "260526       220849  ...             3\n",
              "260530       344478  ...             1\n",
              "260532       155803  ...             2\n",
              "\n",
              "[8763 rows x 4 columns]"
            ]
          },
          "metadata": {},
          "execution_count": 97
        }
      ],
      "source": [
        "# get the damage grade whose use is for hotel with corresponding legal ownership\n",
        "hotel_use = New_dataset1.loc[New_dataset1. has_secondary_use_hotel==1, ['building_id', 'has_secondary_use_hotel','legal_ownership_status','damage_grade']]\n",
        "hotel_use"
      ]
    },
    {
      "cell_type": "code",
      "execution_count": null,
      "metadata": {
        "colab": {
          "base_uri": "https://localhost:8080/"
        },
        "id": "D1BPLbKcBxkG",
        "outputId": "b301347f-4b7f-41c4-bd93-cf580c83a81a"
      },
      "outputs": [
        {
          "output_type": "execute_result",
          "data": {
            "text/html": [
              "<div>\n",
              "<style scoped>\n",
              "    .dataframe tbody tr th:only-of-type {\n",
              "        vertical-align: middle;\n",
              "    }\n",
              "\n",
              "    .dataframe tbody tr th {\n",
              "        vertical-align: top;\n",
              "    }\n",
              "\n",
              "    .dataframe thead th {\n",
              "        text-align: right;\n",
              "    }\n",
              "</style>\n",
              "<table border=\"1\" class=\"dataframe\">\n",
              "  <thead>\n",
              "    <tr style=\"text-align: right;\">\n",
              "      <th></th>\n",
              "      <th>building_id</th>\n",
              "      <th>has_secondary_use_rental</th>\n",
              "      <th>legal_ownership_status</th>\n",
              "      <th>damage_grade</th>\n",
              "    </tr>\n",
              "  </thead>\n",
              "  <tbody>\n",
              "    <tr>\n",
              "      <th>45</th>\n",
              "      <td>440102</td>\n",
              "      <td>True</td>\n",
              "      <td>v</td>\n",
              "      <td>1</td>\n",
              "    </tr>\n",
              "    <tr>\n",
              "      <th>360</th>\n",
              "      <td>394060</td>\n",
              "      <td>True</td>\n",
              "      <td>v</td>\n",
              "      <td>3</td>\n",
              "    </tr>\n",
              "    <tr>\n",
              "      <th>484</th>\n",
              "      <td>194805</td>\n",
              "      <td>True</td>\n",
              "      <td>v</td>\n",
              "      <td>1</td>\n",
              "    </tr>\n",
              "    <tr>\n",
              "      <th>646</th>\n",
              "      <td>860885</td>\n",
              "      <td>True</td>\n",
              "      <td>v</td>\n",
              "      <td>2</td>\n",
              "    </tr>\n",
              "    <tr>\n",
              "      <th>1094</th>\n",
              "      <td>985153</td>\n",
              "      <td>True</td>\n",
              "      <td>v</td>\n",
              "      <td>1</td>\n",
              "    </tr>\n",
              "    <tr>\n",
              "      <th>...</th>\n",
              "      <td>...</td>\n",
              "      <td>...</td>\n",
              "      <td>...</td>\n",
              "      <td>...</td>\n",
              "    </tr>\n",
              "    <tr>\n",
              "      <th>259996</th>\n",
              "      <td>343308</td>\n",
              "      <td>True</td>\n",
              "      <td>v</td>\n",
              "      <td>1</td>\n",
              "    </tr>\n",
              "    <tr>\n",
              "      <th>260178</th>\n",
              "      <td>765716</td>\n",
              "      <td>True</td>\n",
              "      <td>v</td>\n",
              "      <td>1</td>\n",
              "    </tr>\n",
              "    <tr>\n",
              "      <th>260301</th>\n",
              "      <td>706986</td>\n",
              "      <td>True</td>\n",
              "      <td>v</td>\n",
              "      <td>2</td>\n",
              "    </tr>\n",
              "    <tr>\n",
              "      <th>260405</th>\n",
              "      <td>751326</td>\n",
              "      <td>True</td>\n",
              "      <td>v</td>\n",
              "      <td>1</td>\n",
              "    </tr>\n",
              "    <tr>\n",
              "      <th>260421</th>\n",
              "      <td>732139</td>\n",
              "      <td>True</td>\n",
              "      <td>v</td>\n",
              "      <td>1</td>\n",
              "    </tr>\n",
              "  </tbody>\n",
              "</table>\n",
              "<p>2111 rows × 4 columns</p>\n",
              "</div>"
            ],
            "text/plain": [
              "        building_id  ...  damage_grade\n",
              "45           440102  ...             1\n",
              "360          394060  ...             3\n",
              "484          194805  ...             1\n",
              "646          860885  ...             2\n",
              "1094         985153  ...             1\n",
              "...             ...  ...           ...\n",
              "259996       343308  ...             1\n",
              "260178       765716  ...             1\n",
              "260301       706986  ...             2\n",
              "260405       751326  ...             1\n",
              "260421       732139  ...             1\n",
              "\n",
              "[2111 rows x 4 columns]"
            ]
          },
          "metadata": {},
          "execution_count": 98
        }
      ],
      "source": [
        "# get the damage grade whose use is for rental  with corresponding legal ownership\n",
        "rental_use = New_dataset1.loc[New_dataset1. has_secondary_use_rental==1, ['building_id', 'has_secondary_use_rental','legal_ownership_status','damage_grade']]\n",
        "rental_use"
      ]
    },
    {
      "cell_type": "code",
      "execution_count": null,
      "metadata": {
        "colab": {
          "base_uri": "https://localhost:8080/"
        },
        "id": "-PiNCcAPBxpX",
        "outputId": "1c09a9eb-546d-4af7-e80c-fa498411d05d"
      },
      "outputs": [
        {
          "output_type": "execute_result",
          "data": {
            "text/html": [
              "<div>\n",
              "<style scoped>\n",
              "    .dataframe tbody tr th:only-of-type {\n",
              "        vertical-align: middle;\n",
              "    }\n",
              "\n",
              "    .dataframe tbody tr th {\n",
              "        vertical-align: top;\n",
              "    }\n",
              "\n",
              "    .dataframe thead th {\n",
              "        text-align: right;\n",
              "    }\n",
              "</style>\n",
              "<table border=\"1\" class=\"dataframe\">\n",
              "  <thead>\n",
              "    <tr style=\"text-align: right;\">\n",
              "      <th></th>\n",
              "      <th>building_id</th>\n",
              "      <th>has_secondary_use_institution</th>\n",
              "      <th>legal_ownership_status</th>\n",
              "      <th>damage_grade</th>\n",
              "    </tr>\n",
              "  </thead>\n",
              "  <tbody>\n",
              "    <tr>\n",
              "      <th>1484</th>\n",
              "      <td>113294</td>\n",
              "      <td>True</td>\n",
              "      <td>v</td>\n",
              "      <td>2</td>\n",
              "    </tr>\n",
              "    <tr>\n",
              "      <th>1568</th>\n",
              "      <td>610116</td>\n",
              "      <td>True</td>\n",
              "      <td>v</td>\n",
              "      <td>1</td>\n",
              "    </tr>\n",
              "    <tr>\n",
              "      <th>3179</th>\n",
              "      <td>894973</td>\n",
              "      <td>True</td>\n",
              "      <td>v</td>\n",
              "      <td>2</td>\n",
              "    </tr>\n",
              "    <tr>\n",
              "      <th>3645</th>\n",
              "      <td>154360</td>\n",
              "      <td>True</td>\n",
              "      <td>v</td>\n",
              "      <td>3</td>\n",
              "    </tr>\n",
              "    <tr>\n",
              "      <th>6337</th>\n",
              "      <td>197064</td>\n",
              "      <td>True</td>\n",
              "      <td>v</td>\n",
              "      <td>1</td>\n",
              "    </tr>\n",
              "    <tr>\n",
              "      <th>...</th>\n",
              "      <td>...</td>\n",
              "      <td>...</td>\n",
              "      <td>...</td>\n",
              "      <td>...</td>\n",
              "    </tr>\n",
              "    <tr>\n",
              "      <th>252066</th>\n",
              "      <td>801169</td>\n",
              "      <td>True</td>\n",
              "      <td>v</td>\n",
              "      <td>1</td>\n",
              "    </tr>\n",
              "    <tr>\n",
              "      <th>253131</th>\n",
              "      <td>850420</td>\n",
              "      <td>True</td>\n",
              "      <td>v</td>\n",
              "      <td>2</td>\n",
              "    </tr>\n",
              "    <tr>\n",
              "      <th>257697</th>\n",
              "      <td>31613</td>\n",
              "      <td>True</td>\n",
              "      <td>v</td>\n",
              "      <td>2</td>\n",
              "    </tr>\n",
              "    <tr>\n",
              "      <th>258204</th>\n",
              "      <td>285989</td>\n",
              "      <td>True</td>\n",
              "      <td>v</td>\n",
              "      <td>1</td>\n",
              "    </tr>\n",
              "    <tr>\n",
              "      <th>259367</th>\n",
              "      <td>761713</td>\n",
              "      <td>True</td>\n",
              "      <td>v</td>\n",
              "      <td>2</td>\n",
              "    </tr>\n",
              "  </tbody>\n",
              "</table>\n",
              "<p>245 rows × 4 columns</p>\n",
              "</div>"
            ],
            "text/plain": [
              "        building_id  ...  damage_grade\n",
              "1484         113294  ...             2\n",
              "1568         610116  ...             1\n",
              "3179         894973  ...             2\n",
              "3645         154360  ...             3\n",
              "6337         197064  ...             1\n",
              "...             ...  ...           ...\n",
              "252066       801169  ...             1\n",
              "253131       850420  ...             2\n",
              "257697        31613  ...             2\n",
              "258204       285989  ...             1\n",
              "259367       761713  ...             2\n",
              "\n",
              "[245 rows x 4 columns]"
            ]
          },
          "metadata": {},
          "execution_count": 99
        }
      ],
      "source": [
        "# get the damage grade whose use is for institution  with corresponding legal ownership\n",
        "institution_use = New_dataset1.loc[New_dataset1. has_secondary_use_institution==1, ['building_id', 'has_secondary_use_institution','legal_ownership_status','damage_grade']]\n",
        "institution_use"
      ]
    },
    {
      "cell_type": "code",
      "execution_count": null,
      "metadata": {
        "colab": {
          "base_uri": "https://localhost:8080/"
        },
        "id": "ebJ_YZKkBxwV",
        "outputId": "98d1d088-6c70-4ae0-eaa9-c93a0a02873d"
      },
      "outputs": [
        {
          "output_type": "execute_result",
          "data": {
            "text/html": [
              "<div>\n",
              "<style scoped>\n",
              "    .dataframe tbody tr th:only-of-type {\n",
              "        vertical-align: middle;\n",
              "    }\n",
              "\n",
              "    .dataframe tbody tr th {\n",
              "        vertical-align: top;\n",
              "    }\n",
              "\n",
              "    .dataframe thead th {\n",
              "        text-align: right;\n",
              "    }\n",
              "</style>\n",
              "<table border=\"1\" class=\"dataframe\">\n",
              "  <thead>\n",
              "    <tr style=\"text-align: right;\">\n",
              "      <th></th>\n",
              "      <th>building_id</th>\n",
              "      <th>has_secondary_use_school</th>\n",
              "      <th>legal_ownership_status</th>\n",
              "      <th>damage_grade</th>\n",
              "    </tr>\n",
              "  </thead>\n",
              "  <tbody>\n",
              "    <tr>\n",
              "      <th>1389</th>\n",
              "      <td>434716</td>\n",
              "      <td>True</td>\n",
              "      <td>v</td>\n",
              "      <td>2</td>\n",
              "    </tr>\n",
              "    <tr>\n",
              "      <th>3525</th>\n",
              "      <td>566369</td>\n",
              "      <td>True</td>\n",
              "      <td>v</td>\n",
              "      <td>2</td>\n",
              "    </tr>\n",
              "    <tr>\n",
              "      <th>5307</th>\n",
              "      <td>332858</td>\n",
              "      <td>True</td>\n",
              "      <td>v</td>\n",
              "      <td>2</td>\n",
              "    </tr>\n",
              "    <tr>\n",
              "      <th>9009</th>\n",
              "      <td>745815</td>\n",
              "      <td>True</td>\n",
              "      <td>w</td>\n",
              "      <td>2</td>\n",
              "    </tr>\n",
              "    <tr>\n",
              "      <th>11977</th>\n",
              "      <td>219873</td>\n",
              "      <td>True</td>\n",
              "      <td>v</td>\n",
              "      <td>2</td>\n",
              "    </tr>\n",
              "    <tr>\n",
              "      <th>...</th>\n",
              "      <td>...</td>\n",
              "      <td>...</td>\n",
              "      <td>...</td>\n",
              "      <td>...</td>\n",
              "    </tr>\n",
              "    <tr>\n",
              "      <th>245712</th>\n",
              "      <td>345203</td>\n",
              "      <td>True</td>\n",
              "      <td>v</td>\n",
              "      <td>2</td>\n",
              "    </tr>\n",
              "    <tr>\n",
              "      <th>249144</th>\n",
              "      <td>355500</td>\n",
              "      <td>True</td>\n",
              "      <td>v</td>\n",
              "      <td>2</td>\n",
              "    </tr>\n",
              "    <tr>\n",
              "      <th>249649</th>\n",
              "      <td>436747</td>\n",
              "      <td>True</td>\n",
              "      <td>v</td>\n",
              "      <td>1</td>\n",
              "    </tr>\n",
              "    <tr>\n",
              "      <th>250763</th>\n",
              "      <td>538196</td>\n",
              "      <td>True</td>\n",
              "      <td>w</td>\n",
              "      <td>2</td>\n",
              "    </tr>\n",
              "    <tr>\n",
              "      <th>258399</th>\n",
              "      <td>196572</td>\n",
              "      <td>True</td>\n",
              "      <td>v</td>\n",
              "      <td>3</td>\n",
              "    </tr>\n",
              "  </tbody>\n",
              "</table>\n",
              "<p>94 rows × 4 columns</p>\n",
              "</div>"
            ],
            "text/plain": [
              "        building_id  ...  damage_grade\n",
              "1389         434716  ...             2\n",
              "3525         566369  ...             2\n",
              "5307         332858  ...             2\n",
              "9009         745815  ...             2\n",
              "11977        219873  ...             2\n",
              "...             ...  ...           ...\n",
              "245712       345203  ...             2\n",
              "249144       355500  ...             2\n",
              "249649       436747  ...             1\n",
              "250763       538196  ...             2\n",
              "258399       196572  ...             3\n",
              "\n",
              "[94 rows x 4 columns]"
            ]
          },
          "metadata": {},
          "execution_count": 100
        }
      ],
      "source": [
        "# get the damage grade whose use is for school with corresponding legal ownership\n",
        "school_use = New_dataset1.loc[New_dataset1. has_secondary_use_school==1, ['building_id', 'has_secondary_use_school','legal_ownership_status','damage_grade']]\n",
        "school_use"
      ]
    },
    {
      "cell_type": "code",
      "execution_count": null,
      "metadata": {
        "colab": {
          "base_uri": "https://localhost:8080/"
        },
        "id": "sG-z7H7LE5ws",
        "outputId": "88e91e43-e071-4922-cdb9-a417deed8622"
      },
      "outputs": [
        {
          "output_type": "execute_result",
          "data": {
            "text/html": [
              "<div>\n",
              "<style scoped>\n",
              "    .dataframe tbody tr th:only-of-type {\n",
              "        vertical-align: middle;\n",
              "    }\n",
              "\n",
              "    .dataframe tbody tr th {\n",
              "        vertical-align: top;\n",
              "    }\n",
              "\n",
              "    .dataframe thead th {\n",
              "        text-align: right;\n",
              "    }\n",
              "</style>\n",
              "<table border=\"1\" class=\"dataframe\">\n",
              "  <thead>\n",
              "    <tr style=\"text-align: right;\">\n",
              "      <th></th>\n",
              "      <th>building_id</th>\n",
              "      <th>has_secondary_use_industry</th>\n",
              "      <th>legal_ownership_status</th>\n",
              "      <th>damage_grade</th>\n",
              "    </tr>\n",
              "  </thead>\n",
              "  <tbody>\n",
              "    <tr>\n",
              "      <th>279</th>\n",
              "      <td>597468</td>\n",
              "      <td>True</td>\n",
              "      <td>v</td>\n",
              "      <td>2</td>\n",
              "    </tr>\n",
              "    <tr>\n",
              "      <th>725</th>\n",
              "      <td>871546</td>\n",
              "      <td>True</td>\n",
              "      <td>v</td>\n",
              "      <td>2</td>\n",
              "    </tr>\n",
              "    <tr>\n",
              "      <th>887</th>\n",
              "      <td>984945</td>\n",
              "      <td>True</td>\n",
              "      <td>v</td>\n",
              "      <td>1</td>\n",
              "    </tr>\n",
              "    <tr>\n",
              "      <th>1660</th>\n",
              "      <td>3649</td>\n",
              "      <td>True</td>\n",
              "      <td>v</td>\n",
              "      <td>3</td>\n",
              "    </tr>\n",
              "    <tr>\n",
              "      <th>2307</th>\n",
              "      <td>316051</td>\n",
              "      <td>True</td>\n",
              "      <td>v</td>\n",
              "      <td>2</td>\n",
              "    </tr>\n",
              "    <tr>\n",
              "      <th>...</th>\n",
              "      <td>...</td>\n",
              "      <td>...</td>\n",
              "      <td>...</td>\n",
              "      <td>...</td>\n",
              "    </tr>\n",
              "    <tr>\n",
              "      <th>249244</th>\n",
              "      <td>1050749</td>\n",
              "      <td>True</td>\n",
              "      <td>v</td>\n",
              "      <td>3</td>\n",
              "    </tr>\n",
              "    <tr>\n",
              "      <th>250232</th>\n",
              "      <td>343636</td>\n",
              "      <td>True</td>\n",
              "      <td>a</td>\n",
              "      <td>3</td>\n",
              "    </tr>\n",
              "    <tr>\n",
              "      <th>251742</th>\n",
              "      <td>623127</td>\n",
              "      <td>True</td>\n",
              "      <td>v</td>\n",
              "      <td>1</td>\n",
              "    </tr>\n",
              "    <tr>\n",
              "      <th>253827</th>\n",
              "      <td>541640</td>\n",
              "      <td>True</td>\n",
              "      <td>v</td>\n",
              "      <td>3</td>\n",
              "    </tr>\n",
              "    <tr>\n",
              "      <th>260089</th>\n",
              "      <td>89119</td>\n",
              "      <td>True</td>\n",
              "      <td>v</td>\n",
              "      <td>2</td>\n",
              "    </tr>\n",
              "  </tbody>\n",
              "</table>\n",
              "<p>279 rows × 4 columns</p>\n",
              "</div>"
            ],
            "text/plain": [
              "        building_id  ...  damage_grade\n",
              "279          597468  ...             2\n",
              "725          871546  ...             2\n",
              "887          984945  ...             1\n",
              "1660           3649  ...             3\n",
              "2307         316051  ...             2\n",
              "...             ...  ...           ...\n",
              "249244      1050749  ...             3\n",
              "250232       343636  ...             3\n",
              "251742       623127  ...             1\n",
              "253827       541640  ...             3\n",
              "260089        89119  ...             2\n",
              "\n",
              "[279 rows x 4 columns]"
            ]
          },
          "metadata": {},
          "execution_count": 101
        }
      ],
      "source": [
        "# get the damage grade whose use is for industry with corresponding legal ownership\n",
        "industry_use = New_dataset1.loc[New_dataset1. has_secondary_use_industry==1, ['building_id', 'has_secondary_use_industry','legal_ownership_status','damage_grade']]\n",
        "industry_use"
      ]
    },
    {
      "cell_type": "code",
      "execution_count": null,
      "metadata": {
        "colab": {
          "base_uri": "https://localhost:8080/"
        },
        "id": "5ySlbTQsBx1Q",
        "outputId": "b3e2e2f4-2e2a-4ddf-9f1d-96123aa7b7ae"
      },
      "outputs": [
        {
          "output_type": "execute_result",
          "data": {
            "text/html": [
              "<div>\n",
              "<style scoped>\n",
              "    .dataframe tbody tr th:only-of-type {\n",
              "        vertical-align: middle;\n",
              "    }\n",
              "\n",
              "    .dataframe tbody tr th {\n",
              "        vertical-align: top;\n",
              "    }\n",
              "\n",
              "    .dataframe thead th {\n",
              "        text-align: right;\n",
              "    }\n",
              "</style>\n",
              "<table border=\"1\" class=\"dataframe\">\n",
              "  <thead>\n",
              "    <tr style=\"text-align: right;\">\n",
              "      <th></th>\n",
              "      <th>building_id</th>\n",
              "      <th>legal_ownership_status</th>\n",
              "      <th>damage_grade</th>\n",
              "    </tr>\n",
              "  </thead>\n",
              "  <tbody>\n",
              "    <tr>\n",
              "      <th>574</th>\n",
              "      <td>364248</td>\n",
              "      <td>v</td>\n",
              "      <td>2</td>\n",
              "    </tr>\n",
              "    <tr>\n",
              "      <th>1926</th>\n",
              "      <td>510269</td>\n",
              "      <td>v</td>\n",
              "      <td>1</td>\n",
              "    </tr>\n",
              "    <tr>\n",
              "      <th>2095</th>\n",
              "      <td>669903</td>\n",
              "      <td>v</td>\n",
              "      <td>2</td>\n",
              "    </tr>\n",
              "    <tr>\n",
              "      <th>23692</th>\n",
              "      <td>38961</td>\n",
              "      <td>v</td>\n",
              "      <td>1</td>\n",
              "    </tr>\n",
              "    <tr>\n",
              "      <th>29400</th>\n",
              "      <td>104394</td>\n",
              "      <td>v</td>\n",
              "      <td>1</td>\n",
              "    </tr>\n",
              "    <tr>\n",
              "      <th>32634</th>\n",
              "      <td>760985</td>\n",
              "      <td>v</td>\n",
              "      <td>2</td>\n",
              "    </tr>\n",
              "    <tr>\n",
              "      <th>34956</th>\n",
              "      <td>675759</td>\n",
              "      <td>v</td>\n",
              "      <td>2</td>\n",
              "    </tr>\n",
              "    <tr>\n",
              "      <th>35145</th>\n",
              "      <td>973517</td>\n",
              "      <td>v</td>\n",
              "      <td>1</td>\n",
              "    </tr>\n",
              "    <tr>\n",
              "      <th>36592</th>\n",
              "      <td>358404</td>\n",
              "      <td>v</td>\n",
              "      <td>3</td>\n",
              "    </tr>\n",
              "    <tr>\n",
              "      <th>37940</th>\n",
              "      <td>487608</td>\n",
              "      <td>v</td>\n",
              "      <td>2</td>\n",
              "    </tr>\n",
              "    <tr>\n",
              "      <th>39204</th>\n",
              "      <td>861447</td>\n",
              "      <td>v</td>\n",
              "      <td>2</td>\n",
              "    </tr>\n",
              "    <tr>\n",
              "      <th>41458</th>\n",
              "      <td>36140</td>\n",
              "      <td>v</td>\n",
              "      <td>1</td>\n",
              "    </tr>\n",
              "    <tr>\n",
              "      <th>49608</th>\n",
              "      <td>511375</td>\n",
              "      <td>v</td>\n",
              "      <td>1</td>\n",
              "    </tr>\n",
              "    <tr>\n",
              "      <th>55222</th>\n",
              "      <td>1037428</td>\n",
              "      <td>v</td>\n",
              "      <td>2</td>\n",
              "    </tr>\n",
              "    <tr>\n",
              "      <th>77583</th>\n",
              "      <td>176422</td>\n",
              "      <td>v</td>\n",
              "      <td>2</td>\n",
              "    </tr>\n",
              "    <tr>\n",
              "      <th>78063</th>\n",
              "      <td>507925</td>\n",
              "      <td>v</td>\n",
              "      <td>2</td>\n",
              "    </tr>\n",
              "    <tr>\n",
              "      <th>85259</th>\n",
              "      <td>825275</td>\n",
              "      <td>v</td>\n",
              "      <td>2</td>\n",
              "    </tr>\n",
              "    <tr>\n",
              "      <th>86301</th>\n",
              "      <td>613052</td>\n",
              "      <td>v</td>\n",
              "      <td>2</td>\n",
              "    </tr>\n",
              "    <tr>\n",
              "      <th>92547</th>\n",
              "      <td>915938</td>\n",
              "      <td>v</td>\n",
              "      <td>2</td>\n",
              "    </tr>\n",
              "    <tr>\n",
              "      <th>102731</th>\n",
              "      <td>378843</td>\n",
              "      <td>v</td>\n",
              "      <td>2</td>\n",
              "    </tr>\n",
              "    <tr>\n",
              "      <th>104758</th>\n",
              "      <td>551599</td>\n",
              "      <td>v</td>\n",
              "      <td>2</td>\n",
              "    </tr>\n",
              "    <tr>\n",
              "      <th>115392</th>\n",
              "      <td>195798</td>\n",
              "      <td>v</td>\n",
              "      <td>2</td>\n",
              "    </tr>\n",
              "    <tr>\n",
              "      <th>115493</th>\n",
              "      <td>169789</td>\n",
              "      <td>v</td>\n",
              "      <td>2</td>\n",
              "    </tr>\n",
              "    <tr>\n",
              "      <th>121681</th>\n",
              "      <td>872401</td>\n",
              "      <td>v</td>\n",
              "      <td>1</td>\n",
              "    </tr>\n",
              "    <tr>\n",
              "      <th>122667</th>\n",
              "      <td>773855</td>\n",
              "      <td>v</td>\n",
              "      <td>2</td>\n",
              "    </tr>\n",
              "    <tr>\n",
              "      <th>126037</th>\n",
              "      <td>708868</td>\n",
              "      <td>v</td>\n",
              "      <td>3</td>\n",
              "    </tr>\n",
              "    <tr>\n",
              "      <th>127058</th>\n",
              "      <td>1047661</td>\n",
              "      <td>v</td>\n",
              "      <td>2</td>\n",
              "    </tr>\n",
              "    <tr>\n",
              "      <th>135618</th>\n",
              "      <td>332060</td>\n",
              "      <td>v</td>\n",
              "      <td>2</td>\n",
              "    </tr>\n",
              "    <tr>\n",
              "      <th>141425</th>\n",
              "      <td>65783</td>\n",
              "      <td>a</td>\n",
              "      <td>2</td>\n",
              "    </tr>\n",
              "    <tr>\n",
              "      <th>142503</th>\n",
              "      <td>1021793</td>\n",
              "      <td>v</td>\n",
              "      <td>1</td>\n",
              "    </tr>\n",
              "    <tr>\n",
              "      <th>163766</th>\n",
              "      <td>161747</td>\n",
              "      <td>v</td>\n",
              "      <td>2</td>\n",
              "    </tr>\n",
              "    <tr>\n",
              "      <th>172685</th>\n",
              "      <td>997499</td>\n",
              "      <td>v</td>\n",
              "      <td>2</td>\n",
              "    </tr>\n",
              "    <tr>\n",
              "      <th>177465</th>\n",
              "      <td>690918</td>\n",
              "      <td>v</td>\n",
              "      <td>3</td>\n",
              "    </tr>\n",
              "    <tr>\n",
              "      <th>182775</th>\n",
              "      <td>231526</td>\n",
              "      <td>v</td>\n",
              "      <td>2</td>\n",
              "    </tr>\n",
              "    <tr>\n",
              "      <th>184813</th>\n",
              "      <td>531326</td>\n",
              "      <td>v</td>\n",
              "      <td>2</td>\n",
              "    </tr>\n",
              "    <tr>\n",
              "      <th>187405</th>\n",
              "      <td>98844</td>\n",
              "      <td>v</td>\n",
              "      <td>2</td>\n",
              "    </tr>\n",
              "    <tr>\n",
              "      <th>194861</th>\n",
              "      <td>844162</td>\n",
              "      <td>v</td>\n",
              "      <td>1</td>\n",
              "    </tr>\n",
              "    <tr>\n",
              "      <th>196442</th>\n",
              "      <td>232406</td>\n",
              "      <td>v</td>\n",
              "      <td>2</td>\n",
              "    </tr>\n",
              "    <tr>\n",
              "      <th>213474</th>\n",
              "      <td>174580</td>\n",
              "      <td>v</td>\n",
              "      <td>1</td>\n",
              "    </tr>\n",
              "    <tr>\n",
              "      <th>213826</th>\n",
              "      <td>453313</td>\n",
              "      <td>v</td>\n",
              "      <td>2</td>\n",
              "    </tr>\n",
              "    <tr>\n",
              "      <th>218406</th>\n",
              "      <td>494079</td>\n",
              "      <td>v</td>\n",
              "      <td>2</td>\n",
              "    </tr>\n",
              "    <tr>\n",
              "      <th>229281</th>\n",
              "      <td>227564</td>\n",
              "      <td>v</td>\n",
              "      <td>2</td>\n",
              "    </tr>\n",
              "    <tr>\n",
              "      <th>231643</th>\n",
              "      <td>105344</td>\n",
              "      <td>v</td>\n",
              "      <td>3</td>\n",
              "    </tr>\n",
              "    <tr>\n",
              "      <th>231868</th>\n",
              "      <td>758286</td>\n",
              "      <td>v</td>\n",
              "      <td>1</td>\n",
              "    </tr>\n",
              "    <tr>\n",
              "      <th>241971</th>\n",
              "      <td>702468</td>\n",
              "      <td>v</td>\n",
              "      <td>2</td>\n",
              "    </tr>\n",
              "    <tr>\n",
              "      <th>242781</th>\n",
              "      <td>923851</td>\n",
              "      <td>a</td>\n",
              "      <td>2</td>\n",
              "    </tr>\n",
              "    <tr>\n",
              "      <th>243541</th>\n",
              "      <td>757706</td>\n",
              "      <td>v</td>\n",
              "      <td>3</td>\n",
              "    </tr>\n",
              "    <tr>\n",
              "      <th>244418</th>\n",
              "      <td>310731</td>\n",
              "      <td>v</td>\n",
              "      <td>1</td>\n",
              "    </tr>\n",
              "    <tr>\n",
              "      <th>245108</th>\n",
              "      <td>107265</td>\n",
              "      <td>v</td>\n",
              "      <td>2</td>\n",
              "    </tr>\n",
              "  </tbody>\n",
              "</table>\n",
              "</div>"
            ],
            "text/plain": [
              "        building_id legal_ownership_status  damage_grade\n",
              "574          364248                      v             2\n",
              "1926         510269                      v             1\n",
              "2095         669903                      v             2\n",
              "23692         38961                      v             1\n",
              "29400        104394                      v             1\n",
              "32634        760985                      v             2\n",
              "34956        675759                      v             2\n",
              "35145        973517                      v             1\n",
              "36592        358404                      v             3\n",
              "37940        487608                      v             2\n",
              "39204        861447                      v             2\n",
              "41458         36140                      v             1\n",
              "49608        511375                      v             1\n",
              "55222       1037428                      v             2\n",
              "77583        176422                      v             2\n",
              "78063        507925                      v             2\n",
              "85259        825275                      v             2\n",
              "86301        613052                      v             2\n",
              "92547        915938                      v             2\n",
              "102731       378843                      v             2\n",
              "104758       551599                      v             2\n",
              "115392       195798                      v             2\n",
              "115493       169789                      v             2\n",
              "121681       872401                      v             1\n",
              "122667       773855                      v             2\n",
              "126037       708868                      v             3\n",
              "127058      1047661                      v             2\n",
              "135618       332060                      v             2\n",
              "141425        65783                      a             2\n",
              "142503      1021793                      v             1\n",
              "163766       161747                      v             2\n",
              "172685       997499                      v             2\n",
              "177465       690918                      v             3\n",
              "182775       231526                      v             2\n",
              "184813       531326                      v             2\n",
              "187405        98844                      v             2\n",
              "194861       844162                      v             1\n",
              "196442       232406                      v             2\n",
              "213474       174580                      v             1\n",
              "213826       453313                      v             2\n",
              "218406       494079                      v             2\n",
              "229281       227564                      v             2\n",
              "231643       105344                      v             3\n",
              "231868       758286                      v             1\n",
              "241971       702468                      v             2\n",
              "242781       923851                      a             2\n",
              "243541       757706                      v             3\n",
              "244418       310731                      v             1\n",
              "245108       107265                      v             2"
            ]
          },
          "metadata": {},
          "execution_count": 102
        }
      ],
      "source": [
        "# get the damage grade whose use is for health post with corresponding legal ownership\n",
        "healthpost_use = New_dataset1.loc[New_dataset1. has_secondary_use_health_post==1, ['building_id','legal_ownership_status','damage_grade']]\n",
        "healthpost_use"
      ]
    },
    {
      "cell_type": "code",
      "execution_count": null,
      "metadata": {
        "colab": {
          "base_uri": "https://localhost:8080/"
        },
        "id": "p0QT-DwxBx6p",
        "outputId": "2b68c221-de24-4080-bfc9-f13b1a2de584"
      },
      "outputs": [
        {
          "output_type": "execute_result",
          "data": {
            "text/html": [
              "<div>\n",
              "<style scoped>\n",
              "    .dataframe tbody tr th:only-of-type {\n",
              "        vertical-align: middle;\n",
              "    }\n",
              "\n",
              "    .dataframe tbody tr th {\n",
              "        vertical-align: top;\n",
              "    }\n",
              "\n",
              "    .dataframe thead th {\n",
              "        text-align: right;\n",
              "    }\n",
              "</style>\n",
              "<table border=\"1\" class=\"dataframe\">\n",
              "  <thead>\n",
              "    <tr style=\"text-align: right;\">\n",
              "      <th></th>\n",
              "      <th>building_id</th>\n",
              "      <th>legal_ownership_status</th>\n",
              "      <th>damage_grade</th>\n",
              "    </tr>\n",
              "  </thead>\n",
              "  <tbody>\n",
              "    <tr>\n",
              "      <th>27243</th>\n",
              "      <td>351973</td>\n",
              "      <td>v</td>\n",
              "      <td>2</td>\n",
              "    </tr>\n",
              "    <tr>\n",
              "      <th>45399</th>\n",
              "      <td>917970</td>\n",
              "      <td>v</td>\n",
              "      <td>1</td>\n",
              "    </tr>\n",
              "    <tr>\n",
              "      <th>47202</th>\n",
              "      <td>272889</td>\n",
              "      <td>v</td>\n",
              "      <td>1</td>\n",
              "    </tr>\n",
              "    <tr>\n",
              "      <th>55318</th>\n",
              "      <td>558033</td>\n",
              "      <td>v</td>\n",
              "      <td>2</td>\n",
              "    </tr>\n",
              "    <tr>\n",
              "      <th>63823</th>\n",
              "      <td>870651</td>\n",
              "      <td>v</td>\n",
              "      <td>2</td>\n",
              "    </tr>\n",
              "    <tr>\n",
              "      <th>75433</th>\n",
              "      <td>245054</td>\n",
              "      <td>v</td>\n",
              "      <td>1</td>\n",
              "    </tr>\n",
              "    <tr>\n",
              "      <th>82524</th>\n",
              "      <td>18057</td>\n",
              "      <td>v</td>\n",
              "      <td>2</td>\n",
              "    </tr>\n",
              "    <tr>\n",
              "      <th>83711</th>\n",
              "      <td>232672</td>\n",
              "      <td>v</td>\n",
              "      <td>2</td>\n",
              "    </tr>\n",
              "    <tr>\n",
              "      <th>88843</th>\n",
              "      <td>435284</td>\n",
              "      <td>v</td>\n",
              "      <td>2</td>\n",
              "    </tr>\n",
              "    <tr>\n",
              "      <th>98324</th>\n",
              "      <td>591554</td>\n",
              "      <td>v</td>\n",
              "      <td>1</td>\n",
              "    </tr>\n",
              "    <tr>\n",
              "      <th>105874</th>\n",
              "      <td>310293</td>\n",
              "      <td>v</td>\n",
              "      <td>3</td>\n",
              "    </tr>\n",
              "    <tr>\n",
              "      <th>112682</th>\n",
              "      <td>972830</td>\n",
              "      <td>v</td>\n",
              "      <td>2</td>\n",
              "    </tr>\n",
              "    <tr>\n",
              "      <th>123828</th>\n",
              "      <td>93722</td>\n",
              "      <td>v</td>\n",
              "      <td>1</td>\n",
              "    </tr>\n",
              "    <tr>\n",
              "      <th>133974</th>\n",
              "      <td>88726</td>\n",
              "      <td>v</td>\n",
              "      <td>1</td>\n",
              "    </tr>\n",
              "    <tr>\n",
              "      <th>147721</th>\n",
              "      <td>776336</td>\n",
              "      <td>v</td>\n",
              "      <td>1</td>\n",
              "    </tr>\n",
              "    <tr>\n",
              "      <th>150456</th>\n",
              "      <td>90902</td>\n",
              "      <td>v</td>\n",
              "      <td>2</td>\n",
              "    </tr>\n",
              "    <tr>\n",
              "      <th>153536</th>\n",
              "      <td>682785</td>\n",
              "      <td>v</td>\n",
              "      <td>1</td>\n",
              "    </tr>\n",
              "    <tr>\n",
              "      <th>155053</th>\n",
              "      <td>774481</td>\n",
              "      <td>v</td>\n",
              "      <td>2</td>\n",
              "    </tr>\n",
              "    <tr>\n",
              "      <th>158884</th>\n",
              "      <td>485654</td>\n",
              "      <td>v</td>\n",
              "      <td>2</td>\n",
              "    </tr>\n",
              "    <tr>\n",
              "      <th>159280</th>\n",
              "      <td>684666</td>\n",
              "      <td>v</td>\n",
              "      <td>1</td>\n",
              "    </tr>\n",
              "    <tr>\n",
              "      <th>160447</th>\n",
              "      <td>988857</td>\n",
              "      <td>v</td>\n",
              "      <td>1</td>\n",
              "    </tr>\n",
              "    <tr>\n",
              "      <th>164055</th>\n",
              "      <td>942602</td>\n",
              "      <td>a</td>\n",
              "      <td>2</td>\n",
              "    </tr>\n",
              "    <tr>\n",
              "      <th>166291</th>\n",
              "      <td>743580</td>\n",
              "      <td>v</td>\n",
              "      <td>2</td>\n",
              "    </tr>\n",
              "    <tr>\n",
              "      <th>183852</th>\n",
              "      <td>788817</td>\n",
              "      <td>v</td>\n",
              "      <td>1</td>\n",
              "    </tr>\n",
              "    <tr>\n",
              "      <th>189716</th>\n",
              "      <td>511908</td>\n",
              "      <td>v</td>\n",
              "      <td>2</td>\n",
              "    </tr>\n",
              "    <tr>\n",
              "      <th>192440</th>\n",
              "      <td>313848</td>\n",
              "      <td>v</td>\n",
              "      <td>3</td>\n",
              "    </tr>\n",
              "    <tr>\n",
              "      <th>205417</th>\n",
              "      <td>295205</td>\n",
              "      <td>v</td>\n",
              "      <td>3</td>\n",
              "    </tr>\n",
              "    <tr>\n",
              "      <th>206425</th>\n",
              "      <td>587668</td>\n",
              "      <td>v</td>\n",
              "      <td>2</td>\n",
              "    </tr>\n",
              "    <tr>\n",
              "      <th>209372</th>\n",
              "      <td>582321</td>\n",
              "      <td>v</td>\n",
              "      <td>2</td>\n",
              "    </tr>\n",
              "    <tr>\n",
              "      <th>211241</th>\n",
              "      <td>912927</td>\n",
              "      <td>v</td>\n",
              "      <td>2</td>\n",
              "    </tr>\n",
              "    <tr>\n",
              "      <th>211312</th>\n",
              "      <td>168066</td>\n",
              "      <td>v</td>\n",
              "      <td>1</td>\n",
              "    </tr>\n",
              "    <tr>\n",
              "      <th>214361</th>\n",
              "      <td>498202</td>\n",
              "      <td>v</td>\n",
              "      <td>3</td>\n",
              "    </tr>\n",
              "    <tr>\n",
              "      <th>234419</th>\n",
              "      <td>700548</td>\n",
              "      <td>v</td>\n",
              "      <td>2</td>\n",
              "    </tr>\n",
              "    <tr>\n",
              "      <th>241424</th>\n",
              "      <td>303227</td>\n",
              "      <td>v</td>\n",
              "      <td>1</td>\n",
              "    </tr>\n",
              "    <tr>\n",
              "      <th>243439</th>\n",
              "      <td>903195</td>\n",
              "      <td>v</td>\n",
              "      <td>2</td>\n",
              "    </tr>\n",
              "    <tr>\n",
              "      <th>247578</th>\n",
              "      <td>661292</td>\n",
              "      <td>v</td>\n",
              "      <td>2</td>\n",
              "    </tr>\n",
              "    <tr>\n",
              "      <th>248667</th>\n",
              "      <td>107539</td>\n",
              "      <td>v</td>\n",
              "      <td>2</td>\n",
              "    </tr>\n",
              "    <tr>\n",
              "      <th>256602</th>\n",
              "      <td>1026428</td>\n",
              "      <td>v</td>\n",
              "      <td>2</td>\n",
              "    </tr>\n",
              "  </tbody>\n",
              "</table>\n",
              "</div>"
            ],
            "text/plain": [
              "        building_id legal_ownership_status  damage_grade\n",
              "27243        351973                      v             2\n",
              "45399        917970                      v             1\n",
              "47202        272889                      v             1\n",
              "55318        558033                      v             2\n",
              "63823        870651                      v             2\n",
              "75433        245054                      v             1\n",
              "82524         18057                      v             2\n",
              "83711        232672                      v             2\n",
              "88843        435284                      v             2\n",
              "98324        591554                      v             1\n",
              "105874       310293                      v             3\n",
              "112682       972830                      v             2\n",
              "123828        93722                      v             1\n",
              "133974        88726                      v             1\n",
              "147721       776336                      v             1\n",
              "150456        90902                      v             2\n",
              "153536       682785                      v             1\n",
              "155053       774481                      v             2\n",
              "158884       485654                      v             2\n",
              "159280       684666                      v             1\n",
              "160447       988857                      v             1\n",
              "164055       942602                      a             2\n",
              "166291       743580                      v             2\n",
              "183852       788817                      v             1\n",
              "189716       511908                      v             2\n",
              "192440       313848                      v             3\n",
              "205417       295205                      v             3\n",
              "206425       587668                      v             2\n",
              "209372       582321                      v             2\n",
              "211241       912927                      v             2\n",
              "211312       168066                      v             1\n",
              "214361       498202                      v             3\n",
              "234419       700548                      v             2\n",
              "241424       303227                      v             1\n",
              "243439       903195                      v             2\n",
              "247578       661292                      v             2\n",
              "248667       107539                      v             2\n",
              "256602      1026428                      v             2"
            ]
          },
          "metadata": {},
          "execution_count": 103
        }
      ],
      "source": [
        "# get the damage grade whose use is for industry with corresponding legal ownership\n",
        "govoffice_use = New_dataset1.loc[New_dataset1. has_secondary_use_gov_office==1, ['building_id','legal_ownership_status','damage_grade']]\n",
        "govoffice_use"
      ]
    },
    {
      "cell_type": "code",
      "execution_count": null,
      "metadata": {
        "colab": {
          "base_uri": "https://localhost:8080/"
        },
        "id": "SRq2Ay3jBx_H",
        "outputId": "5298d7af-84cd-47c7-f39d-b074b65ac686"
      },
      "outputs": [
        {
          "output_type": "execute_result",
          "data": {
            "text/html": [
              "<div>\n",
              "<style scoped>\n",
              "    .dataframe tbody tr th:only-of-type {\n",
              "        vertical-align: middle;\n",
              "    }\n",
              "\n",
              "    .dataframe tbody tr th {\n",
              "        vertical-align: top;\n",
              "    }\n",
              "\n",
              "    .dataframe thead th {\n",
              "        text-align: right;\n",
              "    }\n",
              "</style>\n",
              "<table border=\"1\" class=\"dataframe\">\n",
              "  <thead>\n",
              "    <tr style=\"text-align: right;\">\n",
              "      <th></th>\n",
              "      <th>building_id</th>\n",
              "      <th>legal_ownership_status</th>\n",
              "      <th>damage_grade</th>\n",
              "    </tr>\n",
              "  </thead>\n",
              "  <tbody>\n",
              "    <tr>\n",
              "      <th>13239</th>\n",
              "      <td>737009</td>\n",
              "      <td>v</td>\n",
              "      <td>2</td>\n",
              "    </tr>\n",
              "    <tr>\n",
              "      <th>19750</th>\n",
              "      <td>979535</td>\n",
              "      <td>v</td>\n",
              "      <td>2</td>\n",
              "    </tr>\n",
              "    <tr>\n",
              "      <th>21059</th>\n",
              "      <td>124323</td>\n",
              "      <td>v</td>\n",
              "      <td>1</td>\n",
              "    </tr>\n",
              "    <tr>\n",
              "      <th>23040</th>\n",
              "      <td>296746</td>\n",
              "      <td>v</td>\n",
              "      <td>1</td>\n",
              "    </tr>\n",
              "    <tr>\n",
              "      <th>34060</th>\n",
              "      <td>24567</td>\n",
              "      <td>v</td>\n",
              "      <td>2</td>\n",
              "    </tr>\n",
              "    <tr>\n",
              "      <th>35711</th>\n",
              "      <td>692634</td>\n",
              "      <td>v</td>\n",
              "      <td>3</td>\n",
              "    </tr>\n",
              "    <tr>\n",
              "      <th>42695</th>\n",
              "      <td>555616</td>\n",
              "      <td>v</td>\n",
              "      <td>2</td>\n",
              "    </tr>\n",
              "    <tr>\n",
              "      <th>48560</th>\n",
              "      <td>716516</td>\n",
              "      <td>v</td>\n",
              "      <td>2</td>\n",
              "    </tr>\n",
              "    <tr>\n",
              "      <th>59839</th>\n",
              "      <td>850497</td>\n",
              "      <td>v</td>\n",
              "      <td>3</td>\n",
              "    </tr>\n",
              "    <tr>\n",
              "      <th>74456</th>\n",
              "      <td>372677</td>\n",
              "      <td>v</td>\n",
              "      <td>2</td>\n",
              "    </tr>\n",
              "    <tr>\n",
              "      <th>84193</th>\n",
              "      <td>452118</td>\n",
              "      <td>v</td>\n",
              "      <td>2</td>\n",
              "    </tr>\n",
              "    <tr>\n",
              "      <th>111815</th>\n",
              "      <td>620791</td>\n",
              "      <td>v</td>\n",
              "      <td>3</td>\n",
              "    </tr>\n",
              "    <tr>\n",
              "      <th>117303</th>\n",
              "      <td>546520</td>\n",
              "      <td>v</td>\n",
              "      <td>3</td>\n",
              "    </tr>\n",
              "    <tr>\n",
              "      <th>145167</th>\n",
              "      <td>198847</td>\n",
              "      <td>v</td>\n",
              "      <td>3</td>\n",
              "    </tr>\n",
              "    <tr>\n",
              "      <th>154458</th>\n",
              "      <td>73034</td>\n",
              "      <td>v</td>\n",
              "      <td>2</td>\n",
              "    </tr>\n",
              "    <tr>\n",
              "      <th>156872</th>\n",
              "      <td>271591</td>\n",
              "      <td>v</td>\n",
              "      <td>2</td>\n",
              "    </tr>\n",
              "    <tr>\n",
              "      <th>168471</th>\n",
              "      <td>50767</td>\n",
              "      <td>v</td>\n",
              "      <td>2</td>\n",
              "    </tr>\n",
              "    <tr>\n",
              "      <th>177467</th>\n",
              "      <td>40306</td>\n",
              "      <td>v</td>\n",
              "      <td>3</td>\n",
              "    </tr>\n",
              "    <tr>\n",
              "      <th>177827</th>\n",
              "      <td>261030</td>\n",
              "      <td>v</td>\n",
              "      <td>1</td>\n",
              "    </tr>\n",
              "    <tr>\n",
              "      <th>188322</th>\n",
              "      <td>510836</td>\n",
              "      <td>v</td>\n",
              "      <td>1</td>\n",
              "    </tr>\n",
              "    <tr>\n",
              "      <th>196987</th>\n",
              "      <td>960043</td>\n",
              "      <td>v</td>\n",
              "      <td>2</td>\n",
              "    </tr>\n",
              "    <tr>\n",
              "      <th>203922</th>\n",
              "      <td>135990</td>\n",
              "      <td>v</td>\n",
              "      <td>2</td>\n",
              "    </tr>\n",
              "    <tr>\n",
              "      <th>207570</th>\n",
              "      <td>295108</td>\n",
              "      <td>v</td>\n",
              "      <td>3</td>\n",
              "    </tr>\n",
              "  </tbody>\n",
              "</table>\n",
              "</div>"
            ],
            "text/plain": [
              "        building_id legal_ownership_status  damage_grade\n",
              "13239        737009                      v             2\n",
              "19750        979535                      v             2\n",
              "21059        124323                      v             1\n",
              "23040        296746                      v             1\n",
              "34060         24567                      v             2\n",
              "35711        692634                      v             3\n",
              "42695        555616                      v             2\n",
              "48560        716516                      v             2\n",
              "59839        850497                      v             3\n",
              "74456        372677                      v             2\n",
              "84193        452118                      v             2\n",
              "111815       620791                      v             3\n",
              "117303       546520                      v             3\n",
              "145167       198847                      v             3\n",
              "154458        73034                      v             2\n",
              "156872       271591                      v             2\n",
              "168471        50767                      v             2\n",
              "177467        40306                      v             3\n",
              "177827       261030                      v             1\n",
              "188322       510836                      v             1\n",
              "196987       960043                      v             2\n",
              "203922       135990                      v             2\n",
              "207570       295108                      v             3"
            ]
          },
          "metadata": {},
          "execution_count": 104
        }
      ],
      "source": [
        "# get the damage grade whose use is for police with corresponding legal ownership\n",
        "police_use = New_dataset1.loc[New_dataset1. has_secondary_use_use_police==1, ['building_id','legal_ownership_status','damage_grade']]\n",
        "police_use"
      ]
    },
    {
      "cell_type": "code",
      "execution_count": null,
      "metadata": {
        "colab": {
          "base_uri": "https://localhost:8080/"
        },
        "id": "4xGJJCE0ByE3",
        "outputId": "2fdd2958-758f-4cfc-ac23-fdd46aebb8ba"
      },
      "outputs": [
        {
          "output_type": "execute_result",
          "data": {
            "text/html": [
              "<div>\n",
              "<style scoped>\n",
              "    .dataframe tbody tr th:only-of-type {\n",
              "        vertical-align: middle;\n",
              "    }\n",
              "\n",
              "    .dataframe tbody tr th {\n",
              "        vertical-align: top;\n",
              "    }\n",
              "\n",
              "    .dataframe thead th {\n",
              "        text-align: right;\n",
              "    }\n",
              "</style>\n",
              "<table border=\"1\" class=\"dataframe\">\n",
              "  <thead>\n",
              "    <tr style=\"text-align: right;\">\n",
              "      <th></th>\n",
              "      <th>building_id</th>\n",
              "      <th>has_secondary_use_other</th>\n",
              "      <th>legal_ownership_status</th>\n",
              "      <th>damage_grade</th>\n",
              "    </tr>\n",
              "  </thead>\n",
              "  <tbody>\n",
              "    <tr>\n",
              "      <th>304</th>\n",
              "      <td>462457</td>\n",
              "      <td>True</td>\n",
              "      <td>v</td>\n",
              "      <td>2</td>\n",
              "    </tr>\n",
              "    <tr>\n",
              "      <th>442</th>\n",
              "      <td>719278</td>\n",
              "      <td>True</td>\n",
              "      <td>v</td>\n",
              "      <td>2</td>\n",
              "    </tr>\n",
              "    <tr>\n",
              "      <th>730</th>\n",
              "      <td>521737</td>\n",
              "      <td>True</td>\n",
              "      <td>v</td>\n",
              "      <td>2</td>\n",
              "    </tr>\n",
              "    <tr>\n",
              "      <th>1269</th>\n",
              "      <td>863731</td>\n",
              "      <td>True</td>\n",
              "      <td>v</td>\n",
              "      <td>2</td>\n",
              "    </tr>\n",
              "    <tr>\n",
              "      <th>1408</th>\n",
              "      <td>994094</td>\n",
              "      <td>True</td>\n",
              "      <td>w</td>\n",
              "      <td>3</td>\n",
              "    </tr>\n",
              "    <tr>\n",
              "      <th>...</th>\n",
              "      <td>...</td>\n",
              "      <td>...</td>\n",
              "      <td>...</td>\n",
              "      <td>...</td>\n",
              "    </tr>\n",
              "    <tr>\n",
              "      <th>258755</th>\n",
              "      <td>952382</td>\n",
              "      <td>True</td>\n",
              "      <td>v</td>\n",
              "      <td>2</td>\n",
              "    </tr>\n",
              "    <tr>\n",
              "      <th>259230</th>\n",
              "      <td>498666</td>\n",
              "      <td>True</td>\n",
              "      <td>v</td>\n",
              "      <td>1</td>\n",
              "    </tr>\n",
              "    <tr>\n",
              "      <th>260002</th>\n",
              "      <td>492007</td>\n",
              "      <td>True</td>\n",
              "      <td>v</td>\n",
              "      <td>3</td>\n",
              "    </tr>\n",
              "    <tr>\n",
              "      <th>260332</th>\n",
              "      <td>655553</td>\n",
              "      <td>True</td>\n",
              "      <td>v</td>\n",
              "      <td>2</td>\n",
              "    </tr>\n",
              "    <tr>\n",
              "      <th>260499</th>\n",
              "      <td>691954</td>\n",
              "      <td>True</td>\n",
              "      <td>v</td>\n",
              "      <td>2</td>\n",
              "    </tr>\n",
              "  </tbody>\n",
              "</table>\n",
              "<p>1334 rows × 4 columns</p>\n",
              "</div>"
            ],
            "text/plain": [
              "        building_id  ...  damage_grade\n",
              "304          462457  ...             2\n",
              "442          719278  ...             2\n",
              "730          521737  ...             2\n",
              "1269         863731  ...             2\n",
              "1408         994094  ...             3\n",
              "...             ...  ...           ...\n",
              "258755       952382  ...             2\n",
              "259230       498666  ...             1\n",
              "260002       492007  ...             3\n",
              "260332       655553  ...             2\n",
              "260499       691954  ...             2\n",
              "\n",
              "[1334 rows x 4 columns]"
            ]
          },
          "metadata": {},
          "execution_count": 105
        }
      ],
      "source": [
        "# get the damage grade whose use is for other use with corresponding legal ownership\n",
        "other_use = New_dataset1.loc[New_dataset1. has_secondary_use_other==1, ['building_id', 'has_secondary_use_other','legal_ownership_status','damage_grade']]\n",
        "other_use"
      ]
    },
    {
      "cell_type": "markdown",
      "metadata": {
        "id": "k55_hCYkJzpz"
      },
      "source": [
        "# 7.2. EXPLANATORY DATA ANALYSIS\n",
        "Here, the data is analysed showing the buildings damaged according to the legal ownership and building use. Data visualisation was conduted in this section using Bar chart."
      ]
    },
    {
      "cell_type": "markdown",
      "metadata": {
        "id": "L7Psz3Vyb1Qa"
      },
      "source": [
        "THE DAMAGE ANALYSIS ON THE building use type AND legal ownership WHICH YIELDED the RESULT below.\n",
        "\n",
        "\n",
        "1.   **secondary use**\n",
        "\n",
        "*   Damage grade 2 = 17715\n",
        "*   Damage grade 3 = 7193\n",
        "*   Damage grade 1 = 4248\n",
        "\n",
        "\n",
        "2.   **agriculture use**\n",
        "\n",
        "*   Damage grade 2 = 10679\n",
        "*   Damage grade 3 = 5269\n",
        "*   Damage grade 1 = 829\n",
        "\n",
        "3.   **hotel use**\n",
        "\n",
        "*   Damage grade 2 = 5058\n",
        "*   Damage grade 1 = 2216\n",
        "*   Damage grade 3 = 1489\n",
        "\n",
        "4.   **rental use**\n",
        "\n",
        "*   Damage grade 2 = 1051\n",
        "*   Damage grade 1 = 877\n",
        "*   Damage grade 3 = 183\n",
        "\n",
        "5.   **institution use**\n",
        "\n",
        "*   Damage grade 2 = 129\n",
        "*   Damage grade 1 = 99\n",
        "*   Damage grade 3 = 17\n",
        "\n",
        "6.   **school use**\n",
        "\n",
        "*   Damaged grade 2 = 47\n",
        "*   Damaged grade 1 = 30\n",
        "*   Damaged grade 3 = 17\n",
        "\n",
        "7.  **industry use**\n",
        "\n",
        "*   Damaged grade 2 = 152\n",
        "*   Damaged grade 3 = 68\n",
        "*   Damaged grade 1 = 59\n",
        "\n",
        "8.   **health post use**\n",
        "\n",
        "*   Damaged grade 2 = 32\n",
        "*   Damaged grade 1 = 12\n",
        "*   Damaged grade 3 = 5\n",
        "\n",
        "9.   **gov office use**\n",
        "\n",
        "*   Damaged grade 2 = 21\n",
        "*   Damaged grade 1 = 13\n",
        "*   Damaged grade 3 = 4\n",
        "\n",
        "10.   **police use**\n",
        "\n",
        "*   Damaged grade 2 = 2\n",
        "*   Damaged grade 3 = 7\n",
        "*   Damaged grade 1 = 4\n",
        "\n",
        "11.   **other use**\n",
        "\n",
        "*   Damaged grade 2 = 852\n",
        "*   Damaged grade 3 = 307\n",
        "*   Damaged grade 1 = 175"
      ]
    },
    {
      "cell_type": "code",
      "execution_count": null,
      "metadata": {
        "colab": {
          "base_uri": "https://localhost:8080/"
        },
        "id": "4fybuls2SBL6",
        "outputId": "ee9f02bf-8144-49b6-c394-7e39d809de3d"
      },
      "outputs": [
        {
          "output_type": "execute_result",
          "data": {
            "text/plain": [
              "damage_grade  legal_ownership_status\n",
              "2             v                         16908\n",
              "3             v                          6795\n",
              "1             v                          3989\n",
              "2             a                           465\n",
              "              w                           237\n",
              "1             a                           185\n",
              "3             a                           174\n",
              "              w                           145\n",
              "2             r                           105\n",
              "3             r                            79\n",
              "1             w                            51\n",
              "              r                            23\n",
              "Name: legal_ownership_status, dtype: int64"
            ]
          },
          "metadata": {},
          "execution_count": 106
        }
      ],
      "source": [
        "# get the number of buildings with damage leve 1,2,3 according to legal ownership\n",
        "secondary_use.groupby('damage_grade').legal_ownership_status.value_counts().sort_values(ascending=False)\n",
        "\n",
        "\n",
        "#builidng use type (secondary use)"
      ]
    },
    {
      "cell_type": "code",
      "execution_count": null,
      "metadata": {
        "colab": {
          "base_uri": "https://localhost:8080/"
        },
        "id": "NSShNO_uvT2G",
        "outputId": "93094ae0-3c49-40b7-d7ad-b9b0f93e01f7"
      },
      "outputs": [
        {
          "output_type": "execute_result",
          "data": {
            "text/plain": [
              "<matplotlib.axes._subplots.AxesSubplot at 0x7f8ae6983a50>"
            ]
          },
          "metadata": {},
          "execution_count": 107
        },
        {
          "output_type": "display_data",
          "data": {
            "image/png": "[encoded data removed]",
            "text/plain": [
              "<Figure size 576x432 with 1 Axes>"
            ]
          },
          "metadata": {
            "needs_background": "light"
          }
        }
      ],
      "source": [
        "#Representing the secondary use using bar plot\n",
        "secondary_use.groupby('damage_grade').legal_ownership_status.value_counts().unstack().plot.bar(figsize=(8,6))"
      ]
    },
    {
      "cell_type": "code",
      "execution_count": null,
      "metadata": {
        "colab": {
          "base_uri": "https://localhost:8080/"
        },
        "id": "3deLW4dVVdY_",
        "outputId": "293f4451-1908-487b-ab31-1b052d65b42b"
      },
      "outputs": [
        {
          "output_type": "execute_result",
          "data": {
            "text/plain": [
              "damage_grade  legal_ownership_status\n",
              "2             v                         10318\n",
              "3             v                          5058\n",
              "1             v                           752\n",
              "2             a                           179\n",
              "              w                           133\n",
              "3             w                            89\n",
              "              r                            62\n",
              "              a                            60\n",
              "1             a                            59\n",
              "2             r                            49\n",
              "1             w                            12\n",
              "              r                             6\n",
              "Name: legal_ownership_status, dtype: int64"
            ]
          },
          "metadata": {},
          "execution_count": 108
        }
      ],
      "source": [
        "# get the number of buildings with damage leve 1,2,3 according to legal ownership\n",
        "agri_use.groupby('damage_grade').legal_ownership_status.value_counts().sort_values(ascending=False)\n",
        "\n",
        "\n",
        "#builidng use type (Agriculture)"
      ]
    },
    {
      "cell_type": "code",
      "execution_count": null,
      "metadata": {
        "colab": {
          "base_uri": "https://localhost:8080/"
        },
        "id": "kYfYOWFqv3I0",
        "outputId": "09245f8f-d642-43f6-a431-752434664540"
      },
      "outputs": [
        {
          "output_type": "execute_result",
          "data": {
            "text/plain": [
              "<matplotlib.axes._subplots.AxesSubplot at 0x7f8ae695bdd0>"
            ]
          },
          "metadata": {},
          "execution_count": 109
        },
        {
          "output_type": "display_data",
          "data": {
            "image/png": "[encoded data removed]",
            "text/plain": [
              "<Figure size 576x432 with 1 Axes>"
            ]
          },
          "metadata": {
            "needs_background": "light"
          }
        }
      ],
      "source": [
        "#Representing the agriculture use using bar plot\n",
        "agri_use.groupby('damage_grade').legal_ownership_status.value_counts().unstack().plot.bar(figsize=(8,6))"
      ]
    },
    {
      "cell_type": "code",
      "execution_count": null,
      "metadata": {
        "colab": {
          "base_uri": "https://localhost:8080/"
        },
        "id": "PGwvR8KLVdvT",
        "outputId": "c418b08f-c27b-46e3-fc50-ead94f8f8329"
      },
      "outputs": [
        {
          "output_type": "execute_result",
          "data": {
            "text/plain": [
              "damage_grade  legal_ownership_status\n",
              "2             v                         4674\n",
              "1             v                         2075\n",
              "3             v                         1328\n",
              "2             a                          247\n",
              "3             a                          101\n",
              "1             a                           96\n",
              "2             w                           87\n",
              "              r                           50\n",
              "3             w                           44\n",
              "1             w                           31\n",
              "3             r                           16\n",
              "1             r                           14\n",
              "Name: legal_ownership_status, dtype: int64"
            ]
          },
          "metadata": {},
          "execution_count": 110
        }
      ],
      "source": [
        "# get the number of buildings with damage leve 1,2,3 according to legal ownership\n",
        "hotel_use.groupby('damage_grade').legal_ownership_status.value_counts().sort_values(ascending=False)\n",
        "\n",
        "\n",
        "#builidng use type (Hotel)"
      ]
    },
    {
      "cell_type": "code",
      "execution_count": null,
      "metadata": {
        "colab": {
          "base_uri": "https://localhost:8080/"
        },
        "id": "EqjHzcjzwRkL",
        "outputId": "59c6a5b2-fe88-45bf-92b5-2447444be3a9"
      },
      "outputs": [
        {
          "output_type": "execute_result",
          "data": {
            "text/plain": [
              "<matplotlib.axes._subplots.AxesSubplot at 0x7f8ae6873510>"
            ]
          },
          "metadata": {},
          "execution_count": 111
        },
        {
          "output_type": "display_data",
          "data": {
            "image/png": "[encoded data removed]",
            "text/plain": [
              "<Figure size 576x432 with 1 Axes>"
            ]
          },
          "metadata": {
            "needs_background": "light"
          }
        }
      ],
      "source": [
        "#Representing the hotel use using bar plot\n",
        "hotel_use.groupby('damage_grade').legal_ownership_status.value_counts().unstack().plot.bar(figsize=(8,6))"
      ]
    },
    {
      "cell_type": "code",
      "execution_count": null,
      "metadata": {
        "colab": {
          "base_uri": "https://localhost:8080/"
        },
        "id": "tsZeQDrhVd3p",
        "outputId": "90771325-8bbd-470d-9cf4-33c20be2f80a"
      },
      "outputs": [
        {
          "output_type": "execute_result",
          "data": {
            "text/plain": [
              "damage_grade  legal_ownership_status\n",
              "2             v                         1015\n",
              "1             v                          848\n",
              "3             v                          166\n",
              "2             a                           24\n",
              "1             a                           23\n",
              "2             w                           10\n",
              "3             w                            9\n",
              "              a                            8\n",
              "1             w                            5\n",
              "2             r                            2\n",
              "1             r                            1\n",
              "Name: legal_ownership_status, dtype: int64"
            ]
          },
          "metadata": {},
          "execution_count": 112
        }
      ],
      "source": [
        "# get the number of buildings with damage leve 1,2,3 according to legal ownership\n",
        "rental_use.groupby('damage_grade').legal_ownership_status.value_counts().sort_values(ascending=False)\n",
        "\n",
        "\n",
        "#builidng use type (rental)"
      ]
    },
    {
      "cell_type": "code",
      "execution_count": null,
      "metadata": {
        "colab": {
          "base_uri": "https://localhost:8080/"
        },
        "id": "hnPM0si9wonX",
        "outputId": "4d98ed37-7967-4887-d052-18888546cf05"
      },
      "outputs": [
        {
          "output_type": "execute_result",
          "data": {
            "text/plain": [
              "<matplotlib.axes._subplots.AxesSubplot at 0x7f8ae6802d10>"
            ]
          },
          "metadata": {},
          "execution_count": 113
        },
        {
          "output_type": "display_data",
          "data": {
            "image/png": "[encoded data removed]",
            "text/plain": [
              "<Figure size 576x432 with 1 Axes>"
            ]
          },
          "metadata": {
            "needs_background": "light"
          }
        }
      ],
      "source": [
        "#Representing the rental use using bar plot\n",
        "rental_use.groupby('damage_grade').legal_ownership_status.value_counts().unstack().plot.bar(figsize=(8,6))"
      ]
    },
    {
      "cell_type": "code",
      "execution_count": null,
      "metadata": {
        "colab": {
          "base_uri": "https://localhost:8080/"
        },
        "id": "2VS15J4vVeE3",
        "outputId": "5127de60-9d96-41dd-b449-138e46152efa"
      },
      "outputs": [
        {
          "output_type": "execute_result",
          "data": {
            "text/plain": [
              "damage_grade  legal_ownership_status\n",
              "2             v                         126\n",
              "1             v                          97\n",
              "3             v                          17\n",
              "2             w                           2\n",
              "1             a                           2\n",
              "2             r                           1\n",
              "Name: legal_ownership_status, dtype: int64"
            ]
          },
          "metadata": {},
          "execution_count": 114
        }
      ],
      "source": [
        "# get the number of buildings with damage leve 1,2,3 according to legal ownership\n",
        "institution_use.groupby('damage_grade').legal_ownership_status.value_counts().sort_values(ascending=False)\n",
        "\n",
        "\n",
        "#builidng use type (institution)"
      ]
    },
    {
      "cell_type": "code",
      "execution_count": null,
      "metadata": {
        "colab": {
          "base_uri": "https://localhost:8080/"
        },
        "id": "bxbT2SKCw7ao",
        "outputId": "509df9ec-d68b-48a1-8d89-2ae66bfb4e6f"
      },
      "outputs": [
        {
          "output_type": "execute_result",
          "data": {
            "text/plain": [
              "<matplotlib.axes._subplots.AxesSubplot at 0x7f8ae68cba10>"
            ]
          },
          "metadata": {},
          "execution_count": 115
        },
        {
          "output_type": "display_data",
          "data": {
            "image/png": "[encoded data removed]",
            "text/plain": [
              "<Figure size 576x432 with 1 Axes>"
            ]
          },
          "metadata": {
            "needs_background": "light"
          }
        }
      ],
      "source": [
        "#Representing the institution use using bar plot\n",
        "institution_use.groupby('damage_grade').legal_ownership_status.value_counts().unstack().plot.bar(figsize=(8,6))"
      ]
    },
    {
      "cell_type": "code",
      "execution_count": null,
      "metadata": {
        "colab": {
          "base_uri": "https://localhost:8080/"
        },
        "id": "yEdu2Fg8VeKu",
        "outputId": "ee2bf231-97fa-49f6-d4b7-06bd3fd7fef4"
      },
      "outputs": [
        {
          "output_type": "execute_result",
          "data": {
            "text/plain": [
              "damage_grade  legal_ownership_status\n",
              "2             v                         45\n",
              "1             v                         28\n",
              "3             v                         16\n",
              "2             w                          2\n",
              "1             w                          2\n",
              "3             w                          1\n",
              "Name: legal_ownership_status, dtype: int64"
            ]
          },
          "metadata": {},
          "execution_count": 116
        }
      ],
      "source": [
        "# get the number of buildings with damage leve 1,2,3 according to legal ownership\n",
        "#school_use.groupby('damage_grade').legal_ownership_status.size().sort_values(ascending=False)\n",
        "school_use.groupby('damage_grade').legal_ownership_status.value_counts().sort_values(ascending=False)\n",
        "\n",
        "#builidng use type (school)"
      ]
    },
    {
      "cell_type": "code",
      "execution_count": null,
      "metadata": {
        "colab": {
          "base_uri": "https://localhost:8080/"
        },
        "id": "_rHTV5AUxXsI",
        "outputId": "36c50215-8254-4f5f-fcfe-14044b4fe6ef"
      },
      "outputs": [
        {
          "output_type": "execute_result",
          "data": {
            "text/plain": [
              "<matplotlib.axes._subplots.AxesSubplot at 0x7f8ae6d76c10>"
            ]
          },
          "metadata": {},
          "execution_count": 117
        },
        {
          "output_type": "display_data",
          "data": {
            "image/png": "[encoded data removed]",
            "text/plain": [
              "<Figure size 576x432 with 1 Axes>"
            ]
          },
          "metadata": {
            "needs_background": "light"
          }
        }
      ],
      "source": [
        "#Representing the school use using bar plot\n",
        "school_use.groupby('damage_grade').legal_ownership_status.value_counts().unstack().plot.bar(figsize=(8,6))"
      ]
    },
    {
      "cell_type": "code",
      "execution_count": null,
      "metadata": {
        "colab": {
          "base_uri": "https://localhost:8080/"
        },
        "id": "NA4dkqhiVeQ9",
        "outputId": "217a2ac7-f80b-46c7-bced-e23bf6a5e525"
      },
      "outputs": [
        {
          "output_type": "execute_result",
          "data": {
            "text/plain": [
              "damage_grade  legal_ownership_status\n",
              "2             v                         144\n",
              "3             v                          65\n",
              "1             v                          57\n",
              "2             a                           6\n",
              "3             a                           3\n",
              "2             r                           2\n",
              "1             a                           2\n",
              "Name: legal_ownership_status, dtype: int64"
            ]
          },
          "metadata": {},
          "execution_count": 118
        }
      ],
      "source": [
        "# get the number of buildings with damage leve 1,2,3 according to legal ownership\n",
        "industry_use.groupby('damage_grade').legal_ownership_status.value_counts().sort_values(ascending=False)\n",
        "\n",
        "\n",
        "#builidng use type (industry)"
      ]
    },
    {
      "cell_type": "code",
      "execution_count": null,
      "metadata": {
        "colab": {
          "base_uri": "https://localhost:8080/"
        },
        "id": "iS2R0vOaxlhR",
        "outputId": "3df96c1a-1423-466c-9fff-8d110a2d76b1"
      },
      "outputs": [
        {
          "output_type": "execute_result",
          "data": {
            "text/plain": [
              "<matplotlib.axes._subplots.AxesSubplot at 0x7f8ae69095d0>"
            ]
          },
          "metadata": {},
          "execution_count": 119
        },
        {
          "output_type": "display_data",
          "data": {
            "image/png": "[encoded data removed]",
            "text/plain": [
              "<Figure size 576x432 with 1 Axes>"
            ]
          },
          "metadata": {
            "needs_background": "light"
          }
        }
      ],
      "source": [
        "#Representing the industry use using bar plot\n",
        "industry_use.groupby('damage_grade').legal_ownership_status.value_counts().unstack().plot.bar(figsize=(8,6))"
      ]
    },
    {
      "cell_type": "code",
      "execution_count": null,
      "metadata": {
        "colab": {
          "base_uri": "https://localhost:8080/"
        },
        "id": "ql9SnGcMVeXH",
        "outputId": "4766d5a9-67aa-40e1-ba53-b8a56a15dc8e"
      },
      "outputs": [
        {
          "output_type": "execute_result",
          "data": {
            "text/plain": [
              "damage_grade  legal_ownership_status\n",
              "2             v                         30\n",
              "1             v                         12\n",
              "3             v                          5\n",
              "2             a                          2\n",
              "Name: legal_ownership_status, dtype: int64"
            ]
          },
          "metadata": {},
          "execution_count": 120
        }
      ],
      "source": [
        "# get the number of buildings with damage leve 1,2,3 according to legal ownership\n",
        "healthpost1=healthpost_use.groupby('damage_grade').legal_ownership_status.value_counts().sort_values(ascending=False)\n",
        "healthpost1\n",
        "\n",
        "#builidng use type (Health post)"
      ]
    },
    {
      "cell_type": "code",
      "execution_count": null,
      "metadata": {
        "colab": {
          "base_uri": "https://localhost:8080/"
        },
        "id": "K5W8NWzWxzuZ",
        "outputId": "9e2332b9-cd3f-4ad7-9c69-cda0456bcacd"
      },
      "outputs": [
        {
          "output_type": "execute_result",
          "data": {
            "text/plain": [
              "<matplotlib.axes._subplots.AxesSubplot at 0x7f8ae6612f50>"
            ]
          },
          "metadata": {},
          "execution_count": 121
        },
        {
          "output_type": "display_data",
          "data": {
            "image/png": "[encoded data removed]",
            "text/plain": [
              "<Figure size 576x432 with 1 Axes>"
            ]
          },
          "metadata": {
            "needs_background": "light"
          }
        }
      ],
      "source": [
        "#Representing the Health post use using bar plot\n",
        "healthpost_use.groupby('damage_grade').legal_ownership_status.value_counts().unstack().plot.bar(figsize=(8,6))"
      ]
    },
    {
      "cell_type": "code",
      "execution_count": null,
      "metadata": {
        "colab": {
          "base_uri": "https://localhost:8080/"
        },
        "id": "pTEurmhTVecQ",
        "outputId": "2b313955-cbf1-4d33-d46f-0eda986d564e"
      },
      "outputs": [
        {
          "output_type": "execute_result",
          "data": {
            "text/plain": [
              "damage_grade  legal_ownership_status\n",
              "2             v                         20\n",
              "1             v                         13\n",
              "3             v                          4\n",
              "2             a                          1\n",
              "Name: legal_ownership_status, dtype: int64"
            ]
          },
          "metadata": {},
          "execution_count": 122
        }
      ],
      "source": [
        "# get the number of buildings with damage leve 1,2,3 according to legal ownership\n",
        "govoffice1=govoffice_use.groupby('damage_grade').legal_ownership_status.value_counts().sort_values(ascending=False)\n",
        "govoffice1\n",
        "\n",
        "#builidng use type (government office_use)"
      ]
    },
    {
      "cell_type": "code",
      "execution_count": null,
      "metadata": {
        "colab": {
          "base_uri": "https://localhost:8080/"
        },
        "id": "kFEz14LZyG2c",
        "outputId": "d317fe33-008a-4402-9907-b61adc3dac1e"
      },
      "outputs": [
        {
          "output_type": "execute_result",
          "data": {
            "text/plain": [
              "<matplotlib.axes._subplots.AxesSubplot at 0x7f8ae658d550>"
            ]
          },
          "metadata": {},
          "execution_count": 123
        },
        {
          "output_type": "display_data",
          "data": {
            "image/png": "[encoded data removed]",
            "text/plain": [
              "<Figure size 576x432 with 1 Axes>"
            ]
          },
          "metadata": {
            "needs_background": "light"
          }
        }
      ],
      "source": [
        "#Representing the government office use using bar plot\n",
        "govoffice_use.groupby('damage_grade').legal_ownership_status.value_counts().unstack().plot.bar(figsize=(8,6))"
      ]
    },
    {
      "cell_type": "code",
      "execution_count": null,
      "metadata": {
        "colab": {
          "base_uri": "https://localhost:8080/"
        },
        "id": "qkorXHEmVeiK",
        "outputId": "2b13d5b1-58f0-456a-b387-2f88dd9cf41f"
      },
      "outputs": [
        {
          "output_type": "execute_result",
          "data": {
            "text/plain": [
              "damage_grade  legal_ownership_status\n",
              "2             v                         12\n",
              "3             v                          7\n",
              "1             v                          4\n",
              "Name: legal_ownership_status, dtype: int64"
            ]
          },
          "metadata": {},
          "execution_count": 124
        }
      ],
      "source": [
        "# get the number of buildings with damage leve 1,2,3 according to legal ownership\n",
        "police1=police_use.groupby('damage_grade').legal_ownership_status.value_counts().sort_values(ascending=False)\n",
        "police1\n",
        "\n",
        "#builidng use type (Police)"
      ]
    },
    {
      "cell_type": "code",
      "execution_count": null,
      "metadata": {
        "colab": {
          "base_uri": "https://localhost:8080/"
        },
        "id": "kktvRSQyykjN",
        "outputId": "2f72c5ab-4c5c-4732-d978-be3a4884bd82"
      },
      "outputs": [
        {
          "output_type": "execute_result",
          "data": {
            "text/plain": [
              "<matplotlib.axes._subplots.AxesSubplot at 0x7f8ae6519d10>"
            ]
          },
          "metadata": {},
          "execution_count": 125
        },
        {
          "output_type": "display_data",
          "data": {
            "image/png": "[encoded data removed]",
            "text/plain": [
              "<Figure size 576x432 with 1 Axes>"
            ]
          },
          "metadata": {
            "needs_background": "light"
          }
        }
      ],
      "source": [
        "#Representing the police use using bar plot\n",
        "police_use.groupby('damage_grade').legal_ownership_status.value_counts().unstack().plot.bar(figsize=(8,6))"
      ]
    },
    {
      "cell_type": "code",
      "execution_count": null,
      "metadata": {
        "colab": {
          "base_uri": "https://localhost:8080/"
        },
        "id": "x1xS7VDRVenj",
        "outputId": "e81e16c6-64b2-4928-8e42-12a909957f45"
      },
      "outputs": [
        {
          "output_type": "execute_result",
          "data": {
            "text/plain": [
              "damage_grade\n",
              "2    852\n",
              "3    307\n",
              "1    175\n",
              "Name: legal_ownership_status, dtype: int64"
            ]
          },
          "metadata": {},
          "execution_count": 126
        }
      ],
      "source": [
        "# get the number of buildings with damage leve 1,2,3 according to legal ownership\n",
        "other_use.groupby('damage_grade').legal_ownership_status.size().sort_values(ascending=False)\n",
        "\n",
        "\n",
        "#builidng use type (Other)"
      ]
    },
    {
      "cell_type": "code",
      "execution_count": null,
      "metadata": {
        "colab": {
          "base_uri": "https://localhost:8080/"
        },
        "id": "GFZtAeS2VewK",
        "outputId": "a1fbb2fa-ebc1-4414-891f-b0db7ba9ff23"
      },
      "outputs": [
        {
          "output_type": "execute_result",
          "data": {
            "text/plain": [
              "<matplotlib.axes._subplots.AxesSubplot at 0x7f8ae655bd10>"
            ]
          },
          "metadata": {},
          "execution_count": 127
        },
        {
          "output_type": "display_data",
          "data": {
            "image/png": "[encoded data removed]",
            "text/plain": [
              "<Figure size 576x432 with 1 Axes>"
            ]
          },
          "metadata": {
            "needs_background": "light"
          }
        }
      ],
      "source": [
        "#Representing the other use using bar plot\n",
        "other_use.groupby('damage_grade').legal_ownership_status.value_counts().unstack().plot.bar(figsize=(8,6))"
      ]
    },
    {
      "cell_type": "markdown",
      "metadata": {
        "id": "yCrVU9KzCwcM"
      },
      "source": [
        "#7.3. FURTHER ANLAYSIS\n",
        "\n",
        "after analysing the dataset above, we found 3 building use types had the least damaged building. They are Police, Government office and Health post.\n",
        "legal status\n",
        "\n",
        "\n",
        "1.   **police_use**\n",
        "\n",
        "damage grade 2;\n",
        "              legal_status (v)= 12\n",
        "\n",
        "damage grade 3;\n",
        "              legal_status (v)=7\n",
        "\n",
        "damage grade 1;\n",
        "              legal_status (v)=4\n",
        "\n",
        "\n",
        "2.   **Government office use**\n",
        "\n",
        "damage grade 2;\n",
        "              legal_status (v)= 20\n",
        "              legal_status (a) = 1\n",
        "\n",
        "damage grade 1;\n",
        "              legal_status (v)= 13\n",
        "\n",
        "damage grade 3;\n",
        "              legal_status (v)= 4\n",
        "\n",
        "3.   **Health post**\n",
        "\n",
        "damage grade 2;\n",
        "              legal_status (v)= 30\n",
        "              legal_status (a) = 2\n",
        "\n",
        "damage grade 1;\n",
        "              legal_status (v)= 12\n",
        "\n",
        "damage grade 3;\n",
        "              legal_status (v)= 5\n",
        "\n",
        "\n"
      ]
    },
    {
      "cell_type": "code",
      "execution_count": null,
      "metadata": {
        "colab": {
          "base_uri": "https://localhost:8080/"
        },
        "id": "X2T9EeSoJbND",
        "outputId": "27434200-99f1-4e0d-ef34-d8e042220453"
      },
      "outputs": [
        {
          "output_type": "execute_result",
          "data": {
            "text/html": [
              "<div>\n",
              "<style scoped>\n",
              "    .dataframe tbody tr th:only-of-type {\n",
              "        vertical-align: middle;\n",
              "    }\n",
              "\n",
              "    .dataframe tbody tr th {\n",
              "        vertical-align: top;\n",
              "    }\n",
              "\n",
              "    .dataframe thead th {\n",
              "        text-align: right;\n",
              "    }\n",
              "</style>\n",
              "<table border=\"1\" class=\"dataframe\">\n",
              "  <thead>\n",
              "    <tr style=\"text-align: right;\">\n",
              "      <th></th>\n",
              "      <th>building_id</th>\n",
              "      <th>legal_ownership_status</th>\n",
              "      <th>damage_grade</th>\n",
              "    </tr>\n",
              "  </thead>\n",
              "  <tbody>\n",
              "    <tr>\n",
              "      <th>0</th>\n",
              "      <td>364248</td>\n",
              "      <td>v</td>\n",
              "      <td>2</td>\n",
              "    </tr>\n",
              "    <tr>\n",
              "      <th>1</th>\n",
              "      <td>510269</td>\n",
              "      <td>v</td>\n",
              "      <td>1</td>\n",
              "    </tr>\n",
              "    <tr>\n",
              "      <th>2</th>\n",
              "      <td>669903</td>\n",
              "      <td>v</td>\n",
              "      <td>2</td>\n",
              "    </tr>\n",
              "    <tr>\n",
              "      <th>3</th>\n",
              "      <td>38961</td>\n",
              "      <td>v</td>\n",
              "      <td>1</td>\n",
              "    </tr>\n",
              "    <tr>\n",
              "      <th>4</th>\n",
              "      <td>104394</td>\n",
              "      <td>v</td>\n",
              "      <td>1</td>\n",
              "    </tr>\n",
              "    <tr>\n",
              "      <th>...</th>\n",
              "      <td>...</td>\n",
              "      <td>...</td>\n",
              "      <td>...</td>\n",
              "    </tr>\n",
              "    <tr>\n",
              "      <th>105</th>\n",
              "      <td>303227</td>\n",
              "      <td>v</td>\n",
              "      <td>1</td>\n",
              "    </tr>\n",
              "    <tr>\n",
              "      <th>106</th>\n",
              "      <td>903195</td>\n",
              "      <td>v</td>\n",
              "      <td>2</td>\n",
              "    </tr>\n",
              "    <tr>\n",
              "      <th>107</th>\n",
              "      <td>661292</td>\n",
              "      <td>v</td>\n",
              "      <td>2</td>\n",
              "    </tr>\n",
              "    <tr>\n",
              "      <th>108</th>\n",
              "      <td>107539</td>\n",
              "      <td>v</td>\n",
              "      <td>2</td>\n",
              "    </tr>\n",
              "    <tr>\n",
              "      <th>109</th>\n",
              "      <td>1026428</td>\n",
              "      <td>v</td>\n",
              "      <td>2</td>\n",
              "    </tr>\n",
              "  </tbody>\n",
              "</table>\n",
              "<p>110 rows × 3 columns</p>\n",
              "</div>"
            ],
            "text/plain": [
              "     building_id legal_ownership_status  damage_grade\n",
              "0         364248                      v             2\n",
              "1         510269                      v             1\n",
              "2         669903                      v             2\n",
              "3          38961                      v             1\n",
              "4         104394                      v             1\n",
              "..           ...                    ...           ...\n",
              "105       303227                      v             1\n",
              "106       903195                      v             2\n",
              "107       661292                      v             2\n",
              "108       107539                      v             2\n",
              "109      1026428                      v             2\n",
              "\n",
              "[110 rows x 3 columns]"
            ]
          },
          "metadata": {},
          "execution_count": 128
        }
      ],
      "source": [
        "#Representing the concatenation of 3 data set containing (police_use, healthpost_use and govoffice_use)\n",
        "merged1=pd.concat([healthpost_use,police_use]).drop_duplicates().reset_index(drop=True)  # concatenate healthpost_use and Police_use in merged1\n",
        "merged2=pd.concat([merged1,govoffice_use]).drop_duplicates().reset_index(drop=True)   #concatenate merged1 and govoffice_use in merged 2\n",
        "merged2\n"
      ]
    },
    {
      "cell_type": "code",
      "execution_count": null,
      "metadata": {
        "colab": {
          "base_uri": "https://localhost:8080/"
        },
        "id": "QcA7Wd5EpBWz",
        "outputId": "8c286b9d-14cc-4d3a-ccae-f8824fe65aa9"
      },
      "outputs": [
        {
          "output_type": "execute_result",
          "data": {
            "text/plain": [
              "<matplotlib.axes._subplots.AxesSubplot at 0x7f8ae647ab10>"
            ]
          },
          "metadata": {},
          "execution_count": 129
        },
        {
          "output_type": "display_data",
          "data": {
            "image/png": "[encoded data removed]",
            "text/plain": [
              "<Figure size 576x432 with 1 Axes>"
            ]
          },
          "metadata": {
            "needs_background": "light"
          }
        }
      ],
      "source": [
        "#plot the graph for merged 2 data set to find the legal status count\n",
        "merged2.groupby('damage_grade').legal_ownership_status.value_counts().unstack().plot.bar(figsize=(8,6))"
      ]
    },
    {
      "cell_type": "markdown",
      "metadata": {
        "id": "HDJOfjsY8idv"
      },
      "source": [
        "#7.3. RESULT\n",
        "\n",
        "After analysing the data set above,some observatory conclusions were drawn;\n",
        "\n",
        "Is the damage level influenced by the legal owners and the building’s secondary use?\n",
        "\n",
        "The buildings used as police station, Government office and Health post had relatively low number of buildings damaged after the earth quake.\n",
        "\n",
        "By further analysisng the buildings used as police statsion, health post and government office we made noted two observation points.\n",
        "\n",
        "\n",
        "\n",
        "\n",
        "\n",
        "\n",
        "  **CONCLUSION**\n",
        "\n",
        "\n",
        "\n",
        "\n",
        "\n",
        "\n",
        "using general knowledge information available, the three building use types (government, police and health post) are owned by the government which would suggest that the are well managed and maintained compared to other buildings.\n",
        "Also, the level of security in these buildings are high which would mean that there is a limit it number of people in these buildings.\n",
        "\n",
        "using the infromation from the data set, legal ownership status V enquired more damage than legal ownership status A. this would mean that Lega ownership status A (in government office and health post) is maintained and managed well, and built with strong materials compared to the latter."
      ]
    },
    {
      "cell_type": "markdown",
      "metadata": {
        "id": "wu4B7uFh2OVf"
      },
      "source": [
        "# QUESTION 4\n",
        "\n",
        "\n",
        "What are the foundation types of the prominent structural types based on the damage classification and how is it related to the position and plan configuration of the building.\n",
        "\n",
        "\n",
        "**APPROACH**\n",
        "\n",
        "we will take the following approach to solving the above research question.\n",
        "Using question 3 as the reference point, the structural types have been analysed and an outcome on the mmost prominent (least damaged building) is given as Engineered with reinforced concrete (RC engineered).\n",
        " \n",
        " **step 1**\n",
        "\n",
        " get the plan configurations of RC engineered building.\n",
        "\n",
        " **step 2**\n",
        "\n",
        " get the position of the RC engineered building\n",
        "\n",
        "**step 3**\n",
        "\n",
        "get the foundation types of the RC engineered building.\n",
        "\n",
        "\n",
        "After applying these approaches, we can have a detailed information about the building with the least damage after the earth quake"
      ]
    },
    {
      "cell_type": "code",
      "execution_count": null,
      "metadata": {
        "colab": {
          "base_uri": "https://localhost:8080/"
        },
        "id": "jMLlp_a_2pZv",
        "outputId": "06bdf135-3731-4460-bc2b-8a06c2dbfdee"
      },
      "outputs": [
        {
          "output_type": "execute_result",
          "data": {
            "text/plain": [
              "Index(['building_id', 'geo_level_1_id', 'geo_level_2_id', 'geo_level_3_id',\n",
              "       'count_floors_pre_eq', 'age', 'area_percentage', 'height_percentage',\n",
              "       'land_surface_condition', 'foundation_type', 'roof_type',\n",
              "       'ground_floor_type', 'other_floor_type', 'position',\n",
              "       'plan_configuration', 'has_superstructure_adobe_mud',\n",
              "       'has_superstructure_mud_mortar_stone', 'has_superstructure_stone_flag',\n",
              "       'has_superstructure_cement_mortar_stone',\n",
              "       'has_superstructure_mud_mortar_brick',\n",
              "       'has_superstructure_cement_mortar_brick', 'has_superstructure_timber',\n",
              "       'has_superstructure_bamboo', 'has_superstructure_rc_non_engineered',\n",
              "       'has_superstructure_rc_engineered', 'has_superstructure_other',\n",
              "       'legal_ownership_status', 'count_families', 'has_secondary_use',\n",
              "       'has_secondary_use_agriculture', 'has_secondary_use_hotel',\n",
              "       'has_secondary_use_rental', 'has_secondary_use_institution',\n",
              "       'has_secondary_use_school', 'has_secondary_use_industry',\n",
              "       'has_secondary_use_health_post', 'has_secondary_use_gov_office',\n",
              "       'has_secondary_use_use_police', 'has_secondary_use_other',\n",
              "       'damage_grade'],\n",
              "      dtype='object')"
            ]
          },
          "metadata": {},
          "execution_count": 130
        }
      ],
      "source": [
        "#get the merged column from the initila dataset read and combined.\n",
        "Merge_data.columns"
      ]
    },
    {
      "cell_type": "code",
      "execution_count": null,
      "metadata": {
        "colab": {
          "base_uri": "https://localhost:8080/"
        },
        "id": "wFD6G3km219e",
        "outputId": "f4924a83-56fc-4f78-da6a-465d78f5f246"
      },
      "outputs": [
        {
          "output_type": "execute_result",
          "data": {
            "text/plain": [
              "Index(['building_id', 'has_superstructure_adobe_mud',\n",
              "       'has_superstructure_mud_mortar_stone', 'has_superstructure_stone_flag',\n",
              "       'has_superstructure_cement_mortar_stone',\n",
              "       'has_superstructure_mud_mortar_brick', 'foundation_type',\n",
              "       'plan_configuration', 'position',\n",
              "       'has_superstructure_cement_mortar_brick', 'has_superstructure_timber',\n",
              "       'has_superstructure_bamboo', 'has_superstructure_rc_non_engineered',\n",
              "       'has_superstructure_rc_engineered', 'has_superstructure_other',\n",
              "       'damage_grade'],\n",
              "      dtype='object')"
            ]
          },
          "metadata": {},
          "execution_count": 131
        }
      ],
      "source": [
        "#select the columns to be analysed in this section and store in a new dataframe called new_dataset\n",
        "new_dataset = Merge_data[['building_id','has_superstructure_adobe_mud',\n",
        "       'has_superstructure_mud_mortar_stone', 'has_superstructure_stone_flag',\n",
        "       'has_superstructure_cement_mortar_stone',\n",
        "       'has_superstructure_mud_mortar_brick','foundation_type','plan_configuration', 'position',\n",
        "       'has_superstructure_cement_mortar_brick', 'has_superstructure_timber',\n",
        "       'has_superstructure_bamboo', 'has_superstructure_rc_non_engineered',\n",
        "       'has_superstructure_rc_engineered', 'has_superstructure_other',\n",
        "       'damage_grade']]\n",
        "new_dataset.columns"
      ]
    },
    {
      "cell_type": "markdown",
      "metadata": {
        "id": "zco4Fj8F_CNx"
      },
      "source": [
        "#4.1. EXPLANATORY DATA ANALYSIS\n",
        "\n",
        "Here, the analysis on the steps to achieve the aim of finding the buildings with least damage with the structural type used, plan configuration,position and foundation types."
      ]
    },
    {
      "cell_type": "code",
      "execution_count": null,
      "metadata": {
        "colab": {
          "base_uri": "https://localhost:8080/"
        },
        "id": "Az6PlfVYAJZ-",
        "outputId": "da95440c-c3e3-4ff3-c0ad-fad1e86f6970"
      },
      "outputs": [
        {
          "output_type": "execute_result",
          "data": {
            "text/html": [
              "<div>\n",
              "<style scoped>\n",
              "    .dataframe tbody tr th:only-of-type {\n",
              "        vertical-align: middle;\n",
              "    }\n",
              "\n",
              "    .dataframe tbody tr th {\n",
              "        vertical-align: top;\n",
              "    }\n",
              "\n",
              "    .dataframe thead th {\n",
              "        text-align: right;\n",
              "    }\n",
              "</style>\n",
              "<table border=\"1\" class=\"dataframe\">\n",
              "  <thead>\n",
              "    <tr style=\"text-align: right;\">\n",
              "      <th></th>\n",
              "      <th>building_id</th>\n",
              "      <th>has_superstructure_rc_engineered</th>\n",
              "      <th>damage_grade</th>\n",
              "      <th>plan_configuration</th>\n",
              "      <th>position</th>\n",
              "      <th>foundation_type</th>\n",
              "    </tr>\n",
              "  </thead>\n",
              "  <tbody>\n",
              "    <tr>\n",
              "      <th>53</th>\n",
              "      <td>288541</td>\n",
              "      <td>True</td>\n",
              "      <td>1</td>\n",
              "      <td>d</td>\n",
              "      <td>t</td>\n",
              "      <td>i</td>\n",
              "    </tr>\n",
              "    <tr>\n",
              "      <th>71</th>\n",
              "      <td>708530</td>\n",
              "      <td>True</td>\n",
              "      <td>2</td>\n",
              "      <td>d</td>\n",
              "      <td>s</td>\n",
              "      <td>i</td>\n",
              "    </tr>\n",
              "    <tr>\n",
              "      <th>108</th>\n",
              "      <td>635262</td>\n",
              "      <td>True</td>\n",
              "      <td>1</td>\n",
              "      <td>d</td>\n",
              "      <td>s</td>\n",
              "      <td>r</td>\n",
              "    </tr>\n",
              "    <tr>\n",
              "      <th>248</th>\n",
              "      <td>920565</td>\n",
              "      <td>True</td>\n",
              "      <td>1</td>\n",
              "      <td>d</td>\n",
              "      <td>s</td>\n",
              "      <td>i</td>\n",
              "    </tr>\n",
              "    <tr>\n",
              "      <th>311</th>\n",
              "      <td>799072</td>\n",
              "      <td>True</td>\n",
              "      <td>1</td>\n",
              "      <td>d</td>\n",
              "      <td>t</td>\n",
              "      <td>i</td>\n",
              "    </tr>\n",
              "    <tr>\n",
              "      <th>...</th>\n",
              "      <td>...</td>\n",
              "      <td>...</td>\n",
              "      <td>...</td>\n",
              "      <td>...</td>\n",
              "      <td>...</td>\n",
              "      <td>...</td>\n",
              "    </tr>\n",
              "    <tr>\n",
              "      <th>260213</th>\n",
              "      <td>539650</td>\n",
              "      <td>True</td>\n",
              "      <td>1</td>\n",
              "      <td>d</td>\n",
              "      <td>s</td>\n",
              "      <td>i</td>\n",
              "    </tr>\n",
              "    <tr>\n",
              "      <th>260271</th>\n",
              "      <td>161297</td>\n",
              "      <td>True</td>\n",
              "      <td>1</td>\n",
              "      <td>d</td>\n",
              "      <td>t</td>\n",
              "      <td>i</td>\n",
              "    </tr>\n",
              "    <tr>\n",
              "      <th>260458</th>\n",
              "      <td>177964</td>\n",
              "      <td>True</td>\n",
              "      <td>1</td>\n",
              "      <td>d</td>\n",
              "      <td>s</td>\n",
              "      <td>i</td>\n",
              "    </tr>\n",
              "    <tr>\n",
              "      <th>260530</th>\n",
              "      <td>344478</td>\n",
              "      <td>True</td>\n",
              "      <td>1</td>\n",
              "      <td>d</td>\n",
              "      <td>s</td>\n",
              "      <td>i</td>\n",
              "    </tr>\n",
              "    <tr>\n",
              "      <th>260532</th>\n",
              "      <td>155803</td>\n",
              "      <td>True</td>\n",
              "      <td>2</td>\n",
              "      <td>d</td>\n",
              "      <td>j</td>\n",
              "      <td>u</td>\n",
              "    </tr>\n",
              "  </tbody>\n",
              "</table>\n",
              "<p>4133 rows × 6 columns</p>\n",
              "</div>"
            ],
            "text/plain": [
              "        building_id  has_superstructure_rc_engineered  ...  position foundation_type\n",
              "53           288541                              True  ...         t               i\n",
              "71           708530                              True  ...         s               i\n",
              "108          635262                              True  ...         s               r\n",
              "248          920565                              True  ...         s               i\n",
              "311          799072                              True  ...         t               i\n",
              "...             ...                               ...  ...       ...             ...\n",
              "260213       539650                              True  ...         s               i\n",
              "260271       161297                              True  ...         t               i\n",
              "260458       177964                              True  ...         s               i\n",
              "260530       344478                              True  ...         s               i\n",
              "260532       155803                              True  ...         j               u\n",
              "\n",
              "[4133 rows x 6 columns]"
            ]
          },
          "metadata": {},
          "execution_count": 132
        }
      ],
      "source": [
        "# the structural type RC_engineered is analysed where its value is true, the corresponding building ID, plan configuration, position and foundation types are given\n",
        "\n",
        "data_analysed = new_dataset.loc[new_dataset.has_superstructure_rc_engineered==True, ['building_id','has_superstructure_rc_engineered','damage_grade','plan_configuration', 'position','foundation_type']]\n",
        "data_analysed"
      ]
    },
    {
      "cell_type": "code",
      "source": [
        "#using loc to loc on to damaged_grade 2 in the data_analysed datafram to find all plan configurations, position and foundation type at damage grade 2\n",
        "abc = data_analysed.loc[new_dataset.damage_grade==2, ['building_id','damage_grade','plan_configuration', 'position','foundation_type']]\n",
        "abc"
      ],
      "metadata": {
        "colab": {
          "base_uri": "https://localhost:8080/"
        },
        "id": "CLncs_HHiCf7",
        "outputId": "77a272b1-56a0-4e65-b694-cdfe389e9939"
      },
      "execution_count": null,
      "outputs": [
        {
          "output_type": "execute_result",
          "data": {
            "text/html": [
              "<div>\n",
              "<style scoped>\n",
              "    .dataframe tbody tr th:only-of-type {\n",
              "        vertical-align: middle;\n",
              "    }\n",
              "\n",
              "    .dataframe tbody tr th {\n",
              "        vertical-align: top;\n",
              "    }\n",
              "\n",
              "    .dataframe thead th {\n",
              "        text-align: right;\n",
              "    }\n",
              "</style>\n",
              "<table border=\"1\" class=\"dataframe\">\n",
              "  <thead>\n",
              "    <tr style=\"text-align: right;\">\n",
              "      <th></th>\n",
              "      <th>building_id</th>\n",
              "      <th>damage_grade</th>\n",
              "      <th>plan_configuration</th>\n",
              "      <th>position</th>\n",
              "      <th>foundation_type</th>\n",
              "    </tr>\n",
              "  </thead>\n",
              "  <tbody>\n",
              "    <tr>\n",
              "      <th>71</th>\n",
              "      <td>708530</td>\n",
              "      <td>2</td>\n",
              "      <td>d</td>\n",
              "      <td>s</td>\n",
              "      <td>i</td>\n",
              "    </tr>\n",
              "    <tr>\n",
              "      <th>370</th>\n",
              "      <td>670830</td>\n",
              "      <td>2</td>\n",
              "      <td>d</td>\n",
              "      <td>s</td>\n",
              "      <td>u</td>\n",
              "    </tr>\n",
              "    <tr>\n",
              "      <th>649</th>\n",
              "      <td>494549</td>\n",
              "      <td>2</td>\n",
              "      <td>d</td>\n",
              "      <td>j</td>\n",
              "      <td>i</td>\n",
              "    </tr>\n",
              "    <tr>\n",
              "      <th>1131</th>\n",
              "      <td>421958</td>\n",
              "      <td>2</td>\n",
              "      <td>d</td>\n",
              "      <td>j</td>\n",
              "      <td>i</td>\n",
              "    </tr>\n",
              "    <tr>\n",
              "      <th>1147</th>\n",
              "      <td>346395</td>\n",
              "      <td>2</td>\n",
              "      <td>d</td>\n",
              "      <td>t</td>\n",
              "      <td>i</td>\n",
              "    </tr>\n",
              "    <tr>\n",
              "      <th>...</th>\n",
              "      <td>...</td>\n",
              "      <td>...</td>\n",
              "      <td>...</td>\n",
              "      <td>...</td>\n",
              "      <td>...</td>\n",
              "    </tr>\n",
              "    <tr>\n",
              "      <th>259759</th>\n",
              "      <td>80727</td>\n",
              "      <td>2</td>\n",
              "      <td>d</td>\n",
              "      <td>j</td>\n",
              "      <td>i</td>\n",
              "    </tr>\n",
              "    <tr>\n",
              "      <th>259880</th>\n",
              "      <td>301604</td>\n",
              "      <td>2</td>\n",
              "      <td>d</td>\n",
              "      <td>j</td>\n",
              "      <td>i</td>\n",
              "    </tr>\n",
              "    <tr>\n",
              "      <th>259905</th>\n",
              "      <td>316817</td>\n",
              "      <td>2</td>\n",
              "      <td>d</td>\n",
              "      <td>t</td>\n",
              "      <td>i</td>\n",
              "    </tr>\n",
              "    <tr>\n",
              "      <th>259976</th>\n",
              "      <td>792503</td>\n",
              "      <td>2</td>\n",
              "      <td>d</td>\n",
              "      <td>s</td>\n",
              "      <td>i</td>\n",
              "    </tr>\n",
              "    <tr>\n",
              "      <th>260532</th>\n",
              "      <td>155803</td>\n",
              "      <td>2</td>\n",
              "      <td>d</td>\n",
              "      <td>j</td>\n",
              "      <td>u</td>\n",
              "    </tr>\n",
              "  </tbody>\n",
              "</table>\n",
              "<p>1402 rows × 5 columns</p>\n",
              "</div>"
            ],
            "text/plain": [
              "        building_id  damage_grade plan_configuration position foundation_type\n",
              "71           708530             2                  d        s               i\n",
              "370          670830             2                  d        s               u\n",
              "649          494549             2                  d        j               i\n",
              "1131         421958             2                  d        j               i\n",
              "1147         346395             2                  d        t               i\n",
              "...             ...           ...                ...      ...             ...\n",
              "259759        80727             2                  d        j               i\n",
              "259880       301604             2                  d        j               i\n",
              "259905       316817             2                  d        t               i\n",
              "259976       792503             2                  d        s               i\n",
              "260532       155803             2                  d        j               u\n",
              "\n",
              "[1402 rows x 5 columns]"
            ]
          },
          "metadata": {},
          "execution_count": 133
        }
      ]
    },
    {
      "cell_type": "code",
      "execution_count": null,
      "metadata": {
        "colab": {
          "base_uri": "https://localhost:8080/"
        },
        "id": "VHhDN6r2CQH-",
        "outputId": "06a32678-72eb-4fe1-ca55-bb43e6f7d035"
      },
      "outputs": [
        {
          "output_type": "execute_result",
          "data": {
            "text/plain": [
              "damage_grade  plan_configuration  position  foundation_type\n",
              "1             d                   s         i                  1090\n",
              "                                  t         i                   623\n",
              "                                  j         i                   439\n",
              "              q                   s         i                    89\n",
              "              d                   s         u                    84\n",
              "                                                               ... \n",
              "              n                   t         w                     0\n",
              "                                            u                     0\n",
              "                                            r                     0\n",
              "                                            i                     0\n",
              "              a                   j         h                     0\n",
              "Length: 200, dtype: int64"
            ]
          },
          "metadata": {},
          "execution_count": 150
        }
      ],
      "source": [
        "#group the dataframe by damage_grade,plan configuration,position and foundation type.\n",
        "\n",
        "\n",
        "abc = data_analysed.loc[new_dataset.damage_grade==1, ['building_id','damage_grade','plan_configuration', 'position','foundation_type']]\n",
        "\n",
        "\n",
        "abcd=abc.groupby(['damage_grade','plan_configuration', 'position','foundation_type']).size().sort_values(ascending=False)  # the plan configuration, position and foundation type for damage grade 1\n",
        "abcd"
      ]
    },
    {
      "cell_type": "code",
      "source": [
        "abce = data_analysed.loc[new_dataset.damage_grade==2, ['building_id','damage_grade','plan_configuration', 'position','foundation_type']]\n",
        "\n",
        "\n",
        "abcf=abce.groupby(['damage_grade','plan_configuration', 'position','foundation_type']).size().sort_values(ascending=False)  # the plan configuration, position and foundation type for damage grade 2\n",
        "abcf"
      ],
      "metadata": {
        "colab": {
          "base_uri": "https://localhost:8080/"
        },
        "id": "yCyImgHML_0k",
        "outputId": "51f93903-d8a2-4b39-f69a-78ca5395f0ba"
      },
      "execution_count": null,
      "outputs": [
        {
          "output_type": "execute_result",
          "data": {
            "text/plain": [
              "damage_grade  plan_configuration  position  foundation_type\n",
              "2             d                   s         i                  520\n",
              "                                  t         i                  321\n",
              "                                  j         i                  221\n",
              "                                  s         u                   96\n",
              "                                  t         u                   33\n",
              "                                                              ... \n",
              "              n                   t         w                    0\n",
              "                                            u                    0\n",
              "                                            r                    0\n",
              "                                            h                    0\n",
              "              a                   j         h                    0\n",
              "Length: 200, dtype: int64"
            ]
          },
          "metadata": {},
          "execution_count": 139
        }
      ]
    },
    {
      "cell_type": "code",
      "execution_count": null,
      "metadata": {
        "id": "64vL2SYNGUH0",
        "colab": {
          "base_uri": "https://localhost:8080/",
          "height": 402
        },
        "outputId": "6d416a06-f5fe-45ac-8461-90ff203ceb38"
      },
      "outputs": [
        {
          "output_type": "execute_result",
          "data": {
            "text/plain": [
              "<matplotlib.axes._subplots.AxesSubplot at 0x7f8ae4b7fe50>"
            ]
          },
          "metadata": {},
          "execution_count": 146
        },
        {
          "output_type": "display_data",
          "data": {
            "image/png": "[encoded data removed]",
            "text/plain": [
              "<Figure size 576x432 with 1 Axes>"
            ]
          },
          "metadata": {
            "needs_background": "light"
          }
        }
      ],
      "source": [
        "#plot the graph for the plan configuration against the damage grade\n",
        "\n",
        "data_analysed.groupby('damage_grade').plan_configuration.value_counts().unstack().plot.bar(figsize=(8,6))"
      ]
    },
    {
      "cell_type": "code",
      "source": [
        "#plot the graph for the foundation type against the damage grade\n",
        "\n",
        "data_analysed.groupby('damage_grade').foundation_type.value_counts().unstack().plot.bar(figsize=(8,6))"
      ],
      "metadata": {
        "colab": {
          "base_uri": "https://localhost:8080/",
          "height": 403
        },
        "id": "r9qr0NjkNryt",
        "outputId": "2ed034f8-66dd-4a4a-fa1e-4e13475f4461"
      },
      "execution_count": null,
      "outputs": [
        {
          "output_type": "execute_result",
          "data": {
            "text/plain": [
              "<matplotlib.axes._subplots.AxesSubplot at 0x7f8ae4adf410>"
            ]
          },
          "metadata": {},
          "execution_count": 147
        },
        {
          "output_type": "display_data",
          "data": {
            "image/png": "[encoded data removed]",
            "text/plain": [
              "<Figure size 576x432 with 1 Axes>"
            ]
          },
          "metadata": {
            "needs_background": "light"
          }
        }
      ]
    },
    {
      "cell_type": "code",
      "source": [
        "#plot the graph for the position type against the damage grade\n",
        "\n",
        "data_analysed.groupby('damage_grade').position.value_counts().unstack().plot.bar(figsize=(8,6))"
      ],
      "metadata": {
        "colab": {
          "base_uri": "https://localhost:8080/",
          "height": 402
        },
        "id": "vFrrlNBgN9LZ",
        "outputId": "f632f254-4276-49eb-d703-cf7d07935487"
      },
      "execution_count": null,
      "outputs": [
        {
          "output_type": "execute_result",
          "data": {
            "text/plain": [
              "<matplotlib.axes._subplots.AxesSubplot at 0x7f8ae4a59990>"
            ]
          },
          "metadata": {},
          "execution_count": 148
        },
        {
          "output_type": "display_data",
          "data": {
            "image/png": "[encoded data removed]",
            "text/plain": [
              "<Figure size 576x432 with 1 Axes>"
            ]
          },
          "metadata": {
            "needs_background": "light"
          }
        }
      ]
    },
    {
      "cell_type": "markdown",
      "source": [
        "#4.2. RESULT\n",
        "\n",
        "After analysing the data set according to the research question, a conculsion based on the data set was drawn which are,\n",
        "\n",
        "**DAMAGE GRADE 1**\n",
        "\n",
        "Configuration type   position   Foundation type\n",
        "      d                 s            i           = 1090 buildings\n",
        "      q                 s            i           = 89 buildings\n",
        "      d                 s            u           = 84 buildings\n",
        "\n",
        "**DAMAGE GRADE**\n",
        "\n",
        "Configuration type   position   Foundation type\n",
        "      d                 s            i           = 520 buildings\n",
        "              "
      ],
      "metadata": {
        "id": "h9y7zY_hQuap"
      }
    }
  ],
  "metadata": {
    "colab": {
      "collapsed_sections": [
        "fLvVwn4DrWbQ",
        "GT1j8hBQYdhA",
        "62v_ZX1d-BQ-",
        "C2C36iL2-OQc",
        "gK_-G4Ut-j8W",
        "DrFFUo_F-1Uz",
        "c4RkEF5q_Ksf",
        "oZygnhEu0oZY",
        "rMwjOKwtAgdB",
        "yCrVU9KzCwcM",
        "wu4B7uFh2OVf"
      ],
      "name": "Research analysis by tony.ipynb",
      "provenance": [],
      "toc_visible": true
    },
    "kernelspec": {
      "display_name": "Python 3",
      "name": "python3"
    },
    "language_info": {
      "name": "python"
    }
  },
  "nbformat": 4,
  "nbformat_minor": 0
}